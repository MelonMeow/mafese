{
 "cells": [
  {
   "cell_type": "code",
   "execution_count": 1,
   "metadata": {
    "pycharm": {
     "name": "#%%\n"
    }
   },
   "outputs": [],
   "source": [
    "from mafese import get_dataset\n",
    "from mafese.wrapper.mha import MhaSelector"
   ]
  },
  {
   "cell_type": "code",
   "execution_count": 2,
   "metadata": {
    "pycharm": {
     "name": "#%%\n"
    }
   },
   "outputs": [
    {
     "name": "stdout",
     "output_type": "stream",
     "text": [
      "Requested CLASSIFICATION dataset: Arrhythmia found and loaded!\n"
     ]
    }
   ],
   "source": [
    "data = get_dataset(\"Arrhythmia\")\n",
    "data.split_train_test(test_size=0.2)"
   ]
  },
  {
   "cell_type": "markdown",
   "metadata": {
    "pycharm": {
     "name": "#%% md\n"
    }
   },
   "source": [
    "## 1. Use MhaSelector class to print out the supported informations"
   ]
  },
  {
   "cell_type": "code",
   "execution_count": 3,
   "metadata": {
    "pycharm": {
     "name": "#%%\n"
    }
   },
   "outputs": [
    {
     "name": "stdout",
     "output_type": "stream",
     "text": [
      "List supported Estimator\n",
      "['knn', 'svm', 'rf', 'adaboost', 'xgb', 'tree', 'ann']\n"
     ]
    }
   ],
   "source": [
    "print(\"List supported Estimator\")\n",
    "print(MhaSelector.SUPPORTED_ESTIMATORS)"
   ]
  },
  {
   "cell_type": "code",
   "execution_count": 4,
   "metadata": {
    "pycharm": {
     "name": "#%%\n"
    }
   },
   "outputs": [
    {
     "name": "stdout",
     "output_type": "stream",
     "text": [
      "List supported Optimizer\n",
      "['OriginalABC', 'OriginalACOR', 'AugmentedAEO', 'EnhancedAEO', 'ImprovedAEO', 'ModifiedAEO', 'OriginalAEO', 'MGTO', 'OriginalAGTO', 'BaseALO', 'OriginalALO', 'OriginalAO', 'OriginalAOA', 'IARO', 'LARO', 'OriginalARO', 'OriginalASO', 'OriginalAVOA', 'OriginalArchOA', 'AdaptiveBA', 'ModifiedBA', 'OriginalBA', 'BaseBBO', 'OriginalBBO', 'OriginalBBOA', 'OriginalBES', 'ABFO', 'OriginalBFO', 'OriginalBMO', 'BaseBRO', 'OriginalBRO', 'OriginalBSA', 'ImprovedBSO', 'OriginalBSO', 'CleverBookBeesA', 'OriginalBeesA', 'ProbBeesA', 'OriginalCA', 'OriginalCDO', 'OriginalCEM', 'OriginalCGO', 'BaseCHIO', 'OriginalCHIO', 'OriginalCOA', 'OCRO', 'OriginalCRO', 'OriginalCSA', 'OriginalCSO', 'OriginalCircleSA', 'OriginalCoatiOA', 'BaseDE', 'JADE', 'L_SHADE', 'SADE', 'SAP_DE', 'SHADE', 'DevDMOA', 'OriginalDMOA', 'OriginalDO', 'BaseEFO', 'OriginalEFO', 'OriginalEHO', 'AdaptiveEO', 'ModifiedEO', 'OriginalEO', 'OriginalEOA', 'LevyEP', 'OriginalEP', 'CMA_ES', 'LevyES', 'OriginalES', 'Simple_CMA_ES', 'OriginalESOA', 'OriginalEVO', 'OriginalFA', 'BaseFBIO', 'OriginalFBIO', 'OriginalFFA', 'OriginalFFO', 'OriginalFLA', 'BaseFOA', 'OriginalFOA', 'WhaleFOA', 'OriginalFOX', 'OriginalFPA', 'BaseGA', 'EliteMultiGA', 'EliteSingleGA', 'MultiGA', 'SingleGA', 'OriginalGBO', 'BaseGCO', 'OriginalGCO', 'OriginalGJO', 'OriginalGOA', 'BaseGSKA', 'OriginalGSKA', 'Matlab101GTO', 'Matlab102GTO', 'OriginalGTO', 'GWO_WOA', 'OriginalGWO', 'RW_GWO', 'OriginalHBA', 'OriginalHBO', 'OriginalHC', 'SwarmHC', 'OriginalHCO', 'OriginalHGS', 'OriginalHGSO', 'OriginalHHO', 'BaseHS', 'OriginalHS', 'OriginalICA', 'OriginalINFO', 'OriginalIWO', 'BaseJA', 'LevyJA', 'OriginalJA', 'BaseLCO', 'ImprovedLCO', 'OriginalLCO', 'OriginalMA', 'BaseMFO', 'OriginalMFO', 'OriginalMGO', 'OriginalMPA', 'OriginalMRFO', 'WMQIMRFO', 'OriginalMSA', 'BaseMVO', 'OriginalMVO', 'OriginalNGO', 'ImprovedNMRA', 'OriginalNMRA', 'OriginalNRO', 'OriginalOOA', 'OriginalPFA', 'OriginalPOA', 'CL_PSO', 'C_PSO', 'HPSO_TVAC', 'OriginalPSO', 'PPSO', 'OriginalPSS', 'BaseQSA', 'ImprovedQSA', 'LevyQSA', 'OppoQSA', 'OriginalQSA', 'OriginalRIME', 'OriginalRUN', 'OriginalSA', 'BaseSARO', 'OriginalSARO', 'BaseSBO', 'OriginalSBO', 'BaseSCA', 'OriginalSCA', 'QleSCA', 'OriginalSCSO', 'ImprovedSFO', 'OriginalSFO', 'OriginalSHIO', 'OriginalSHO', 'ImprovedSLO', 'ModifiedSLO', 'OriginalSLO', 'BaseSMA', 'OriginalSMA', 'DevSOA', 'OriginalSOA', 'OriginalSOS', 'DevSPBO', 'OriginalSPBO', 'OriginalSRSR', 'BaseSSA', 'OriginalSSA', 'OriginalSSDO', 'OriginalSSO', 'OriginalSSpiderA', 'OriginalSSpiderO', 'OriginalSTO', 'OriginalSeaHO', 'OriginalServalOA', 'OriginalTDO', 'BaseTLO', 'ImprovedTLO', 'OriginalTLO', 'OriginalTOA', 'OriginalTPO', 'OriginalTSA', 'OriginalTSO', 'EnhancedTWO', 'LevyTWO', 'OppoTWO', 'OriginalTWO', 'BaseVCS', 'OriginalVCS', 'OriginalWCA', 'OriginalWDO', 'OriginalWHO', 'HI_WOA', 'OriginalWOA', 'OriginalWaOA', 'OriginalWarSO', 'OriginalZOA']\n"
     ]
    }
   ],
   "source": [
    "print(\"List supported Optimizer\")\n",
    "print(MhaSelector.SUPPORTED_OPTIMIZERS)"
   ]
  },
  {
   "cell_type": "code",
   "execution_count": 5,
   "metadata": {
    "pycharm": {
     "name": "#%%\n"
    }
   },
   "outputs": [
    {
     "name": "stdout",
     "output_type": "stream",
     "text": [
      "List supported transfer functions\n",
      "['vstf_01', 'vstf_02', 'vstf_03', 'vstf_04', 'sstf_01', 'sstf_02', 'sstf_03', 'sstf_04', 'rtf']\n"
     ]
    }
   ],
   "source": [
    "print(\"List supported transfer functions\")\n",
    "print(MhaSelector.SUPPORTED_TRANSFER_FUNCS)"
   ]
  },
  {
   "cell_type": "code",
   "execution_count": 6,
   "metadata": {
    "pycharm": {
     "name": "#%%\n"
    }
   },
   "outputs": [
    {
     "name": "stdout",
     "output_type": "stream",
     "text": [
      "List supported fitness metrics for regression problem\n",
      "{'MAE': 'min', 'MSE': 'min', 'RMSE': 'min', 'MRE': 'min', 'MAPE': 'min', 'MASE': 'min', 'NSE': 'max', 'NNSE': 'max', 'WI': 'max', 'PCC': 'max', 'R2s': 'max', 'R2': 'max', 'AR2': 'max', 'CI': 'max', 'KGE': 'max', 'VAF': 'max', 'A10': 'max', 'A20': 'max'}\n"
     ]
    }
   ],
   "source": [
    "print(\"List supported fitness metrics for regression problem\")\n",
    "print(MhaSelector.SUPPORTED_REG_METRICS)"
   ]
  },
  {
   "cell_type": "code",
   "execution_count": 7,
   "metadata": {
    "pycharm": {
     "name": "#%%\n"
    }
   },
   "outputs": [
    {
     "name": "stdout",
     "output_type": "stream",
     "text": [
      "List supported fitness metrics for classification problem\n",
      "{'AS': 'max', 'PS': 'max', 'NPV': 'max', 'RS': 'max', 'F1S': 'max', 'F2S': 'max', 'FBS': 'max', 'SS': 'max', 'MCC': 'max', 'JSI': 'max', 'CKS': 'max', 'ROC-AUC': 'max'}\n"
     ]
    }
   ],
   "source": [
    "print(\"List supported fitness metrics for classification problem\")\n",
    "print(MhaSelector.SUPPORTED_CLS_METRICS)"
   ]
  },
  {
   "cell_type": "code",
   "execution_count": 8,
   "metadata": {
    "pycharm": {
     "name": "#%%\n"
    }
   },
   "outputs": [],
   "source": [
    "## 2. Define an instance of MhaSelector "
   ]
  },
  {
   "cell_type": "code",
   "execution_count": 9,
   "metadata": {
    "pycharm": {
     "name": "#%%\n"
    }
   },
   "outputs": [],
   "source": [
    "feat_selector = MhaSelector(problem=\"classification\", estimator=\"knn\", \n",
    "                            optimizer=\"BaseGA\", optimizer_paras=None,\n",
    "                            transfer_func=\"vstf_01\", obj_name=\"AS\")"
   ]
  },
  {
   "cell_type": "code",
   "execution_count": 10,
   "metadata": {
    "pycharm": {
     "name": "#%%\n"
    }
   },
   "outputs": [],
   "source": [
    "## 3. Train with dataset"
   ]
  },
  {
   "cell_type": "code",
   "execution_count": 11,
   "metadata": {
    "pycharm": {
     "name": "#%%\n"
    }
   },
   "outputs": [
    {
     "name": "stderr",
     "output_type": "stream",
     "text": [
      "2023/06/14 06:23:45 PM, INFO, mealpy.evolutionary_based.GA.BaseGA: Solving 2-objective optimization problem with weights: [1. 0.].\n",
      "2023/06/14 06:23:46 PM, INFO, mealpy.evolutionary_based.GA.BaseGA: >Problem: P, Epoch: 1, Current best: 0.6045570350038051, Global best: 0.6045570350038051, Runtime: 0.32211 seconds\n",
      "2023/06/14 06:23:46 PM, INFO, mealpy.evolutionary_based.GA.BaseGA: >Problem: P, Epoch: 2, Current best: 0.6313205600298792, Global best: 0.6313205600298792, Runtime: 0.33075 seconds\n",
      "2023/06/14 06:23:46 PM, INFO, mealpy.evolutionary_based.GA.BaseGA: >Problem: P, Epoch: 3, Current best: 0.6574038099222834, Global best: 0.6574038099222834, Runtime: 0.33682 seconds\n",
      "2023/06/14 06:23:47 PM, INFO, mealpy.evolutionary_based.GA.BaseGA: >Problem: P, Epoch: 4, Current best: 0.6762493022972229, Global best: 0.6762493022972229, Runtime: 0.32189 seconds\n",
      "2023/06/14 06:23:47 PM, INFO, mealpy.evolutionary_based.GA.BaseGA: >Problem: P, Epoch: 5, Current best: 0.6837299246361667, Global best: 0.6837299246361667, Runtime: 0.31275 seconds\n",
      "2023/06/14 06:23:47 PM, INFO, mealpy.evolutionary_based.GA.BaseGA: >Problem: P, Epoch: 6, Current best: 0.6892829283535297, Global best: 0.6892829283535297, Runtime: 0.31124 seconds\n",
      "2023/06/14 06:23:47 PM, INFO, mealpy.evolutionary_based.GA.BaseGA: >Problem: P, Epoch: 7, Current best: 0.6970566191275349, Global best: 0.6970566191275349, Runtime: 0.32669 seconds\n",
      "2023/06/14 06:23:48 PM, INFO, mealpy.evolutionary_based.GA.BaseGA: >Problem: P, Epoch: 8, Current best: 0.7084253360003474, Global best: 0.7084253360003474, Runtime: 0.32950 seconds\n",
      "2023/06/14 06:23:48 PM, INFO, mealpy.evolutionary_based.GA.BaseGA: >Problem: P, Epoch: 9, Current best: 0.7222954136976188, Global best: 0.7222954136976188, Runtime: 0.32400 seconds\n",
      "2023/06/14 06:23:48 PM, INFO, mealpy.evolutionary_based.GA.BaseGA: >Problem: P, Epoch: 10, Current best: 0.7075935025306388, Global best: 0.7222954136976188, Runtime: 0.32747 seconds\n",
      "2023/06/14 06:23:49 PM, INFO, mealpy.evolutionary_based.GA.BaseGA: >Problem: P, Epoch: 11, Current best: 0.7097450293682391, Global best: 0.7222954136976188, Runtime: 0.32569 seconds\n",
      "2023/06/14 06:23:49 PM, INFO, mealpy.evolutionary_based.GA.BaseGA: >Problem: P, Epoch: 12, Current best: 0.7222613876740047, Global best: 0.7222954136976188, Runtime: 0.31014 seconds\n",
      "2023/06/14 06:23:49 PM, INFO, mealpy.evolutionary_based.GA.BaseGA: >Problem: P, Epoch: 13, Current best: 0.7135498032748981, Global best: 0.7222954136976188, Runtime: 0.31259 seconds\n",
      "2023/06/14 06:23:50 PM, INFO, mealpy.evolutionary_based.GA.BaseGA: >Problem: P, Epoch: 14, Current best: 0.7263488838363475, Global best: 0.7263488838363475, Runtime: 0.30582 seconds\n",
      "2023/06/14 06:23:50 PM, INFO, mealpy.evolutionary_based.GA.BaseGA: >Problem: P, Epoch: 15, Current best: 0.7191080116445597, Global best: 0.7263488838363475, Runtime: 0.31255 seconds\n",
      "2023/06/14 06:23:50 PM, INFO, mealpy.evolutionary_based.GA.BaseGA: >Problem: P, Epoch: 16, Current best: 0.7151655318428228, Global best: 0.7263488838363475, Runtime: 0.31295 seconds\n",
      "2023/06/14 06:23:51 PM, INFO, mealpy.evolutionary_based.GA.BaseGA: >Problem: P, Epoch: 17, Current best: 0.7178007938146677, Global best: 0.7263488838363475, Runtime: 0.31119 seconds\n",
      "2023/06/14 06:23:51 PM, INFO, mealpy.evolutionary_based.GA.BaseGA: >Problem: P, Epoch: 18, Current best: 0.720233886519884, Global best: 0.7263488838363475, Runtime: 0.31311 seconds\n",
      "2023/06/14 06:23:51 PM, INFO, mealpy.evolutionary_based.GA.BaseGA: >Problem: P, Epoch: 19, Current best: 0.7263433381460851, Global best: 0.7263488838363475, Runtime: 0.32881 seconds\n",
      "2023/06/14 06:23:52 PM, INFO, mealpy.evolutionary_based.GA.BaseGA: >Problem: P, Epoch: 20, Current best: 0.7231946223329916, Global best: 0.7263488838363475, Runtime: 0.30992 seconds\n",
      "2023/06/14 06:23:52 PM, INFO, mealpy.evolutionary_based.GA.BaseGA: >Problem: P, Epoch: 21, Current best: 0.7200123307286108, Global best: 0.7263488838363475, Runtime: 0.31027 seconds\n",
      "2023/06/14 06:23:52 PM, INFO, mealpy.evolutionary_based.GA.BaseGA: >Problem: P, Epoch: 22, Current best: 0.7163733565836267, Global best: 0.7263488838363475, Runtime: 0.33123 seconds\n",
      "2023/06/14 06:23:53 PM, INFO, mealpy.evolutionary_based.GA.BaseGA: >Problem: P, Epoch: 23, Current best: 0.7220590646855993, Global best: 0.7263488838363475, Runtime: 0.31913 seconds\n",
      "2023/06/14 06:23:53 PM, INFO, mealpy.evolutionary_based.GA.BaseGA: >Problem: P, Epoch: 24, Current best: 0.715421470433318, Global best: 0.7263488838363475, Runtime: 0.31521 seconds\n",
      "2023/06/14 06:23:53 PM, INFO, mealpy.evolutionary_based.GA.BaseGA: >Problem: P, Epoch: 25, Current best: 0.7165444452152112, Global best: 0.7263488838363475, Runtime: 0.31710 seconds\n",
      "2023/06/14 06:23:54 PM, INFO, mealpy.evolutionary_based.GA.BaseGA: >Problem: P, Epoch: 26, Current best: 0.7182173514496105, Global best: 0.7263488838363475, Runtime: 0.32704 seconds\n",
      "2023/06/14 06:23:54 PM, INFO, mealpy.evolutionary_based.GA.BaseGA: >Problem: P, Epoch: 27, Current best: 0.7155367437690046, Global best: 0.7263488838363475, Runtime: 0.33110 seconds\n",
      "2023/06/14 06:23:54 PM, INFO, mealpy.evolutionary_based.GA.BaseGA: >Problem: P, Epoch: 28, Current best: 0.7245397791902594, Global best: 0.7263488838363475, Runtime: 0.30762 seconds\n",
      "2023/06/14 06:23:55 PM, INFO, mealpy.evolutionary_based.GA.BaseGA: >Problem: P, Epoch: 29, Current best: 0.7186961530338947, Global best: 0.7263488838363475, Runtime: 0.31635 seconds\n",
      "2023/06/14 06:23:55 PM, INFO, mealpy.evolutionary_based.GA.BaseGA: >Problem: P, Epoch: 30, Current best: 0.7256649144935134, Global best: 0.7263488838363475, Runtime: 0.32420 seconds\n",
      "2023/06/14 06:23:55 PM, INFO, mealpy.evolutionary_based.GA.BaseGA: >Problem: P, Epoch: 31, Current best: 0.7305208180378124, Global best: 0.7305208180378124, Runtime: 0.31943 seconds\n",
      "2023/06/14 06:23:55 PM, INFO, mealpy.evolutionary_based.GA.BaseGA: >Problem: P, Epoch: 32, Current best: 0.7353637072130081, Global best: 0.7353637072130081, Runtime: 0.31754 seconds\n",
      "2023/06/14 06:23:56 PM, INFO, mealpy.evolutionary_based.GA.BaseGA: >Problem: P, Epoch: 33, Current best: 0.734101136137561, Global best: 0.7353637072130081, Runtime: 0.33623 seconds\n",
      "2023/06/14 06:23:56 PM, INFO, mealpy.evolutionary_based.GA.BaseGA: >Problem: P, Epoch: 34, Current best: 0.7416029065925022, Global best: 0.7416029065925022, Runtime: 0.34163 seconds\n",
      "2023/06/14 06:23:56 PM, INFO, mealpy.evolutionary_based.GA.BaseGA: >Problem: P, Epoch: 35, Current best: 0.7191712114215021, Global best: 0.7416029065925022, Runtime: 0.31966 seconds\n",
      "2023/06/14 06:23:57 PM, INFO, mealpy.evolutionary_based.GA.BaseGA: >Problem: P, Epoch: 36, Current best: 0.727465209357405, Global best: 0.7416029065925022, Runtime: 0.30954 seconds\n",
      "2023/06/14 06:23:57 PM, INFO, mealpy.evolutionary_based.GA.BaseGA: >Problem: P, Epoch: 37, Current best: 0.7187344461931175, Global best: 0.7416029065925022, Runtime: 0.32471 seconds\n",
      "2023/06/14 06:23:57 PM, INFO, mealpy.evolutionary_based.GA.BaseGA: >Problem: P, Epoch: 38, Current best: 0.72413846572667, Global best: 0.7416029065925022, Runtime: 0.30794 seconds\n",
      "2023/06/14 06:23:58 PM, INFO, mealpy.evolutionary_based.GA.BaseGA: >Problem: P, Epoch: 39, Current best: 0.7263877717188624, Global best: 0.7416029065925022, Runtime: 0.32011 seconds\n",
      "2023/06/14 06:23:58 PM, INFO, mealpy.evolutionary_based.GA.BaseGA: >Problem: P, Epoch: 40, Current best: 0.7214010464535255, Global best: 0.7416029065925022, Runtime: 0.30953 seconds\n",
      "2023/06/14 06:23:58 PM, INFO, mealpy.evolutionary_based.GA.BaseGA: >Problem: P, Epoch: 41, Current best: 0.7245430951425085, Global best: 0.7416029065925022, Runtime: 0.30806 seconds\n",
      "2023/06/14 06:23:59 PM, INFO, mealpy.evolutionary_based.GA.BaseGA: >Problem: P, Epoch: 42, Current best: 0.7277275152671755, Global best: 0.7416029065925022, Runtime: 0.30913 seconds\n",
      "2023/06/14 06:23:59 PM, INFO, mealpy.evolutionary_based.GA.BaseGA: >Problem: P, Epoch: 43, Current best: 0.7295724178296675, Global best: 0.7416029065925022, Runtime: 0.31031 seconds\n",
      "2023/06/14 06:23:59 PM, INFO, mealpy.evolutionary_based.GA.BaseGA: >Problem: P, Epoch: 44, Current best: 0.7317206431701146, Global best: 0.7416029065925022, Runtime: 0.32020 seconds\n",
      "2023/06/14 06:24:00 PM, INFO, mealpy.evolutionary_based.GA.BaseGA: >Problem: P, Epoch: 45, Current best: 0.7153443037703925, Global best: 0.7416029065925022, Runtime: 0.32537 seconds\n"
     ]
    },
    {
     "name": "stderr",
     "output_type": "stream",
     "text": [
      "2023/06/14 06:24:00 PM, INFO, mealpy.evolutionary_based.GA.BaseGA: >Problem: P, Epoch: 46, Current best: 0.7238802625938363, Global best: 0.7416029065925022, Runtime: 0.33557 seconds\n",
      "2023/06/14 06:24:00 PM, INFO, mealpy.evolutionary_based.GA.BaseGA: >Problem: P, Epoch: 47, Current best: 0.719562888888889, Global best: 0.7416029065925022, Runtime: 0.32612 seconds\n",
      "2023/06/14 06:24:01 PM, INFO, mealpy.evolutionary_based.GA.BaseGA: >Problem: P, Epoch: 48, Current best: 0.7271683603961604, Global best: 0.7416029065925022, Runtime: 0.31743 seconds\n",
      "2023/06/14 06:24:01 PM, INFO, mealpy.evolutionary_based.GA.BaseGA: >Problem: P, Epoch: 49, Current best: 0.7319845894891346, Global best: 0.7416029065925022, Runtime: 0.31743 seconds\n",
      "2023/06/14 06:24:01 PM, INFO, mealpy.evolutionary_based.GA.BaseGA: >Problem: P, Epoch: 50, Current best: 0.7302053242893096, Global best: 0.7416029065925022, Runtime: 0.30839 seconds\n",
      "2023/06/14 06:24:02 PM, INFO, mealpy.evolutionary_based.GA.BaseGA: >Problem: P, Epoch: 51, Current best: 0.7272035173790081, Global best: 0.7416029065925022, Runtime: 0.31105 seconds\n",
      "2023/06/14 06:24:02 PM, INFO, mealpy.evolutionary_based.GA.BaseGA: >Problem: P, Epoch: 52, Current best: 0.7226221250803522, Global best: 0.7416029065925022, Runtime: 0.31018 seconds\n",
      "2023/06/14 06:24:02 PM, INFO, mealpy.evolutionary_based.GA.BaseGA: >Problem: P, Epoch: 53, Current best: 0.7194428945119085, Global best: 0.7416029065925022, Runtime: 0.31383 seconds\n",
      "2023/06/14 06:24:02 PM, INFO, mealpy.evolutionary_based.GA.BaseGA: >Problem: P, Epoch: 54, Current best: 0.7189406307564725, Global best: 0.7416029065925022, Runtime: 0.31062 seconds\n",
      "2023/06/14 06:24:03 PM, INFO, mealpy.evolutionary_based.GA.BaseGA: >Problem: P, Epoch: 55, Current best: 0.7289633147979596, Global best: 0.7416029065925022, Runtime: 0.30751 seconds\n",
      "2023/06/14 06:24:03 PM, INFO, mealpy.evolutionary_based.GA.BaseGA: >Problem: P, Epoch: 56, Current best: 0.718143871558641, Global best: 0.7416029065925022, Runtime: 0.30915 seconds\n",
      "2023/06/14 06:24:03 PM, INFO, mealpy.evolutionary_based.GA.BaseGA: >Problem: P, Epoch: 57, Current best: 0.7268151234483814, Global best: 0.7416029065925022, Runtime: 0.30758 seconds\n",
      "2023/06/14 06:24:04 PM, INFO, mealpy.evolutionary_based.GA.BaseGA: >Problem: P, Epoch: 58, Current best: 0.7185365936255687, Global best: 0.7416029065925022, Runtime: 0.31276 seconds\n",
      "2023/06/14 06:24:04 PM, INFO, mealpy.evolutionary_based.GA.BaseGA: >Problem: P, Epoch: 59, Current best: 0.7310736653455054, Global best: 0.7416029065925022, Runtime: 0.31414 seconds\n",
      "2023/06/14 06:24:04 PM, INFO, mealpy.evolutionary_based.GA.BaseGA: >Problem: P, Epoch: 60, Current best: 0.7361676235623753, Global best: 0.7416029065925022, Runtime: 0.33754 seconds\n",
      "2023/06/14 06:24:05 PM, INFO, mealpy.evolutionary_based.GA.BaseGA: >Problem: P, Epoch: 61, Current best: 0.730076435744241, Global best: 0.7416029065925022, Runtime: 0.35402 seconds\n",
      "2023/06/14 06:24:05 PM, INFO, mealpy.evolutionary_based.GA.BaseGA: >Problem: P, Epoch: 62, Current best: 0.7274342406677042, Global best: 0.7416029065925022, Runtime: 0.31537 seconds\n",
      "2023/06/14 06:24:05 PM, INFO, mealpy.evolutionary_based.GA.BaseGA: >Problem: P, Epoch: 63, Current best: 0.7308749714460335, Global best: 0.7416029065925022, Runtime: 0.37283 seconds\n",
      "2023/06/14 06:24:06 PM, INFO, mealpy.evolutionary_based.GA.BaseGA: >Problem: P, Epoch: 64, Current best: 0.7221255958245985, Global best: 0.7416029065925022, Runtime: 0.33537 seconds\n",
      "2023/06/14 06:24:06 PM, INFO, mealpy.evolutionary_based.GA.BaseGA: >Problem: P, Epoch: 65, Current best: 0.7314610878182138, Global best: 0.7416029065925022, Runtime: 0.31576 seconds\n",
      "2023/06/14 06:24:06 PM, INFO, mealpy.evolutionary_based.GA.BaseGA: >Problem: P, Epoch: 66, Current best: 0.7228316793219912, Global best: 0.7416029065925022, Runtime: 0.33902 seconds\n",
      "2023/06/14 06:24:07 PM, INFO, mealpy.evolutionary_based.GA.BaseGA: >Problem: P, Epoch: 67, Current best: 0.7332550475785071, Global best: 0.7416029065925022, Runtime: 0.32741 seconds\n",
      "2023/06/14 06:24:07 PM, INFO, mealpy.evolutionary_based.GA.BaseGA: >Problem: P, Epoch: 68, Current best: 0.7237607282850282, Global best: 0.7416029065925022, Runtime: 0.31783 seconds\n",
      "2023/06/14 06:24:07 PM, INFO, mealpy.evolutionary_based.GA.BaseGA: >Problem: P, Epoch: 69, Current best: 0.7224056926028691, Global best: 0.7416029065925022, Runtime: 0.31647 seconds\n",
      "2023/06/14 06:24:08 PM, INFO, mealpy.evolutionary_based.GA.BaseGA: >Problem: P, Epoch: 70, Current best: 0.7214333871831395, Global best: 0.7416029065925022, Runtime: 0.32051 seconds\n",
      "2023/06/14 06:24:08 PM, INFO, mealpy.evolutionary_based.GA.BaseGA: >Problem: P, Epoch: 71, Current best: 0.7239274636675476, Global best: 0.7416029065925022, Runtime: 0.32120 seconds\n",
      "2023/06/14 06:24:08 PM, INFO, mealpy.evolutionary_based.GA.BaseGA: >Problem: P, Epoch: 72, Current best: 0.7248803027872663, Global best: 0.7416029065925022, Runtime: 0.32308 seconds\n",
      "2023/06/14 06:24:09 PM, INFO, mealpy.evolutionary_based.GA.BaseGA: >Problem: P, Epoch: 73, Current best: 0.7256440479804485, Global best: 0.7416029065925022, Runtime: 0.31261 seconds\n",
      "2023/06/14 06:24:09 PM, INFO, mealpy.evolutionary_based.GA.BaseGA: >Problem: P, Epoch: 74, Current best: 0.713688859273643, Global best: 0.7416029065925022, Runtime: 0.31317 seconds\n",
      "2023/06/14 06:24:09 PM, INFO, mealpy.evolutionary_based.GA.BaseGA: >Problem: P, Epoch: 75, Current best: 0.7267036774695428, Global best: 0.7416029065925022, Runtime: 0.33135 seconds\n",
      "2023/06/14 06:24:10 PM, INFO, mealpy.evolutionary_based.GA.BaseGA: >Problem: P, Epoch: 76, Current best: 0.7292658428011716, Global best: 0.7416029065925022, Runtime: 0.32192 seconds\n",
      "2023/06/14 06:24:10 PM, INFO, mealpy.evolutionary_based.GA.BaseGA: >Problem: P, Epoch: 77, Current best: 0.7318253525810478, Global best: 0.7416029065925022, Runtime: 0.32992 seconds\n",
      "2023/06/14 06:24:10 PM, INFO, mealpy.evolutionary_based.GA.BaseGA: >Problem: P, Epoch: 78, Current best: 0.7184777483060267, Global best: 0.7416029065925022, Runtime: 0.31309 seconds\n",
      "2023/06/14 06:24:11 PM, INFO, mealpy.evolutionary_based.GA.BaseGA: >Problem: P, Epoch: 79, Current best: 0.7231685494560448, Global best: 0.7416029065925022, Runtime: 0.31239 seconds\n",
      "2023/06/14 06:24:11 PM, INFO, mealpy.evolutionary_based.GA.BaseGA: >Problem: P, Epoch: 80, Current best: 0.7215676722548662, Global best: 0.7416029065925022, Runtime: 0.31709 seconds\n",
      "2023/06/14 06:24:11 PM, INFO, mealpy.evolutionary_based.GA.BaseGA: >Problem: P, Epoch: 81, Current best: 0.715070211272508, Global best: 0.7416029065925022, Runtime: 0.32076 seconds\n",
      "2023/06/14 06:24:12 PM, INFO, mealpy.evolutionary_based.GA.BaseGA: >Problem: P, Epoch: 82, Current best: 0.7214742871010478, Global best: 0.7416029065925022, Runtime: 0.32499 seconds\n",
      "2023/06/14 06:24:12 PM, INFO, mealpy.evolutionary_based.GA.BaseGA: >Problem: P, Epoch: 83, Current best: 0.7372260075380276, Global best: 0.7416029065925022, Runtime: 0.34561 seconds\n",
      "2023/06/14 06:24:12 PM, INFO, mealpy.evolutionary_based.GA.BaseGA: >Problem: P, Epoch: 84, Current best: 0.7314854008740502, Global best: 0.7416029065925022, Runtime: 0.31467 seconds\n",
      "2023/06/14 06:24:13 PM, INFO, mealpy.evolutionary_based.GA.BaseGA: >Problem: P, Epoch: 85, Current best: 0.7156976031903723, Global best: 0.7416029065925022, Runtime: 0.31241 seconds\n",
      "2023/06/14 06:24:13 PM, INFO, mealpy.evolutionary_based.GA.BaseGA: >Problem: P, Epoch: 86, Current best: 0.7238465628016413, Global best: 0.7416029065925022, Runtime: 0.32033 seconds\n",
      "2023/06/14 06:24:13 PM, INFO, mealpy.evolutionary_based.GA.BaseGA: >Problem: P, Epoch: 87, Current best: 0.728673030934231, Global best: 0.7416029065925022, Runtime: 0.33316 seconds\n",
      "2023/06/14 06:24:14 PM, INFO, mealpy.evolutionary_based.GA.BaseGA: >Problem: P, Epoch: 88, Current best: 0.7215908421928301, Global best: 0.7416029065925022, Runtime: 0.32386 seconds\n",
      "2023/06/14 06:24:14 PM, INFO, mealpy.evolutionary_based.GA.BaseGA: >Problem: P, Epoch: 89, Current best: 0.7278914800214805, Global best: 0.7416029065925022, Runtime: 0.35785 seconds\n",
      "2023/06/14 06:24:14 PM, INFO, mealpy.evolutionary_based.GA.BaseGA: >Problem: P, Epoch: 90, Current best: 0.7301662901156907, Global best: 0.7416029065925022, Runtime: 0.33740 seconds\n"
     ]
    },
    {
     "name": "stderr",
     "output_type": "stream",
     "text": [
      "2023/06/14 06:24:15 PM, INFO, mealpy.evolutionary_based.GA.BaseGA: >Problem: P, Epoch: 91, Current best: 0.7380922173483714, Global best: 0.7416029065925022, Runtime: 0.33836 seconds\n",
      "2023/06/14 06:24:15 PM, INFO, mealpy.evolutionary_based.GA.BaseGA: >Problem: P, Epoch: 92, Current best: 0.7330150776835145, Global best: 0.7416029065925022, Runtime: 0.31827 seconds\n",
      "2023/06/14 06:24:15 PM, INFO, mealpy.evolutionary_based.GA.BaseGA: >Problem: P, Epoch: 93, Current best: 0.7287094046970399, Global best: 0.7416029065925022, Runtime: 0.32466 seconds\n",
      "2023/06/14 06:24:16 PM, INFO, mealpy.evolutionary_based.GA.BaseGA: >Problem: P, Epoch: 94, Current best: 0.7383228915591125, Global best: 0.7416029065925022, Runtime: 0.34689 seconds\n",
      "2023/06/14 06:24:16 PM, INFO, mealpy.evolutionary_based.GA.BaseGA: >Problem: P, Epoch: 95, Current best: 0.7331692124690503, Global best: 0.7416029065925022, Runtime: 0.32775 seconds\n",
      "2023/06/14 06:24:16 PM, INFO, mealpy.evolutionary_based.GA.BaseGA: >Problem: P, Epoch: 96, Current best: 0.7407282771759769, Global best: 0.7416029065925022, Runtime: 0.31038 seconds\n",
      "2023/06/14 06:24:17 PM, INFO, mealpy.evolutionary_based.GA.BaseGA: >Problem: P, Epoch: 97, Current best: 0.7176114014715766, Global best: 0.7416029065925022, Runtime: 0.36055 seconds\n",
      "2023/06/14 06:24:17 PM, INFO, mealpy.evolutionary_based.GA.BaseGA: >Problem: P, Epoch: 98, Current best: 0.7354050011494817, Global best: 0.7416029065925022, Runtime: 0.31450 seconds\n",
      "2023/06/14 06:24:17 PM, INFO, mealpy.evolutionary_based.GA.BaseGA: >Problem: P, Epoch: 99, Current best: 0.7285601210938426, Global best: 0.7416029065925022, Runtime: 0.31301 seconds\n",
      "2023/06/14 06:24:17 PM, INFO, mealpy.evolutionary_based.GA.BaseGA: >Problem: P, Epoch: 100, Current best: 0.7409712239416527, Global best: 0.7416029065925022, Runtime: 0.31459 seconds\n"
     ]
    }
   ],
   "source": [
    "feat_selector.fit(data.X_train, data.y_train)"
   ]
  },
  {
   "cell_type": "code",
   "execution_count": 12,
   "metadata": {
    "pycharm": {
     "name": "#%%\n"
    }
   },
   "outputs": [],
   "source": [
    "## 4. Transform the dataset "
   ]
  },
  {
   "cell_type": "code",
   "execution_count": 20,
   "metadata": {
    "pycharm": {
     "name": "#%%\n"
    }
   },
   "outputs": [
    {
     "name": "stdout",
     "output_type": "stream",
     "text": [
      "Original Dataset: (361, 279)\n",
      "Selected dataset: (91, 24)\n"
     ]
    }
   ],
   "source": [
    "X_selected = feat_selector.transform(data.X_test)\n",
    "print(f\"Original Dataset: {data.X_train.shape}\")        \n",
    "print(f\"Selected dataset: {X_selected.shape}\")        "
   ]
  },
  {
   "cell_type": "markdown",
   "metadata": {
    "pycharm": {
     "name": "#%% md\n"
    }
   },
   "source": [
    "## 5. Get some informations"
   ]
  },
  {
   "cell_type": "code",
   "execution_count": 21,
   "metadata": {
    "pycharm": {
     "name": "#%%\n"
    }
   },
   "outputs": [
    {
     "name": "stdout",
     "output_type": "stream",
     "text": [
      "{'obj': 0.82961, 'fit': 0.7416029065925022}\n",
      "[ True False False False False False False  True  True False False False\n",
      " False False False False False False False False False False False False\n",
      " False False False False False False False False False False  True False\n",
      " False False False False False False False False  True False False False\n",
      " False  True False False False False False  True False False False False\n",
      " False False False False False False False False False False False False\n",
      "  True False False False False False False False False  True False False\n",
      " False False False False False False  True False False False False False\n",
      " False False False False False False False False False False False False\n",
      " False False False  True False False False False False False False False\n",
      " False False False False False  True False False False False False False\n",
      " False False False False False False False  True False False False False\n",
      " False False False False  True False False False False False False False\n",
      " False False False False False  True False False False False False  True\n",
      " False False False False False False False False False False False False\n",
      " False False False False False False False False False False False False\n",
      " False False False False  True False  True False False False False False\n",
      " False False False False False False  True False  True False False False\n",
      " False False False False False False False False False False False False\n",
      " False False False False False False False False  True False False False\n",
      " False False False False False False False False False False False  True\n",
      " False False False False False False False False False False False False\n",
      " False False False False  True False False False False  True False False\n",
      " False False False]\n",
      "[1 0 0 0 0 0 0 1 1 0 0 0 0 0 0 0 0 0 0 0 0 0 0 0 0 0 0 0 0 0 0 0 0 0 1 0 0\n",
      " 0 0 0 0 0 0 0 1 0 0 0 0 1 0 0 0 0 0 1 0 0 0 0 0 0 0 0 0 0 0 0 0 0 0 0 1 0\n",
      " 0 0 0 0 0 0 0 1 0 0 0 0 0 0 0 0 1 0 0 0 0 0 0 0 0 0 0 0 0 0 0 0 0 0 0 0 0\n",
      " 1 0 0 0 0 0 0 0 0 0 0 0 0 0 1 0 0 0 0 0 0 0 0 0 0 0 0 0 1 0 0 0 0 0 0 0 0\n",
      " 1 0 0 0 0 0 0 0 0 0 0 0 0 1 0 0 0 0 0 1 0 0 0 0 0 0 0 0 0 0 0 0 0 0 0 0 0\n",
      " 0 0 0 0 0 0 0 0 0 0 0 1 0 1 0 0 0 0 0 0 0 0 0 0 0 1 0 1 0 0 0 0 0 0 0 0 0\n",
      " 0 0 0 0 0 0 0 0 0 0 0 0 0 0 1 0 0 0 0 0 0 0 0 0 0 0 0 0 0 1 0 0 0 0 0 0 0\n",
      " 0 0 0 0 0 0 0 0 0 1 0 0 0 0 1 0 0 0 0 0]\n",
      "[  0   7   8  34  44  49  55  72  81  90 111 125 139 148 161 167 196 198\n",
      " 210 212 236 251 268 273]\n"
     ]
    }
   ],
   "source": [
    "print(feat_selector.get_best_obj_and_fit())            \n",
    "print(feat_selector.selected_feature_masks)\n",
    "print(feat_selector.selected_feature_solution)\n",
    "print(feat_selector.selected_feature_indexes)"
   ]
  },
  {
   "cell_type": "code",
   "execution_count": 22,
   "metadata": {
    "pycharm": {
     "name": "#%%\n"
    }
   },
   "outputs": [],
   "source": [
    "## 6. Retrain and evaluate our final dataset"
   ]
  },
  {
   "cell_type": "markdown",
   "metadata": {
    "pycharm": {
     "name": "#%% md\n"
    }
   },
   "source": [
    "### 6.1 Use the same model as feature selector to evaluate final dataset."
   ]
  },
  {
   "cell_type": "code",
   "execution_count": 23,
   "metadata": {
    "pycharm": {
     "name": "#%%\n"
    }
   },
   "outputs": [
    {
     "ename": "ValueError",
     "evalue": "Existed at least one new label in y_pred.",
     "output_type": "error",
     "traceback": [
      "\u001B[1;31m---------------------------------------------------------------------------\u001B[0m",
      "\u001B[1;31mValueError\u001B[0m                                Traceback (most recent call last)",
      "Cell \u001B[1;32mIn [23], line 3\u001B[0m\n\u001B[0;32m      1\u001B[0m \u001B[38;5;28;01mfrom\u001B[39;00m \u001B[38;5;21;01mmafese\u001B[39;00m \u001B[38;5;28;01mimport\u001B[39;00m evaluator\n\u001B[1;32m----> 3\u001B[0m res1 \u001B[38;5;241m=\u001B[39m \u001B[43mevaluator\u001B[49m\u001B[38;5;241;43m.\u001B[39;49m\u001B[43mevaluate\u001B[49m\u001B[43m(\u001B[49m\u001B[43mselector\u001B[49m\u001B[38;5;241;43m=\u001B[39;49m\u001B[43mfeat_selector\u001B[49m\u001B[43m,\u001B[49m\u001B[43m \u001B[49m\u001B[43mestimator\u001B[49m\u001B[38;5;241;43m=\u001B[39;49m\u001B[38;5;28;43;01mNone\u001B[39;49;00m\u001B[43m,\u001B[49m\u001B[43m \u001B[49m\u001B[43mdata\u001B[49m\u001B[38;5;241;43m=\u001B[39;49m\u001B[43mdata\u001B[49m\u001B[43m,\u001B[49m\u001B[43m \u001B[49m\u001B[43mmetrics\u001B[49m\u001B[38;5;241;43m=\u001B[39;49m\u001B[43m[\u001B[49m\u001B[38;5;124;43m\"\u001B[39;49m\u001B[38;5;124;43mAS\u001B[39;49m\u001B[38;5;124;43m\"\u001B[39;49m\u001B[43m,\u001B[49m\u001B[43m \u001B[49m\u001B[38;5;124;43m\"\u001B[39;49m\u001B[38;5;124;43mPS\u001B[39;49m\u001B[38;5;124;43m\"\u001B[39;49m\u001B[43m,\u001B[49m\u001B[43m \u001B[49m\u001B[38;5;124;43m\"\u001B[39;49m\u001B[38;5;124;43mRS\u001B[39;49m\u001B[38;5;124;43m\"\u001B[39;49m\u001B[43m]\u001B[49m\u001B[43m)\u001B[49m\n\u001B[0;32m      4\u001B[0m \u001B[38;5;66;03m# AS: Accuracy score, PS: precision score, RS: recall score\u001B[39;00m\n\u001B[0;32m      5\u001B[0m \u001B[38;5;28mprint\u001B[39m(res1)\n",
      "File \u001B[1;32mD:\\github\\libs\\mafese\\mafese\\evaluator.py:57\u001B[0m, in \u001B[0;36mevaluate\u001B[1;34m(selector, estimator, data, metrics)\u001B[0m\n\u001B[0;32m     55\u001B[0m         \u001B[38;5;28;01mraise\u001B[39;00m \u001B[38;5;167;01mValueError\u001B[39;00m(\u001B[38;5;124m\"\u001B[39m\u001B[38;5;124mYou need to pass a list of performance metrics. See the supported metrics at https://github.com/thieu1995/permetrics\u001B[39m\u001B[38;5;124m\"\u001B[39m)\n\u001B[0;32m     56\u001B[0m     \u001B[38;5;28;01melse\u001B[39;00m:\n\u001B[1;32m---> 57\u001B[0m         \u001B[38;5;28;01mreturn\u001B[39;00m \u001B[43m__get_metrics\u001B[49m\u001B[43m(\u001B[49m\u001B[43mselector\u001B[49m\u001B[43m,\u001B[49m\u001B[43m \u001B[49m\u001B[43mselector\u001B[49m\u001B[38;5;241;43m.\u001B[39;49m\u001B[43mestimator\u001B[49m\u001B[43m,\u001B[49m\u001B[43m \u001B[49m\u001B[43mX_train\u001B[49m\u001B[43m,\u001B[49m\u001B[43m \u001B[49m\u001B[43my_train\u001B[49m\u001B[43m,\u001B[49m\u001B[43m \u001B[49m\u001B[43mX_test\u001B[49m\u001B[43m,\u001B[49m\u001B[43m \u001B[49m\u001B[43my_test\u001B[49m\u001B[43m,\u001B[49m\u001B[43m \u001B[49m\u001B[43mmetrics\u001B[49m\u001B[43m)\u001B[49m\n\u001B[0;32m     58\u001B[0m \u001B[38;5;28;01melse\u001B[39;00m:\n\u001B[0;32m     59\u001B[0m     \u001B[38;5;28;01mif\u001B[39;00m data \u001B[38;5;129;01mis\u001B[39;00m \u001B[38;5;28;01mNone\u001B[39;00m:\n",
      "File \u001B[1;32mD:\\github\\libs\\mafese\\mafese\\evaluator.py:41\u001B[0m, in \u001B[0;36m__get_metrics\u001B[1;34m(selector, estimator, X_train, y_train, X_test, y_test, metrics)\u001B[0m\n\u001B[0;32m     39\u001B[0m y_test_pred \u001B[38;5;241m=\u001B[39m estimator\u001B[38;5;241m.\u001B[39mpredict(X_test)\n\u001B[0;32m     40\u001B[0m train_result \u001B[38;5;241m=\u001B[39m __get_results(selector\u001B[38;5;241m.\u001B[39mproblem, y_train, y_train_pred, testcase\u001B[38;5;241m=\u001B[39m\u001B[38;5;124m\"\u001B[39m\u001B[38;5;124mtrain\u001B[39m\u001B[38;5;124m\"\u001B[39m)\n\u001B[1;32m---> 41\u001B[0m test_result \u001B[38;5;241m=\u001B[39m \u001B[43m__get_results\u001B[49m\u001B[43m(\u001B[49m\u001B[43mselector\u001B[49m\u001B[38;5;241;43m.\u001B[39;49m\u001B[43mproblem\u001B[49m\u001B[43m,\u001B[49m\u001B[43m \u001B[49m\u001B[43my_test\u001B[49m\u001B[43m,\u001B[49m\u001B[43m \u001B[49m\u001B[43my_test_pred\u001B[49m\u001B[43m,\u001B[49m\u001B[43m \u001B[49m\u001B[43mtestcase\u001B[49m\u001B[38;5;241;43m=\u001B[39;49m\u001B[38;5;124;43m\"\u001B[39;49m\u001B[38;5;124;43mtest\u001B[39;49m\u001B[38;5;124;43m\"\u001B[39;49m\u001B[43m)\u001B[49m\n\u001B[0;32m     42\u001B[0m \u001B[38;5;28;01mreturn\u001B[39;00m {\u001B[38;5;241m*\u001B[39m\u001B[38;5;241m*\u001B[39mtrain_result, \u001B[38;5;241m*\u001B[39m\u001B[38;5;241m*\u001B[39mtest_result}\n",
      "File \u001B[1;32mD:\\github\\libs\\mafese\\mafese\\evaluator.py:29\u001B[0m, in \u001B[0;36m__get_metrics.<locals>.__get_results\u001B[1;34m(problem, y_true, y_pred, testcase)\u001B[0m\n\u001B[0;32m     27\u001B[0m     result \u001B[38;5;241m=\u001B[39m evaluator\u001B[38;5;241m.\u001B[39mget_metrics_by_dict(metrics)\n\u001B[0;32m     28\u001B[0m \u001B[38;5;28;01melif\u001B[39;00m \u001B[38;5;28mtype\u001B[39m(metrics) \u001B[38;5;129;01min\u001B[39;00m (\u001B[38;5;28mtuple\u001B[39m, \u001B[38;5;28mlist\u001B[39m):\n\u001B[1;32m---> 29\u001B[0m     result \u001B[38;5;241m=\u001B[39m \u001B[43mevaluator\u001B[49m\u001B[38;5;241;43m.\u001B[39;49m\u001B[43mget_metrics_by_list_names\u001B[49m\u001B[43m(\u001B[49m\u001B[43mmetrics\u001B[49m\u001B[43m,\u001B[49m\u001B[43m \u001B[49m\u001B[43mparas\u001B[49m\u001B[43m)\u001B[49m\n\u001B[0;32m     30\u001B[0m \u001B[38;5;28;01melse\u001B[39;00m:\n\u001B[0;32m     31\u001B[0m     \u001B[38;5;28;01mraise\u001B[39;00m \u001B[38;5;167;01mValueError\u001B[39;00m(\u001B[38;5;124m\"\u001B[39m\u001B[38;5;124mmetrics parameter should be a list or dict\u001B[39m\u001B[38;5;124m\"\u001B[39m)\n",
      "File \u001B[1;32mc:\\users\\nguye\\pve_lib\\lib\\site-packages\\permetrics\\evaluator.py:100\u001B[0m, in \u001B[0;36mEvaluator.get_metrics_by_list_names\u001B[1;34m(self, list_metric_names, list_paras)\u001B[0m\n\u001B[0;32m     98\u001B[0m             results[metric_name] \u001B[38;5;241m=\u001B[39m obj()\n\u001B[0;32m     99\u001B[0m         \u001B[38;5;28;01melse\u001B[39;00m:\n\u001B[1;32m--> 100\u001B[0m             results[metric_name] \u001B[38;5;241m=\u001B[39m \u001B[43mobj\u001B[49m\u001B[43m(\u001B[49m\u001B[38;5;241;43m*\u001B[39;49m\u001B[38;5;241;43m*\u001B[39;49m\u001B[43mlist_paras\u001B[49m\u001B[43m[\u001B[49m\u001B[43midx\u001B[49m\u001B[43m]\u001B[49m\u001B[43m)\u001B[49m\n\u001B[0;32m    101\u001B[0m \u001B[38;5;28;01mreturn\u001B[39;00m results\n",
      "File \u001B[1;32mc:\\users\\nguye\\pve_lib\\lib\\site-packages\\permetrics\\classification.py:235\u001B[0m, in \u001B[0;36mClassificationMetric.accuracy_score\u001B[1;34m(self, y_true, y_pred, labels, average, decimal)\u001B[0m\n\u001B[0;32m    221\u001B[0m \u001B[38;5;28;01mdef\u001B[39;00m \u001B[38;5;21maccuracy_score\u001B[39m(\u001B[38;5;28mself\u001B[39m, y_true\u001B[38;5;241m=\u001B[39m\u001B[38;5;28;01mNone\u001B[39;00m, y_pred\u001B[38;5;241m=\u001B[39m\u001B[38;5;28;01mNone\u001B[39;00m, labels\u001B[38;5;241m=\u001B[39m\u001B[38;5;28;01mNone\u001B[39;00m, average\u001B[38;5;241m=\u001B[39m\u001B[38;5;124m\"\u001B[39m\u001B[38;5;124mmacro\u001B[39m\u001B[38;5;124m\"\u001B[39m, decimal\u001B[38;5;241m=\u001B[39m\u001B[38;5;28;01mNone\u001B[39;00m):\n\u001B[0;32m    222\u001B[0m     \u001B[38;5;124;03m\"\"\"\u001B[39;00m\n\u001B[0;32m    223\u001B[0m \u001B[38;5;124;03m    Generate accuracy score for multiple classification problem\u001B[39;00m\n\u001B[0;32m    224\u001B[0m \n\u001B[1;32m   (...)\u001B[0m\n\u001B[0;32m    233\u001B[0m \u001B[38;5;124;03m        accuracy (float, dict): the accuracy score\u001B[39;00m\n\u001B[0;32m    234\u001B[0m \u001B[38;5;124;03m    \"\"\"\u001B[39;00m\n\u001B[1;32m--> 235\u001B[0m     y_true, y_pred, binary, representor, decimal \u001B[38;5;241m=\u001B[39m \u001B[38;5;28;43mself\u001B[39;49m\u001B[38;5;241;43m.\u001B[39;49m\u001B[43mget_processed_data\u001B[49m\u001B[43m(\u001B[49m\u001B[43my_true\u001B[49m\u001B[43m,\u001B[49m\u001B[43m \u001B[49m\u001B[43my_pred\u001B[49m\u001B[43m,\u001B[49m\u001B[43m \u001B[49m\u001B[43mdecimal\u001B[49m\u001B[43m)\u001B[49m\n\u001B[0;32m    236\u001B[0m     matrix, imap, imap_count \u001B[38;5;241m=\u001B[39m calculate_confusion_matrix(y_true, y_pred, labels, normalize\u001B[38;5;241m=\u001B[39m\u001B[38;5;28;01mNone\u001B[39;00m)\n\u001B[0;32m    237\u001B[0m     metrics \u001B[38;5;241m=\u001B[39m calculate_single_label_metric(matrix, imap, imap_count)\n",
      "File \u001B[1;32mc:\\users\\nguye\\pve_lib\\lib\\site-packages\\permetrics\\classification.py:56\u001B[0m, in \u001B[0;36mClassificationMetric.get_processed_data\u001B[1;34m(self, y_true, y_pred, decimal)\u001B[0m\n\u001B[0;32m     54\u001B[0m \u001B[38;5;28;01melse\u001B[39;00m:\n\u001B[0;32m     55\u001B[0m     \u001B[38;5;28;01mif\u001B[39;00m (\u001B[38;5;28mself\u001B[39m\u001B[38;5;241m.\u001B[39my_true \u001B[38;5;129;01mis\u001B[39;00m \u001B[38;5;129;01mnot\u001B[39;00m \u001B[38;5;28;01mNone\u001B[39;00m) \u001B[38;5;129;01mand\u001B[39;00m (\u001B[38;5;28mself\u001B[39m\u001B[38;5;241m.\u001B[39my_pred \u001B[38;5;129;01mis\u001B[39;00m \u001B[38;5;129;01mnot\u001B[39;00m \u001B[38;5;28;01mNone\u001B[39;00m):\n\u001B[1;32m---> 56\u001B[0m         y_true, y_pred, binary, representor \u001B[38;5;241m=\u001B[39m \u001B[43mformat_classification_data\u001B[49m\u001B[43m(\u001B[49m\u001B[38;5;28;43mself\u001B[39;49m\u001B[38;5;241;43m.\u001B[39;49m\u001B[43my_true\u001B[49m\u001B[43m,\u001B[49m\u001B[43m \u001B[49m\u001B[38;5;28;43mself\u001B[39;49m\u001B[38;5;241;43m.\u001B[39;49m\u001B[43my_pred\u001B[49m\u001B[43m)\u001B[49m\n\u001B[0;32m     57\u001B[0m     \u001B[38;5;28;01melse\u001B[39;00m:\n\u001B[0;32m     58\u001B[0m         \u001B[38;5;28;01mraise\u001B[39;00m \u001B[38;5;167;01mValueError\u001B[39;00m(\u001B[38;5;124m\"\u001B[39m\u001B[38;5;124my_true or y_pred is None. You need to pass y_true and y_pred to object creation or function called.\u001B[39m\u001B[38;5;124m\"\u001B[39m)\n",
      "File \u001B[1;32mc:\\users\\nguye\\pve_lib\\lib\\site-packages\\permetrics\\utils\\data_util.py:128\u001B[0m, in \u001B[0;36mformat_classification_data\u001B[1;34m(y_true, y_pred)\u001B[0m\n\u001B[0;32m    126\u001B[0m unique_true, unique_pred \u001B[38;5;241m=\u001B[39m \u001B[38;5;28msorted\u001B[39m(np\u001B[38;5;241m.\u001B[39munique(y_true)), \u001B[38;5;28msorted\u001B[39m(np\u001B[38;5;241m.\u001B[39munique(y_pred))\n\u001B[0;32m    127\u001B[0m \u001B[38;5;28;01mif\u001B[39;00m \u001B[38;5;129;01mnot\u001B[39;00m (\u001B[38;5;28mlen\u001B[39m(unique_pred) \u001B[38;5;241m<\u001B[39m\u001B[38;5;241m=\u001B[39m \u001B[38;5;28mlen\u001B[39m(unique_true) \u001B[38;5;129;01mand\u001B[39;00m np\u001B[38;5;241m.\u001B[39misin(unique_pred, unique_true)\u001B[38;5;241m.\u001B[39mall()):\n\u001B[1;32m--> 128\u001B[0m     \u001B[38;5;28;01mraise\u001B[39;00m \u001B[38;5;167;01mValueError\u001B[39;00m(\u001B[38;5;124m\"\u001B[39m\u001B[38;5;124mExisted at least one new label in y_pred.\u001B[39m\u001B[38;5;124m\"\u001B[39m)\n\u001B[0;32m    129\u001B[0m \u001B[38;5;28;01melse\u001B[39;00m:\n\u001B[0;32m    130\u001B[0m     binary \u001B[38;5;241m=\u001B[39m \u001B[38;5;28mlen\u001B[39m(unique_true) \u001B[38;5;241m==\u001B[39m \u001B[38;5;241m2\u001B[39m\n",
      "\u001B[1;31mValueError\u001B[0m: Existed at least one new label in y_pred."
     ]
    }
   ],
   "source": [
    "from mafese import evaluator\n",
    "\n",
    "res1 = evaluator.evaluate(selector=feat_selector, estimator=None, data=data, metrics=[\"AS\", \"PS\", \"RS\"])\n",
    "# AS: Accuracy score, PS: precision score, RS: recall score\n",
    "print(res1)"
   ]
  },
  {
   "cell_type": "markdown",
   "metadata": {
    "pycharm": {
     "name": "#%% md\n"
    }
   },
   "source": [
    "### 6.2 But I want to use different model to evaluate final dataset"
   ]
  },
  {
   "cell_type": "code",
   "execution_count": 24,
   "metadata": {
    "pycharm": {
     "name": "#%%\n"
    }
   },
   "outputs": [
    {
     "name": "stdout",
     "output_type": "stream",
     "text": [
      "{'AS_train': 0.79327, 'PS_train': 0.57346, 'RS_train': 0.65928, 'AS_test': 0.7737, 'PS_test': 0.57953, 'RS_test': 0.6044}\n"
     ]
    }
   ],
   "source": [
    "from mafese import evaluator\n",
    "from sklearn.svm import SVC\n",
    "\n",
    "res2 = evaluator.evaluate(selector=feat_selector, estimator=SVC(), data=data, metrics=[\"AS\", \"PS\", \"RS\"])\n",
    "print(res2)"
   ]
  },
  {
   "cell_type": "code",
   "execution_count": 25,
   "metadata": {
    "pycharm": {
     "name": "#%%\n"
    }
   },
   "outputs": [],
   "source": [
    "# 7. Want to use different metaheuristic algorithm from mealpy to train."
   ]
  },
  {
   "cell_type": "markdown",
   "metadata": {
    "pycharm": {
     "name": "#%% md\n"
    }
   },
   "source": [
    "## 7.1 Define the optimizer and use it."
   ]
  },
  {
   "cell_type": "code",
   "execution_count": 26,
   "metadata": {
    "pycharm": {
     "name": "#%%\n"
    }
   },
   "outputs": [],
   "source": [
    "# I want to use Slime Mould Algorithm from bio-based module in Mealpy\n",
    "\n",
    "from mealpy.bio_based import SMA\n",
    "algorithm = SMA.BaseSMA(epoch=100, pop_size=50, pr=0.03)"
   ]
  },
  {
   "cell_type": "markdown",
   "metadata": {
    "pycharm": {
     "name": "#%% md\n"
    }
   },
   "source": [
    "## 7.2 Create a new MhaSelector instance and pass the SMA optimizer to it"
   ]
  },
  {
   "cell_type": "code",
   "execution_count": 27,
   "metadata": {
    "pycharm": {
     "name": "#%%\n"
    }
   },
   "outputs": [],
   "source": [
    "fs2_model = MhaSelector(problem=\"classification\", estimator=\"knn\", \n",
    "                            optimizer=algorithm, optimizer_paras=None,\n",
    "                            transfer_func=\"vstf_01\", obj_name=\"AS\")"
   ]
  },
  {
   "cell_type": "markdown",
   "metadata": {
    "pycharm": {
     "name": "#%% md\n"
    }
   },
   "source": [
    "## 7.3 Use it like above example."
   ]
  },
  {
   "cell_type": "code",
   "execution_count": 28,
   "metadata": {
    "pycharm": {
     "name": "#%%\n"
    }
   },
   "outputs": [
    {
     "name": "stderr",
     "output_type": "stream",
     "text": [
      "2023/06/14 06:25:09 PM, INFO, mealpy.bio_based.SMA.BaseSMA: Solving 2-objective optimization problem with weights: [1. 0.].\n",
      "2023/06/14 06:25:10 PM, INFO, mealpy.bio_based.SMA.BaseSMA: >Problem: P, Epoch: 1, Current best: 0.669620476702509, Global best: 0.669620476702509, Runtime: 0.54438 seconds\n",
      "2023/06/14 06:25:10 PM, INFO, mealpy.bio_based.SMA.BaseSMA: >Problem: P, Epoch: 2, Current best: 0.6860482759856631, Global best: 0.6860482759856631, Runtime: 0.55611 seconds\n",
      "2023/06/14 06:25:11 PM, INFO, mealpy.bio_based.SMA.BaseSMA: >Problem: P, Epoch: 3, Current best: 0.7221454265232974, Global best: 0.7221454265232974, Runtime: 0.53806 seconds\n",
      "2023/06/14 06:25:11 PM, INFO, mealpy.bio_based.SMA.BaseSMA: >Problem: P, Epoch: 4, Current best: 0.7221454265232974, Global best: 0.7221454265232974, Runtime: 0.47309 seconds\n",
      "2023/06/14 06:25:12 PM, INFO, mealpy.bio_based.SMA.BaseSMA: >Problem: P, Epoch: 5, Current best: 0.7221454265232974, Global best: 0.7221454265232974, Runtime: 0.42498 seconds\n",
      "2023/06/14 06:25:12 PM, INFO, mealpy.bio_based.SMA.BaseSMA: >Problem: P, Epoch: 6, Current best: 0.7221454265232974, Global best: 0.7221454265232974, Runtime: 0.37038 seconds\n",
      "2023/06/14 06:25:12 PM, INFO, mealpy.bio_based.SMA.BaseSMA: >Problem: P, Epoch: 7, Current best: 0.7221454265232974, Global best: 0.7221454265232974, Runtime: 0.35826 seconds\n",
      "2023/06/14 06:25:13 PM, INFO, mealpy.bio_based.SMA.BaseSMA: >Problem: P, Epoch: 8, Current best: 0.7256238853046595, Global best: 0.7256238853046595, Runtime: 0.36070 seconds\n",
      "2023/06/14 06:25:13 PM, INFO, mealpy.bio_based.SMA.BaseSMA: >Problem: P, Epoch: 9, Current best: 0.7256238853046595, Global best: 0.7256238853046595, Runtime: 0.36456 seconds\n",
      "2023/06/14 06:25:13 PM, INFO, mealpy.bio_based.SMA.BaseSMA: >Problem: P, Epoch: 10, Current best: 0.7256238853046595, Global best: 0.7256238853046595, Runtime: 0.32203 seconds\n",
      "2023/06/14 06:25:14 PM, INFO, mealpy.bio_based.SMA.BaseSMA: >Problem: P, Epoch: 11, Current best: 0.7256238853046595, Global best: 0.7256238853046595, Runtime: 0.34600 seconds\n",
      "2023/06/14 06:25:14 PM, INFO, mealpy.bio_based.SMA.BaseSMA: >Problem: P, Epoch: 12, Current best: 0.7256238853046595, Global best: 0.7256238853046595, Runtime: 0.43051 seconds\n",
      "2023/06/14 06:25:15 PM, INFO, mealpy.bio_based.SMA.BaseSMA: >Problem: P, Epoch: 13, Current best: 0.7256238853046595, Global best: 0.7256238853046595, Runtime: 0.35048 seconds\n",
      "2023/06/14 06:25:15 PM, INFO, mealpy.bio_based.SMA.BaseSMA: >Problem: P, Epoch: 14, Current best: 0.7256238853046595, Global best: 0.7256238853046595, Runtime: 0.38427 seconds\n",
      "2023/06/14 06:25:15 PM, INFO, mealpy.bio_based.SMA.BaseSMA: >Problem: P, Epoch: 15, Current best: 0.7256238853046595, Global best: 0.7256238853046595, Runtime: 0.38658 seconds\n",
      "2023/06/14 06:25:16 PM, INFO, mealpy.bio_based.SMA.BaseSMA: >Problem: P, Epoch: 16, Current best: 0.7256238853046595, Global best: 0.7256238853046595, Runtime: 0.36579 seconds\n",
      "2023/06/14 06:25:16 PM, INFO, mealpy.bio_based.SMA.BaseSMA: >Problem: P, Epoch: 17, Current best: 0.7256238853046595, Global best: 0.7256238853046595, Runtime: 0.36699 seconds\n",
      "2023/06/14 06:25:16 PM, INFO, mealpy.bio_based.SMA.BaseSMA: >Problem: P, Epoch: 18, Current best: 0.7256238853046595, Global best: 0.7256238853046595, Runtime: 0.36532 seconds\n",
      "2023/06/14 06:25:17 PM, INFO, mealpy.bio_based.SMA.BaseSMA: >Problem: P, Epoch: 19, Current best: 0.7256238853046595, Global best: 0.7256238853046595, Runtime: 0.39228 seconds\n",
      "2023/06/14 06:25:17 PM, INFO, mealpy.bio_based.SMA.BaseSMA: >Problem: P, Epoch: 20, Current best: 0.7256238853046595, Global best: 0.7256238853046595, Runtime: 0.37029 seconds\n",
      "2023/06/14 06:25:18 PM, INFO, mealpy.bio_based.SMA.BaseSMA: >Problem: P, Epoch: 21, Current best: 0.7256238853046595, Global best: 0.7256238853046595, Runtime: 0.37930 seconds\n",
      "2023/06/14 06:25:18 PM, INFO, mealpy.bio_based.SMA.BaseSMA: >Problem: P, Epoch: 22, Current best: 0.7256238853046595, Global best: 0.7256238853046595, Runtime: 0.35323 seconds\n",
      "2023/06/14 06:25:18 PM, INFO, mealpy.bio_based.SMA.BaseSMA: >Problem: P, Epoch: 23, Current best: 0.7256238853046595, Global best: 0.7256238853046595, Runtime: 0.33992 seconds\n",
      "2023/06/14 06:25:19 PM, INFO, mealpy.bio_based.SMA.BaseSMA: >Problem: P, Epoch: 24, Current best: 0.7256238853046595, Global best: 0.7256238853046595, Runtime: 0.33280 seconds\n",
      "2023/06/14 06:25:19 PM, INFO, mealpy.bio_based.SMA.BaseSMA: >Problem: P, Epoch: 25, Current best: 0.7256238853046595, Global best: 0.7256238853046595, Runtime: 0.34661 seconds\n",
      "2023/06/14 06:25:19 PM, INFO, mealpy.bio_based.SMA.BaseSMA: >Problem: P, Epoch: 26, Current best: 0.7256238853046595, Global best: 0.7256238853046595, Runtime: 0.34587 seconds\n",
      "2023/06/14 06:25:20 PM, INFO, mealpy.bio_based.SMA.BaseSMA: >Problem: P, Epoch: 27, Current best: 0.7256238853046595, Global best: 0.7256238853046595, Runtime: 0.35930 seconds\n",
      "2023/06/14 06:25:20 PM, INFO, mealpy.bio_based.SMA.BaseSMA: >Problem: P, Epoch: 28, Current best: 0.7256238853046595, Global best: 0.7256238853046595, Runtime: 0.36357 seconds\n",
      "2023/06/14 06:25:20 PM, INFO, mealpy.bio_based.SMA.BaseSMA: >Problem: P, Epoch: 29, Current best: 0.7256238853046595, Global best: 0.7256238853046595, Runtime: 0.33261 seconds\n",
      "2023/06/14 06:25:21 PM, INFO, mealpy.bio_based.SMA.BaseSMA: >Problem: P, Epoch: 30, Current best: 0.7256238853046595, Global best: 0.7256238853046595, Runtime: 0.34851 seconds\n",
      "2023/06/14 06:25:21 PM, INFO, mealpy.bio_based.SMA.BaseSMA: >Problem: P, Epoch: 31, Current best: 0.7256238853046595, Global best: 0.7256238853046595, Runtime: 0.34582 seconds\n",
      "2023/06/14 06:25:21 PM, INFO, mealpy.bio_based.SMA.BaseSMA: >Problem: P, Epoch: 32, Current best: 0.7256238853046595, Global best: 0.7256238853046595, Runtime: 0.33898 seconds\n",
      "2023/06/14 06:25:22 PM, INFO, mealpy.bio_based.SMA.BaseSMA: >Problem: P, Epoch: 33, Current best: 0.7256238853046595, Global best: 0.7256238853046595, Runtime: 0.34455 seconds\n",
      "2023/06/14 06:25:22 PM, INFO, mealpy.bio_based.SMA.BaseSMA: >Problem: P, Epoch: 34, Current best: 0.7256238853046595, Global best: 0.7256238853046595, Runtime: 0.33593 seconds\n",
      "2023/06/14 06:25:22 PM, INFO, mealpy.bio_based.SMA.BaseSMA: >Problem: P, Epoch: 35, Current best: 0.7256238853046595, Global best: 0.7256238853046595, Runtime: 0.34005 seconds\n",
      "2023/06/14 06:25:23 PM, INFO, mealpy.bio_based.SMA.BaseSMA: >Problem: P, Epoch: 36, Current best: 0.7256238853046595, Global best: 0.7256238853046595, Runtime: 0.33791 seconds\n",
      "2023/06/14 06:25:23 PM, INFO, mealpy.bio_based.SMA.BaseSMA: >Problem: P, Epoch: 37, Current best: 0.7256238853046595, Global best: 0.7256238853046595, Runtime: 0.36807 seconds\n",
      "2023/06/14 06:25:23 PM, INFO, mealpy.bio_based.SMA.BaseSMA: >Problem: P, Epoch: 38, Current best: 0.7256238853046595, Global best: 0.7256238853046595, Runtime: 0.33899 seconds\n",
      "2023/06/14 06:25:24 PM, INFO, mealpy.bio_based.SMA.BaseSMA: >Problem: P, Epoch: 39, Current best: 0.7256238853046595, Global best: 0.7256238853046595, Runtime: 0.33149 seconds\n",
      "2023/06/14 06:25:24 PM, INFO, mealpy.bio_based.SMA.BaseSMA: >Problem: P, Epoch: 40, Current best: 0.7256238853046595, Global best: 0.7256238853046595, Runtime: 0.37409 seconds\n",
      "2023/06/14 06:25:25 PM, INFO, mealpy.bio_based.SMA.BaseSMA: >Problem: P, Epoch: 41, Current best: 0.7256238853046595, Global best: 0.7256238853046595, Runtime: 0.34135 seconds\n",
      "2023/06/14 06:25:25 PM, INFO, mealpy.bio_based.SMA.BaseSMA: >Problem: P, Epoch: 42, Current best: 0.7256238853046595, Global best: 0.7256238853046595, Runtime: 0.33918 seconds\n",
      "2023/06/14 06:25:25 PM, INFO, mealpy.bio_based.SMA.BaseSMA: >Problem: P, Epoch: 43, Current best: 0.7256238853046595, Global best: 0.7256238853046595, Runtime: 0.33753 seconds\n",
      "2023/06/14 06:25:26 PM, INFO, mealpy.bio_based.SMA.BaseSMA: >Problem: P, Epoch: 44, Current best: 0.7256238853046595, Global best: 0.7256238853046595, Runtime: 0.34859 seconds\n",
      "2023/06/14 06:25:26 PM, INFO, mealpy.bio_based.SMA.BaseSMA: >Problem: P, Epoch: 45, Current best: 0.7256238853046595, Global best: 0.7256238853046595, Runtime: 0.32637 seconds\n",
      "2023/06/14 06:25:26 PM, INFO, mealpy.bio_based.SMA.BaseSMA: >Problem: P, Epoch: 46, Current best: 0.7256238853046595, Global best: 0.7256238853046595, Runtime: 0.33482 seconds\n"
     ]
    },
    {
     "name": "stderr",
     "output_type": "stream",
     "text": [
      "2023/06/14 06:25:27 PM, INFO, mealpy.bio_based.SMA.BaseSMA: >Problem: P, Epoch: 47, Current best: 0.7256238853046595, Global best: 0.7256238853046595, Runtime: 0.34415 seconds\n",
      "2023/06/14 06:25:27 PM, INFO, mealpy.bio_based.SMA.BaseSMA: >Problem: P, Epoch: 48, Current best: 0.7256238853046595, Global best: 0.7256238853046595, Runtime: 0.33968 seconds\n",
      "2023/06/14 06:25:27 PM, INFO, mealpy.bio_based.SMA.BaseSMA: >Problem: P, Epoch: 49, Current best: 0.7256238853046595, Global best: 0.7256238853046595, Runtime: 0.35507 seconds\n",
      "2023/06/14 06:25:28 PM, INFO, mealpy.bio_based.SMA.BaseSMA: >Problem: P, Epoch: 50, Current best: 0.7256238853046595, Global best: 0.7256238853046595, Runtime: 0.35288 seconds\n",
      "2023/06/14 06:25:28 PM, INFO, mealpy.bio_based.SMA.BaseSMA: >Problem: P, Epoch: 51, Current best: 0.7256238853046595, Global best: 0.7256238853046595, Runtime: 0.34262 seconds\n",
      "2023/06/14 06:25:28 PM, INFO, mealpy.bio_based.SMA.BaseSMA: >Problem: P, Epoch: 52, Current best: 0.7256238853046595, Global best: 0.7256238853046595, Runtime: 0.32613 seconds\n",
      "2023/06/14 06:25:29 PM, INFO, mealpy.bio_based.SMA.BaseSMA: >Problem: P, Epoch: 53, Current best: 0.7256238853046595, Global best: 0.7256238853046595, Runtime: 0.34760 seconds\n",
      "2023/06/14 06:25:29 PM, INFO, mealpy.bio_based.SMA.BaseSMA: >Problem: P, Epoch: 54, Current best: 0.7256238853046595, Global best: 0.7256238853046595, Runtime: 0.34094 seconds\n",
      "2023/06/14 06:25:29 PM, INFO, mealpy.bio_based.SMA.BaseSMA: >Problem: P, Epoch: 55, Current best: 0.7256238853046595, Global best: 0.7256238853046595, Runtime: 0.36188 seconds\n",
      "2023/06/14 06:25:30 PM, INFO, mealpy.bio_based.SMA.BaseSMA: >Problem: P, Epoch: 56, Current best: 0.7256238853046595, Global best: 0.7256238853046595, Runtime: 0.36809 seconds\n",
      "2023/06/14 06:25:30 PM, INFO, mealpy.bio_based.SMA.BaseSMA: >Problem: P, Epoch: 57, Current best: 0.7256238853046595, Global best: 0.7256238853046595, Runtime: 0.35643 seconds\n",
      "2023/06/14 06:25:30 PM, INFO, mealpy.bio_based.SMA.BaseSMA: >Problem: P, Epoch: 58, Current best: 0.7256238853046595, Global best: 0.7256238853046595, Runtime: 0.33735 seconds\n",
      "2023/06/14 06:25:31 PM, INFO, mealpy.bio_based.SMA.BaseSMA: >Problem: P, Epoch: 59, Current best: 0.7256238853046595, Global best: 0.7256238853046595, Runtime: 0.35396 seconds\n",
      "2023/06/14 06:25:31 PM, INFO, mealpy.bio_based.SMA.BaseSMA: >Problem: P, Epoch: 60, Current best: 0.7256238853046595, Global best: 0.7256238853046595, Runtime: 0.33067 seconds\n",
      "2023/06/14 06:25:31 PM, INFO, mealpy.bio_based.SMA.BaseSMA: >Problem: P, Epoch: 61, Current best: 0.7261157311827957, Global best: 0.7261157311827957, Runtime: 0.35680 seconds\n",
      "2023/06/14 06:25:32 PM, INFO, mealpy.bio_based.SMA.BaseSMA: >Problem: P, Epoch: 62, Current best: 0.7295251541218638, Global best: 0.7295251541218638, Runtime: 0.35523 seconds\n",
      "2023/06/14 06:25:32 PM, INFO, mealpy.bio_based.SMA.BaseSMA: >Problem: P, Epoch: 63, Current best: 0.7295251541218638, Global best: 0.7295251541218638, Runtime: 0.34134 seconds\n",
      "2023/06/14 06:25:32 PM, INFO, mealpy.bio_based.SMA.BaseSMA: >Problem: P, Epoch: 64, Current best: 0.7295251541218638, Global best: 0.7295251541218638, Runtime: 0.34478 seconds\n",
      "2023/06/14 06:25:33 PM, INFO, mealpy.bio_based.SMA.BaseSMA: >Problem: P, Epoch: 65, Current best: 0.7295251541218638, Global best: 0.7295251541218638, Runtime: 0.33899 seconds\n",
      "2023/06/14 06:25:33 PM, INFO, mealpy.bio_based.SMA.BaseSMA: >Problem: P, Epoch: 66, Current best: 0.7295251541218638, Global best: 0.7295251541218638, Runtime: 0.34471 seconds\n",
      "2023/06/14 06:25:34 PM, INFO, mealpy.bio_based.SMA.BaseSMA: >Problem: P, Epoch: 67, Current best: 0.7295251541218638, Global best: 0.7295251541218638, Runtime: 0.33913 seconds\n",
      "2023/06/14 06:25:34 PM, INFO, mealpy.bio_based.SMA.BaseSMA: >Problem: P, Epoch: 68, Current best: 0.7295251541218638, Global best: 0.7295251541218638, Runtime: 0.33191 seconds\n",
      "2023/06/14 06:25:34 PM, INFO, mealpy.bio_based.SMA.BaseSMA: >Problem: P, Epoch: 69, Current best: 0.7295251541218638, Global best: 0.7295251541218638, Runtime: 0.34262 seconds\n",
      "2023/06/14 06:25:35 PM, INFO, mealpy.bio_based.SMA.BaseSMA: >Problem: P, Epoch: 70, Current best: 0.7295251541218638, Global best: 0.7295251541218638, Runtime: 0.32329 seconds\n",
      "2023/06/14 06:25:35 PM, INFO, mealpy.bio_based.SMA.BaseSMA: >Problem: P, Epoch: 71, Current best: 0.7295251541218638, Global best: 0.7295251541218638, Runtime: 0.33904 seconds\n",
      "2023/06/14 06:25:35 PM, INFO, mealpy.bio_based.SMA.BaseSMA: >Problem: P, Epoch: 72, Current best: 0.7295251541218638, Global best: 0.7295251541218638, Runtime: 0.36134 seconds\n",
      "2023/06/14 06:25:36 PM, INFO, mealpy.bio_based.SMA.BaseSMA: >Problem: P, Epoch: 73, Current best: 0.7295251541218638, Global best: 0.7295251541218638, Runtime: 0.32971 seconds\n",
      "2023/06/14 06:25:36 PM, INFO, mealpy.bio_based.SMA.BaseSMA: >Problem: P, Epoch: 74, Current best: 0.7295251541218638, Global best: 0.7295251541218638, Runtime: 0.34529 seconds\n",
      "2023/06/14 06:25:36 PM, INFO, mealpy.bio_based.SMA.BaseSMA: >Problem: P, Epoch: 75, Current best: 0.7295251541218638, Global best: 0.7295251541218638, Runtime: 0.32513 seconds\n",
      "2023/06/14 06:25:37 PM, INFO, mealpy.bio_based.SMA.BaseSMA: >Problem: P, Epoch: 76, Current best: 0.7295251541218638, Global best: 0.7295251541218638, Runtime: 0.33913 seconds\n",
      "2023/06/14 06:25:37 PM, INFO, mealpy.bio_based.SMA.BaseSMA: >Problem: P, Epoch: 77, Current best: 0.7295251541218638, Global best: 0.7295251541218638, Runtime: 0.34610 seconds\n",
      "2023/06/14 06:25:37 PM, INFO, mealpy.bio_based.SMA.BaseSMA: >Problem: P, Epoch: 78, Current best: 0.7295251541218638, Global best: 0.7295251541218638, Runtime: 0.32924 seconds\n",
      "2023/06/14 06:25:38 PM, INFO, mealpy.bio_based.SMA.BaseSMA: >Problem: P, Epoch: 79, Current best: 0.7295251541218638, Global best: 0.7295251541218638, Runtime: 0.35885 seconds\n",
      "2023/06/14 06:25:38 PM, INFO, mealpy.bio_based.SMA.BaseSMA: >Problem: P, Epoch: 80, Current best: 0.7295251541218638, Global best: 0.7295251541218638, Runtime: 0.34482 seconds\n",
      "2023/06/14 06:25:38 PM, INFO, mealpy.bio_based.SMA.BaseSMA: >Problem: P, Epoch: 81, Current best: 0.7295251541218638, Global best: 0.7295251541218638, Runtime: 0.35047 seconds\n",
      "2023/06/14 06:25:39 PM, INFO, mealpy.bio_based.SMA.BaseSMA: >Problem: P, Epoch: 82, Current best: 0.7295251541218638, Global best: 0.7295251541218638, Runtime: 0.33828 seconds\n",
      "2023/06/14 06:25:39 PM, INFO, mealpy.bio_based.SMA.BaseSMA: >Problem: P, Epoch: 83, Current best: 0.7295251541218638, Global best: 0.7295251541218638, Runtime: 0.33561 seconds\n",
      "2023/06/14 06:25:39 PM, INFO, mealpy.bio_based.SMA.BaseSMA: >Problem: P, Epoch: 84, Current best: 0.7295251541218638, Global best: 0.7295251541218638, Runtime: 0.35414 seconds\n",
      "2023/06/14 06:25:40 PM, INFO, mealpy.bio_based.SMA.BaseSMA: >Problem: P, Epoch: 85, Current best: 0.7295251541218638, Global best: 0.7295251541218638, Runtime: 0.37733 seconds\n",
      "2023/06/14 06:25:40 PM, INFO, mealpy.bio_based.SMA.BaseSMA: >Problem: P, Epoch: 86, Current best: 0.7295251541218638, Global best: 0.7295251541218638, Runtime: 0.37929 seconds\n",
      "2023/06/14 06:25:40 PM, INFO, mealpy.bio_based.SMA.BaseSMA: >Problem: P, Epoch: 87, Current best: 0.7295251541218638, Global best: 0.7295251541218638, Runtime: 0.34943 seconds\n",
      "2023/06/14 06:25:41 PM, INFO, mealpy.bio_based.SMA.BaseSMA: >Problem: P, Epoch: 88, Current best: 0.7295251541218638, Global best: 0.7295251541218638, Runtime: 0.33370 seconds\n",
      "2023/06/14 06:25:41 PM, INFO, mealpy.bio_based.SMA.BaseSMA: >Problem: P, Epoch: 89, Current best: 0.7295251541218638, Global best: 0.7295251541218638, Runtime: 0.33443 seconds\n",
      "2023/06/14 06:25:41 PM, INFO, mealpy.bio_based.SMA.BaseSMA: >Problem: P, Epoch: 90, Current best: 0.7295251541218638, Global best: 0.7295251541218638, Runtime: 0.33581 seconds\n",
      "2023/06/14 06:25:42 PM, INFO, mealpy.bio_based.SMA.BaseSMA: >Problem: P, Epoch: 91, Current best: 0.7295251541218638, Global best: 0.7295251541218638, Runtime: 0.34718 seconds\n",
      "2023/06/14 06:25:42 PM, INFO, mealpy.bio_based.SMA.BaseSMA: >Problem: P, Epoch: 92, Current best: 0.7295251541218638, Global best: 0.7295251541218638, Runtime: 0.35760 seconds\n",
      "2023/06/14 06:25:42 PM, INFO, mealpy.bio_based.SMA.BaseSMA: >Problem: P, Epoch: 93, Current best: 0.7295251541218638, Global best: 0.7295251541218638, Runtime: 0.33940 seconds\n"
     ]
    },
    {
     "name": "stderr",
     "output_type": "stream",
     "text": [
      "2023/06/14 06:25:43 PM, INFO, mealpy.bio_based.SMA.BaseSMA: >Problem: P, Epoch: 94, Current best: 0.7295251541218638, Global best: 0.7295251541218638, Runtime: 0.34588 seconds\n",
      "2023/06/14 06:25:43 PM, INFO, mealpy.bio_based.SMA.BaseSMA: >Problem: P, Epoch: 95, Current best: 0.7295251541218638, Global best: 0.7295251541218638, Runtime: 0.36548 seconds\n",
      "2023/06/14 06:25:44 PM, INFO, mealpy.bio_based.SMA.BaseSMA: >Problem: P, Epoch: 96, Current best: 0.7295251541218638, Global best: 0.7295251541218638, Runtime: 0.34107 seconds\n",
      "2023/06/14 06:25:44 PM, INFO, mealpy.bio_based.SMA.BaseSMA: >Problem: P, Epoch: 97, Current best: 0.7295251541218638, Global best: 0.7295251541218638, Runtime: 0.37235 seconds\n",
      "2023/06/14 06:25:44 PM, INFO, mealpy.bio_based.SMA.BaseSMA: >Problem: P, Epoch: 98, Current best: 0.7295251541218638, Global best: 0.7295251541218638, Runtime: 0.35646 seconds\n",
      "2023/06/14 06:25:45 PM, INFO, mealpy.bio_based.SMA.BaseSMA: >Problem: P, Epoch: 99, Current best: 0.7295251541218638, Global best: 0.7295251541218638, Runtime: 0.35115 seconds\n",
      "2023/06/14 06:25:45 PM, INFO, mealpy.bio_based.SMA.BaseSMA: >Problem: P, Epoch: 100, Current best: 0.7295251541218638, Global best: 0.7295251541218638, Runtime: 0.34172 seconds\n"
     ]
    }
   ],
   "source": [
    "fs2_model.fit(data.X_train, data.y_train)"
   ]
  },
  {
   "cell_type": "code",
   "execution_count": 29,
   "metadata": {
    "pycharm": {
     "name": "#%%\n"
    }
   },
   "outputs": [
    {
     "name": "stdout",
     "output_type": "stream",
     "text": [
      "Original Dataset: (361, 279)\n",
      "Selected dataset: (91, 2)\n"
     ]
    }
   ],
   "source": [
    "X_selected = fs2_model.transform(data.X_test)\n",
    "print(f\"Original Dataset: {data.X_train.shape}\")        \n",
    "print(f\"Selected dataset: {X_selected.shape}\")    "
   ]
  },
  {
   "cell_type": "markdown",
   "metadata": {
    "pycharm": {
     "name": "#%% md\n"
    }
   },
   "source": [
    "## 7.2 Create a new MhaSelector instance and pass the SMA optimizer to it"
   ]
  },
  {
   "cell_type": "code",
   "execution_count": 30,
   "metadata": {
    "pycharm": {
     "name": "#%%\n"
    }
   },
   "outputs": [],
   "source": [
    "fs2_model = MhaSelector(problem=\"classification\", estimator=\"knn\", \n",
    "                            optimizer=algorithm, optimizer_paras=None,\n",
    "                            transfer_func=\"vstf_01\", obj_name=\"AS\")"
   ]
  },
  {
   "cell_type": "markdown",
   "metadata": {
    "pycharm": {
     "name": "#%% md\n"
    }
   },
   "source": [
    "## 7.3 Use it like above example."
   ]
  },
  {
   "cell_type": "code",
   "execution_count": 31,
   "metadata": {
    "pycharm": {
     "name": "#%%\n"
    }
   },
   "outputs": [
    {
     "name": "stderr",
     "output_type": "stream",
     "text": [
      "2023/06/14 06:25:52 PM, INFO, mealpy.bio_based.SMA.BaseSMA: Solving 2-objective optimization problem with weights: [1. 0.].\n",
      "2023/06/14 06:25:53 PM, INFO, mealpy.bio_based.SMA.BaseSMA: >Problem: P, Epoch: 1, Current best: 0.6596329784946237, Global best: 0.6596329784946237, Runtime: 0.52331 seconds\n",
      "2023/06/14 06:25:54 PM, INFO, mealpy.bio_based.SMA.BaseSMA: >Problem: P, Epoch: 2, Current best: 0.7024091612903226, Global best: 0.7024091612903226, Runtime: 0.54285 seconds\n",
      "2023/06/14 06:25:55 PM, INFO, mealpy.bio_based.SMA.BaseSMA: >Problem: P, Epoch: 3, Current best: 0.7024091612903226, Global best: 0.7024091612903226, Runtime: 0.55066 seconds\n",
      "2023/06/14 06:25:55 PM, INFO, mealpy.bio_based.SMA.BaseSMA: >Problem: P, Epoch: 4, Current best: 0.7024091612903226, Global best: 0.7024091612903226, Runtime: 0.48087 seconds\n",
      "2023/06/14 06:25:55 PM, INFO, mealpy.bio_based.SMA.BaseSMA: >Problem: P, Epoch: 5, Current best: 0.7074893476702508, Global best: 0.7074893476702508, Runtime: 0.45243 seconds\n",
      "2023/06/14 06:25:56 PM, INFO, mealpy.bio_based.SMA.BaseSMA: >Problem: P, Epoch: 6, Current best: 0.710673770609319, Global best: 0.710673770609319, Runtime: 0.43240 seconds\n",
      "2023/06/14 06:25:56 PM, INFO, mealpy.bio_based.SMA.BaseSMA: >Problem: P, Epoch: 7, Current best: 0.710673770609319, Global best: 0.710673770609319, Runtime: 0.36554 seconds\n",
      "2023/06/14 06:25:57 PM, INFO, mealpy.bio_based.SMA.BaseSMA: >Problem: P, Epoch: 8, Current best: 0.710673770609319, Global best: 0.710673770609319, Runtime: 0.35457 seconds\n",
      "2023/06/14 06:25:57 PM, INFO, mealpy.bio_based.SMA.BaseSMA: >Problem: P, Epoch: 9, Current best: 0.7143246164874553, Global best: 0.7143246164874553, Runtime: 0.33744 seconds\n",
      "2023/06/14 06:25:57 PM, INFO, mealpy.bio_based.SMA.BaseSMA: >Problem: P, Epoch: 10, Current best: 0.7143246164874553, Global best: 0.7143246164874553, Runtime: 0.38214 seconds\n",
      "2023/06/14 06:25:58 PM, INFO, mealpy.bio_based.SMA.BaseSMA: >Problem: P, Epoch: 11, Current best: 0.7143246164874553, Global best: 0.7143246164874553, Runtime: 0.34659 seconds\n",
      "2023/06/14 06:25:58 PM, INFO, mealpy.bio_based.SMA.BaseSMA: >Problem: P, Epoch: 12, Current best: 0.7143246164874553, Global best: 0.7143246164874553, Runtime: 0.34290 seconds\n",
      "2023/06/14 06:25:58 PM, INFO, mealpy.bio_based.SMA.BaseSMA: >Problem: P, Epoch: 13, Current best: 0.7143246164874553, Global best: 0.7143246164874553, Runtime: 0.32590 seconds\n",
      "2023/06/14 06:25:59 PM, INFO, mealpy.bio_based.SMA.BaseSMA: >Problem: P, Epoch: 14, Current best: 0.7143246164874553, Global best: 0.7143246164874553, Runtime: 0.32622 seconds\n",
      "2023/06/14 06:25:59 PM, INFO, mealpy.bio_based.SMA.BaseSMA: >Problem: P, Epoch: 15, Current best: 0.7143246164874553, Global best: 0.7143246164874553, Runtime: 0.32130 seconds\n",
      "2023/06/14 06:25:59 PM, INFO, mealpy.bio_based.SMA.BaseSMA: >Problem: P, Epoch: 16, Current best: 0.7143246164874553, Global best: 0.7143246164874553, Runtime: 0.34332 seconds\n",
      "2023/06/14 06:26:00 PM, INFO, mealpy.bio_based.SMA.BaseSMA: >Problem: P, Epoch: 17, Current best: 0.7143246164874553, Global best: 0.7143246164874553, Runtime: 0.36684 seconds\n",
      "2023/06/14 06:26:00 PM, INFO, mealpy.bio_based.SMA.BaseSMA: >Problem: P, Epoch: 18, Current best: 0.7143246164874553, Global best: 0.7143246164874553, Runtime: 0.33974 seconds\n",
      "2023/06/14 06:26:00 PM, INFO, mealpy.bio_based.SMA.BaseSMA: >Problem: P, Epoch: 19, Current best: 0.7143246164874553, Global best: 0.7143246164874553, Runtime: 0.34860 seconds\n",
      "2023/06/14 06:26:01 PM, INFO, mealpy.bio_based.SMA.BaseSMA: >Problem: P, Epoch: 20, Current best: 0.7143246164874553, Global best: 0.7143246164874553, Runtime: 0.32119 seconds\n",
      "2023/06/14 06:26:01 PM, INFO, mealpy.bio_based.SMA.BaseSMA: >Problem: P, Epoch: 21, Current best: 0.7291667311827957, Global best: 0.7291667311827957, Runtime: 0.33817 seconds\n",
      "2023/06/14 06:26:01 PM, INFO, mealpy.bio_based.SMA.BaseSMA: >Problem: P, Epoch: 22, Current best: 0.7291667311827957, Global best: 0.7291667311827957, Runtime: 0.32591 seconds\n",
      "2023/06/14 06:26:02 PM, INFO, mealpy.bio_based.SMA.BaseSMA: >Problem: P, Epoch: 23, Current best: 0.7291667311827957, Global best: 0.7291667311827957, Runtime: 0.32655 seconds\n",
      "2023/06/14 06:26:02 PM, INFO, mealpy.bio_based.SMA.BaseSMA: >Problem: P, Epoch: 24, Current best: 0.7291667311827957, Global best: 0.7291667311827957, Runtime: 0.34262 seconds\n",
      "2023/06/14 06:26:02 PM, INFO, mealpy.bio_based.SMA.BaseSMA: >Problem: P, Epoch: 25, Current best: 0.7295251541218638, Global best: 0.7295251541218638, Runtime: 0.34684 seconds\n",
      "2023/06/14 06:26:03 PM, INFO, mealpy.bio_based.SMA.BaseSMA: >Problem: P, Epoch: 26, Current best: 0.7295251541218638, Global best: 0.7295251541218638, Runtime: 0.32555 seconds\n",
      "2023/06/14 06:26:03 PM, INFO, mealpy.bio_based.SMA.BaseSMA: >Problem: P, Epoch: 27, Current best: 0.7295251541218638, Global best: 0.7295251541218638, Runtime: 0.31224 seconds\n",
      "2023/06/14 06:26:03 PM, INFO, mealpy.bio_based.SMA.BaseSMA: >Problem: P, Epoch: 28, Current best: 0.7295251541218638, Global best: 0.7295251541218638, Runtime: 0.32885 seconds\n",
      "2023/06/14 06:26:04 PM, INFO, mealpy.bio_based.SMA.BaseSMA: >Problem: P, Epoch: 29, Current best: 0.7295251541218638, Global best: 0.7295251541218638, Runtime: 0.32519 seconds\n",
      "2023/06/14 06:26:04 PM, INFO, mealpy.bio_based.SMA.BaseSMA: >Problem: P, Epoch: 30, Current best: 0.7314437311827957, Global best: 0.7314437311827957, Runtime: 0.31770 seconds\n",
      "2023/06/14 06:26:04 PM, INFO, mealpy.bio_based.SMA.BaseSMA: >Problem: P, Epoch: 31, Current best: 0.7314437311827957, Global best: 0.7314437311827957, Runtime: 0.32357 seconds\n",
      "2023/06/14 06:26:05 PM, INFO, mealpy.bio_based.SMA.BaseSMA: >Problem: P, Epoch: 32, Current best: 0.7314437311827957, Global best: 0.7314437311827957, Runtime: 0.35266 seconds\n",
      "2023/06/14 06:26:05 PM, INFO, mealpy.bio_based.SMA.BaseSMA: >Problem: P, Epoch: 33, Current best: 0.7314437311827957, Global best: 0.7314437311827957, Runtime: 0.31644 seconds\n",
      "2023/06/14 06:26:05 PM, INFO, mealpy.bio_based.SMA.BaseSMA: >Problem: P, Epoch: 34, Current best: 0.7314437311827957, Global best: 0.7314437311827957, Runtime: 0.31529 seconds\n",
      "2023/06/14 06:26:06 PM, INFO, mealpy.bio_based.SMA.BaseSMA: >Problem: P, Epoch: 35, Current best: 0.7314437311827957, Global best: 0.7314437311827957, Runtime: 0.32657 seconds\n",
      "2023/06/14 06:26:06 PM, INFO, mealpy.bio_based.SMA.BaseSMA: >Problem: P, Epoch: 36, Current best: 0.7314437311827957, Global best: 0.7314437311827957, Runtime: 0.34293 seconds\n",
      "2023/06/14 06:26:06 PM, INFO, mealpy.bio_based.SMA.BaseSMA: >Problem: P, Epoch: 37, Current best: 0.7314437311827957, Global best: 0.7314437311827957, Runtime: 0.31457 seconds\n",
      "2023/06/14 06:26:07 PM, INFO, mealpy.bio_based.SMA.BaseSMA: >Problem: P, Epoch: 38, Current best: 0.7314437311827957, Global best: 0.7314437311827957, Runtime: 0.31799 seconds\n",
      "2023/06/14 06:26:07 PM, INFO, mealpy.bio_based.SMA.BaseSMA: >Problem: P, Epoch: 39, Current best: 0.7314437311827957, Global best: 0.7314437311827957, Runtime: 0.32316 seconds\n",
      "2023/06/14 06:26:07 PM, INFO, mealpy.bio_based.SMA.BaseSMA: >Problem: P, Epoch: 40, Current best: 0.7314437311827957, Global best: 0.7314437311827957, Runtime: 0.33799 seconds\n",
      "2023/06/14 06:26:08 PM, INFO, mealpy.bio_based.SMA.BaseSMA: >Problem: P, Epoch: 41, Current best: 0.7314437311827957, Global best: 0.7314437311827957, Runtime: 0.32689 seconds\n",
      "2023/06/14 06:26:08 PM, INFO, mealpy.bio_based.SMA.BaseSMA: >Problem: P, Epoch: 42, Current best: 0.7314437311827957, Global best: 0.7314437311827957, Runtime: 0.32495 seconds\n",
      "2023/06/14 06:26:08 PM, INFO, mealpy.bio_based.SMA.BaseSMA: >Problem: P, Epoch: 43, Current best: 0.7314437311827957, Global best: 0.7314437311827957, Runtime: 0.31589 seconds\n",
      "2023/06/14 06:26:09 PM, INFO, mealpy.bio_based.SMA.BaseSMA: >Problem: P, Epoch: 44, Current best: 0.7314437311827957, Global best: 0.7314437311827957, Runtime: 0.31291 seconds\n",
      "2023/06/14 06:26:09 PM, INFO, mealpy.bio_based.SMA.BaseSMA: >Problem: P, Epoch: 45, Current best: 0.7314437311827957, Global best: 0.7314437311827957, Runtime: 0.33579 seconds\n",
      "2023/06/14 06:26:09 PM, INFO, mealpy.bio_based.SMA.BaseSMA: >Problem: P, Epoch: 46, Current best: 0.7314437311827957, Global best: 0.7314437311827957, Runtime: 0.34964 seconds\n"
     ]
    },
    {
     "name": "stderr",
     "output_type": "stream",
     "text": [
      "2023/06/14 06:26:10 PM, INFO, mealpy.bio_based.SMA.BaseSMA: >Problem: P, Epoch: 47, Current best: 0.7314437311827957, Global best: 0.7314437311827957, Runtime: 0.33276 seconds\n",
      "2023/06/14 06:26:10 PM, INFO, mealpy.bio_based.SMA.BaseSMA: >Problem: P, Epoch: 48, Current best: 0.7314437311827957, Global best: 0.7314437311827957, Runtime: 0.35704 seconds\n",
      "2023/06/14 06:26:10 PM, INFO, mealpy.bio_based.SMA.BaseSMA: >Problem: P, Epoch: 49, Current best: 0.7314437311827957, Global best: 0.7314437311827957, Runtime: 0.32548 seconds\n",
      "2023/06/14 06:26:11 PM, INFO, mealpy.bio_based.SMA.BaseSMA: >Problem: P, Epoch: 50, Current best: 0.7314437311827957, Global best: 0.7314437311827957, Runtime: 0.31744 seconds\n",
      "2023/06/14 06:26:11 PM, INFO, mealpy.bio_based.SMA.BaseSMA: >Problem: P, Epoch: 51, Current best: 0.7314437311827957, Global best: 0.7314437311827957, Runtime: 0.30757 seconds\n",
      "2023/06/14 06:26:11 PM, INFO, mealpy.bio_based.SMA.BaseSMA: >Problem: P, Epoch: 52, Current best: 0.7314437311827957, Global best: 0.7314437311827957, Runtime: 0.32110 seconds\n",
      "2023/06/14 06:26:12 PM, INFO, mealpy.bio_based.SMA.BaseSMA: >Problem: P, Epoch: 53, Current best: 0.7314437311827957, Global best: 0.7314437311827957, Runtime: 0.31475 seconds\n",
      "2023/06/14 06:26:12 PM, INFO, mealpy.bio_based.SMA.BaseSMA: >Problem: P, Epoch: 54, Current best: 0.7314437311827957, Global best: 0.7314437311827957, Runtime: 0.31445 seconds\n",
      "2023/06/14 06:26:12 PM, INFO, mealpy.bio_based.SMA.BaseSMA: >Problem: P, Epoch: 55, Current best: 0.7314437311827957, Global best: 0.7314437311827957, Runtime: 0.32310 seconds\n",
      "2023/06/14 06:26:13 PM, INFO, mealpy.bio_based.SMA.BaseSMA: >Problem: P, Epoch: 56, Current best: 0.7314437311827957, Global best: 0.7314437311827957, Runtime: 0.33695 seconds\n",
      "2023/06/14 06:26:13 PM, INFO, mealpy.bio_based.SMA.BaseSMA: >Problem: P, Epoch: 57, Current best: 0.7314437311827957, Global best: 0.7314437311827957, Runtime: 0.31044 seconds\n",
      "2023/06/14 06:26:13 PM, INFO, mealpy.bio_based.SMA.BaseSMA: >Problem: P, Epoch: 58, Current best: 0.7314437311827957, Global best: 0.7314437311827957, Runtime: 0.32708 seconds\n",
      "2023/06/14 06:26:14 PM, INFO, mealpy.bio_based.SMA.BaseSMA: >Problem: P, Epoch: 59, Current best: 0.7314437311827957, Global best: 0.7314437311827957, Runtime: 0.34561 seconds\n",
      "2023/06/14 06:26:14 PM, INFO, mealpy.bio_based.SMA.BaseSMA: >Problem: P, Epoch: 60, Current best: 0.7314437311827957, Global best: 0.7314437311827957, Runtime: 0.32187 seconds\n",
      "2023/06/14 06:26:14 PM, INFO, mealpy.bio_based.SMA.BaseSMA: >Problem: P, Epoch: 61, Current best: 0.7314437311827957, Global best: 0.7314437311827957, Runtime: 0.32028 seconds\n",
      "2023/06/14 06:26:15 PM, INFO, mealpy.bio_based.SMA.BaseSMA: >Problem: P, Epoch: 62, Current best: 0.7314437311827957, Global best: 0.7314437311827957, Runtime: 0.30548 seconds\n",
      "2023/06/14 06:26:15 PM, INFO, mealpy.bio_based.SMA.BaseSMA: >Problem: P, Epoch: 63, Current best: 0.7314437311827957, Global best: 0.7314437311827957, Runtime: 0.31850 seconds\n",
      "2023/06/14 06:26:15 PM, INFO, mealpy.bio_based.SMA.BaseSMA: >Problem: P, Epoch: 64, Current best: 0.7314437311827957, Global best: 0.7314437311827957, Runtime: 0.30768 seconds\n",
      "2023/06/14 06:26:15 PM, INFO, mealpy.bio_based.SMA.BaseSMA: >Problem: P, Epoch: 65, Current best: 0.7314437311827957, Global best: 0.7314437311827957, Runtime: 0.32829 seconds\n",
      "2023/06/14 06:26:16 PM, INFO, mealpy.bio_based.SMA.BaseSMA: >Problem: P, Epoch: 66, Current best: 0.7314437311827957, Global best: 0.7314437311827957, Runtime: 0.31794 seconds\n",
      "2023/06/14 06:26:16 PM, INFO, mealpy.bio_based.SMA.BaseSMA: >Problem: P, Epoch: 67, Current best: 0.7314437311827957, Global best: 0.7314437311827957, Runtime: 0.31714 seconds\n",
      "2023/06/14 06:26:16 PM, INFO, mealpy.bio_based.SMA.BaseSMA: >Problem: P, Epoch: 68, Current best: 0.7314437311827957, Global best: 0.7314437311827957, Runtime: 0.33477 seconds\n",
      "2023/06/14 06:26:17 PM, INFO, mealpy.bio_based.SMA.BaseSMA: >Problem: P, Epoch: 69, Current best: 0.7314437311827957, Global best: 0.7314437311827957, Runtime: 0.30795 seconds\n",
      "2023/06/14 06:26:17 PM, INFO, mealpy.bio_based.SMA.BaseSMA: >Problem: P, Epoch: 70, Current best: 0.7314437311827957, Global best: 0.7314437311827957, Runtime: 0.31422 seconds\n",
      "2023/06/14 06:26:17 PM, INFO, mealpy.bio_based.SMA.BaseSMA: >Problem: P, Epoch: 71, Current best: 0.7314437311827957, Global best: 0.7314437311827957, Runtime: 0.31558 seconds\n",
      "2023/06/14 06:26:18 PM, INFO, mealpy.bio_based.SMA.BaseSMA: >Problem: P, Epoch: 72, Current best: 0.7314437311827957, Global best: 0.7314437311827957, Runtime: 0.31507 seconds\n",
      "2023/06/14 06:26:18 PM, INFO, mealpy.bio_based.SMA.BaseSMA: >Problem: P, Epoch: 73, Current best: 0.7314437311827957, Global best: 0.7314437311827957, Runtime: 0.34067 seconds\n",
      "2023/06/14 06:26:18 PM, INFO, mealpy.bio_based.SMA.BaseSMA: >Problem: P, Epoch: 74, Current best: 0.7314437311827957, Global best: 0.7314437311827957, Runtime: 0.35360 seconds\n",
      "2023/06/14 06:26:19 PM, INFO, mealpy.bio_based.SMA.BaseSMA: >Problem: P, Epoch: 75, Current best: 0.7314437311827957, Global best: 0.7314437311827957, Runtime: 0.34447 seconds\n",
      "2023/06/14 06:26:19 PM, INFO, mealpy.bio_based.SMA.BaseSMA: >Problem: P, Epoch: 76, Current best: 0.7314437311827957, Global best: 0.7314437311827957, Runtime: 0.32596 seconds\n",
      "2023/06/14 06:26:19 PM, INFO, mealpy.bio_based.SMA.BaseSMA: >Problem: P, Epoch: 77, Current best: 0.7314437311827957, Global best: 0.7314437311827957, Runtime: 0.35716 seconds\n",
      "2023/06/14 06:26:20 PM, INFO, mealpy.bio_based.SMA.BaseSMA: >Problem: P, Epoch: 78, Current best: 0.7314437311827957, Global best: 0.7314437311827957, Runtime: 0.34591 seconds\n",
      "2023/06/14 06:26:20 PM, INFO, mealpy.bio_based.SMA.BaseSMA: >Problem: P, Epoch: 79, Current best: 0.7314437311827957, Global best: 0.7314437311827957, Runtime: 0.33185 seconds\n",
      "2023/06/14 06:26:20 PM, INFO, mealpy.bio_based.SMA.BaseSMA: >Problem: P, Epoch: 80, Current best: 0.7314437311827957, Global best: 0.7314437311827957, Runtime: 0.34892 seconds\n",
      "2023/06/14 06:26:21 PM, INFO, mealpy.bio_based.SMA.BaseSMA: >Problem: P, Epoch: 81, Current best: 0.7314437311827957, Global best: 0.7314437311827957, Runtime: 0.34355 seconds\n",
      "2023/06/14 06:26:21 PM, INFO, mealpy.bio_based.SMA.BaseSMA: >Problem: P, Epoch: 82, Current best: 0.7314437311827957, Global best: 0.7314437311827957, Runtime: 0.34154 seconds\n",
      "2023/06/14 06:26:22 PM, INFO, mealpy.bio_based.SMA.BaseSMA: >Problem: P, Epoch: 83, Current best: 0.7314437311827957, Global best: 0.7314437311827957, Runtime: 0.34069 seconds\n",
      "2023/06/14 06:26:22 PM, INFO, mealpy.bio_based.SMA.BaseSMA: >Problem: P, Epoch: 84, Current best: 0.7314437311827957, Global best: 0.7314437311827957, Runtime: 0.34142 seconds\n",
      "2023/06/14 06:26:22 PM, INFO, mealpy.bio_based.SMA.BaseSMA: >Problem: P, Epoch: 85, Current best: 0.7314437311827957, Global best: 0.7314437311827957, Runtime: 0.34928 seconds\n",
      "2023/06/14 06:26:23 PM, INFO, mealpy.bio_based.SMA.BaseSMA: >Problem: P, Epoch: 86, Current best: 0.7314437311827957, Global best: 0.7314437311827957, Runtime: 0.38216 seconds\n",
      "2023/06/14 06:26:23 PM, INFO, mealpy.bio_based.SMA.BaseSMA: >Problem: P, Epoch: 87, Current best: 0.7314437311827957, Global best: 0.7314437311827957, Runtime: 0.32835 seconds\n",
      "2023/06/14 06:26:23 PM, INFO, mealpy.bio_based.SMA.BaseSMA: >Problem: P, Epoch: 88, Current best: 0.7314437311827957, Global best: 0.7314437311827957, Runtime: 0.34501 seconds\n",
      "2023/06/14 06:26:24 PM, INFO, mealpy.bio_based.SMA.BaseSMA: >Problem: P, Epoch: 89, Current best: 0.7314437311827957, Global best: 0.7314437311827957, Runtime: 0.34944 seconds\n",
      "2023/06/14 06:26:24 PM, INFO, mealpy.bio_based.SMA.BaseSMA: >Problem: P, Epoch: 90, Current best: 0.7314437311827957, Global best: 0.7314437311827957, Runtime: 0.35671 seconds\n",
      "2023/06/14 06:26:24 PM, INFO, mealpy.bio_based.SMA.BaseSMA: >Problem: P, Epoch: 91, Current best: 0.7314437311827957, Global best: 0.7314437311827957, Runtime: 0.33159 seconds\n",
      "2023/06/14 06:26:25 PM, INFO, mealpy.bio_based.SMA.BaseSMA: >Problem: P, Epoch: 92, Current best: 0.7314437311827957, Global best: 0.7314437311827957, Runtime: 0.35813 seconds\n",
      "2023/06/14 06:26:25 PM, INFO, mealpy.bio_based.SMA.BaseSMA: >Problem: P, Epoch: 93, Current best: 0.7314437311827957, Global best: 0.7314437311827957, Runtime: 0.32395 seconds\n"
     ]
    },
    {
     "name": "stderr",
     "output_type": "stream",
     "text": [
      "2023/06/14 06:26:25 PM, INFO, mealpy.bio_based.SMA.BaseSMA: >Problem: P, Epoch: 94, Current best: 0.7314437311827957, Global best: 0.7314437311827957, Runtime: 0.31683 seconds\n",
      "2023/06/14 06:26:26 PM, INFO, mealpy.bio_based.SMA.BaseSMA: >Problem: P, Epoch: 95, Current best: 0.7314437311827957, Global best: 0.7314437311827957, Runtime: 0.38447 seconds\n",
      "2023/06/14 06:26:26 PM, INFO, mealpy.bio_based.SMA.BaseSMA: >Problem: P, Epoch: 96, Current best: 0.7314437311827957, Global best: 0.7314437311827957, Runtime: 0.33472 seconds\n",
      "2023/06/14 06:26:26 PM, INFO, mealpy.bio_based.SMA.BaseSMA: >Problem: P, Epoch: 97, Current best: 0.7314437311827957, Global best: 0.7314437311827957, Runtime: 0.34848 seconds\n",
      "2023/06/14 06:26:27 PM, INFO, mealpy.bio_based.SMA.BaseSMA: >Problem: P, Epoch: 98, Current best: 0.7314437311827957, Global best: 0.7314437311827957, Runtime: 0.35489 seconds\n",
      "2023/06/14 06:26:27 PM, INFO, mealpy.bio_based.SMA.BaseSMA: >Problem: P, Epoch: 99, Current best: 0.7314437311827957, Global best: 0.7314437311827957, Runtime: 0.33369 seconds\n",
      "2023/06/14 06:26:27 PM, INFO, mealpy.bio_based.SMA.BaseSMA: >Problem: P, Epoch: 100, Current best: 0.7314437311827957, Global best: 0.7314437311827957, Runtime: 0.33880 seconds\n"
     ]
    }
   ],
   "source": [
    "fs2_model.fit(data.X_train, data.y_train)"
   ]
  },
  {
   "cell_type": "code",
   "execution_count": 32,
   "metadata": {
    "pycharm": {
     "name": "#%%\n"
    }
   },
   "outputs": [
    {
     "name": "stdout",
     "output_type": "stream",
     "text": [
      "Original Dataset: (361, 279)\n",
      "Selected dataset: (91, 3)\n"
     ]
    }
   ],
   "source": [
    "X_selected = fs2_model.transform(data.X_test)\n",
    "print(f\"Original Dataset: {data.X_train.shape}\")        \n",
    "print(f\"Selected dataset: {X_selected.shape}\")    "
   ]
  },
  {
   "cell_type": "markdown",
   "metadata": {
    "pycharm": {
     "name": "#%% md\n"
    }
   },
   "source": []
  },
  {
   "cell_type": "code",
   "execution_count": 33,
   "metadata": {
    "pycharm": {
     "name": "#%%\n"
    }
   },
   "outputs": [],
   "source": [
    "fs2_model = MhaSelector(problem=\"classification\", estimator=\"knn\", \n",
    "                            optimizer=algorithm, optimizer_paras=None,\n",
    "                            transfer_func=\"vstf_01\", obj_name=\"AS\")"
   ]
  },
  {
   "cell_type": "markdown",
   "metadata": {
    "pycharm": {
     "name": "#%% md\n"
    }
   },
   "source": [
    "## 7.3 Use it like above example."
   ]
  },
  {
   "cell_type": "code",
   "execution_count": 34,
   "metadata": {
    "pycharm": {
     "name": "#%%\n"
    }
   },
   "outputs": [
    {
     "name": "stderr",
     "output_type": "stream",
     "text": [
      "2023/06/14 06:26:47 PM, INFO, mealpy.bio_based.SMA.BaseSMA: Solving 2-objective optimization problem with weights: [1. 0.].\n",
      "2023/06/14 06:26:48 PM, INFO, mealpy.bio_based.SMA.BaseSMA: >Problem: P, Epoch: 1, Current best: 0.6674355161290322, Global best: 0.6674355161290322, Runtime: 0.54990 seconds\n",
      "2023/06/14 06:26:49 PM, INFO, mealpy.bio_based.SMA.BaseSMA: >Problem: P, Epoch: 2, Current best: 0.698595200716846, Global best: 0.698595200716846, Runtime: 0.54577 seconds\n",
      "2023/06/14 06:26:49 PM, INFO, mealpy.bio_based.SMA.BaseSMA: >Problem: P, Epoch: 3, Current best: 0.698595200716846, Global best: 0.698595200716846, Runtime: 0.52199 seconds\n",
      "2023/06/14 06:26:50 PM, INFO, mealpy.bio_based.SMA.BaseSMA: >Problem: P, Epoch: 4, Current best: 0.7250541935483872, Global best: 0.7250541935483872, Runtime: 0.48616 seconds\n",
      "2023/06/14 06:26:50 PM, INFO, mealpy.bio_based.SMA.BaseSMA: >Problem: P, Epoch: 5, Current best: 0.727418311827957, Global best: 0.727418311827957, Runtime: 0.42988 seconds\n",
      "2023/06/14 06:26:51 PM, INFO, mealpy.bio_based.SMA.BaseSMA: >Problem: P, Epoch: 6, Current best: 0.727418311827957, Global best: 0.727418311827957, Runtime: 0.40544 seconds\n",
      "2023/06/14 06:26:51 PM, INFO, mealpy.bio_based.SMA.BaseSMA: >Problem: P, Epoch: 7, Current best: 0.727418311827957, Global best: 0.727418311827957, Runtime: 0.37284 seconds\n",
      "2023/06/14 06:26:51 PM, INFO, mealpy.bio_based.SMA.BaseSMA: >Problem: P, Epoch: 8, Current best: 0.7305775017921147, Global best: 0.7305775017921147, Runtime: 0.37832 seconds\n",
      "2023/06/14 06:26:52 PM, INFO, mealpy.bio_based.SMA.BaseSMA: >Problem: P, Epoch: 9, Current best: 0.7305775017921147, Global best: 0.7305775017921147, Runtime: 0.36725 seconds\n",
      "2023/06/14 06:26:52 PM, INFO, mealpy.bio_based.SMA.BaseSMA: >Problem: P, Epoch: 10, Current best: 0.7305775017921147, Global best: 0.7305775017921147, Runtime: 0.38195 seconds\n",
      "2023/06/14 06:26:52 PM, INFO, mealpy.bio_based.SMA.BaseSMA: >Problem: P, Epoch: 11, Current best: 0.7305775017921147, Global best: 0.7305775017921147, Runtime: 0.35251 seconds\n",
      "2023/06/14 06:26:53 PM, INFO, mealpy.bio_based.SMA.BaseSMA: >Problem: P, Epoch: 12, Current best: 0.7305775017921147, Global best: 0.7305775017921147, Runtime: 0.35463 seconds\n",
      "2023/06/14 06:26:53 PM, INFO, mealpy.bio_based.SMA.BaseSMA: >Problem: P, Epoch: 13, Current best: 0.7305775017921147, Global best: 0.7305775017921147, Runtime: 0.37072 seconds\n",
      "2023/06/14 06:26:54 PM, INFO, mealpy.bio_based.SMA.BaseSMA: >Problem: P, Epoch: 14, Current best: 0.7305775017921147, Global best: 0.7305775017921147, Runtime: 0.36397 seconds\n",
      "2023/06/14 06:26:54 PM, INFO, mealpy.bio_based.SMA.BaseSMA: >Problem: P, Epoch: 15, Current best: 0.7305775017921147, Global best: 0.7305775017921147, Runtime: 0.31867 seconds\n",
      "2023/06/14 06:26:54 PM, INFO, mealpy.bio_based.SMA.BaseSMA: >Problem: P, Epoch: 16, Current best: 0.7305775017921147, Global best: 0.7305775017921147, Runtime: 0.35578 seconds\n",
      "2023/06/14 06:26:55 PM, INFO, mealpy.bio_based.SMA.BaseSMA: >Problem: P, Epoch: 17, Current best: 0.7305775017921147, Global best: 0.7305775017921147, Runtime: 0.35695 seconds\n",
      "2023/06/14 06:26:55 PM, INFO, mealpy.bio_based.SMA.BaseSMA: >Problem: P, Epoch: 18, Current best: 0.7305775017921147, Global best: 0.7305775017921147, Runtime: 0.33818 seconds\n",
      "2023/06/14 06:26:55 PM, INFO, mealpy.bio_based.SMA.BaseSMA: >Problem: P, Epoch: 19, Current best: 0.7305775017921147, Global best: 0.7305775017921147, Runtime: 0.34055 seconds\n",
      "2023/06/14 06:26:56 PM, INFO, mealpy.bio_based.SMA.BaseSMA: >Problem: P, Epoch: 20, Current best: 0.7305775017921147, Global best: 0.7305775017921147, Runtime: 0.33072 seconds\n",
      "2023/06/14 06:26:56 PM, INFO, mealpy.bio_based.SMA.BaseSMA: >Problem: P, Epoch: 21, Current best: 0.7305775017921147, Global best: 0.7305775017921147, Runtime: 0.33710 seconds\n",
      "2023/06/14 06:26:56 PM, INFO, mealpy.bio_based.SMA.BaseSMA: >Problem: P, Epoch: 22, Current best: 0.7305775017921147, Global best: 0.7305775017921147, Runtime: 0.37555 seconds\n",
      "2023/06/14 06:26:57 PM, INFO, mealpy.bio_based.SMA.BaseSMA: >Problem: P, Epoch: 23, Current best: 0.7305775017921147, Global best: 0.7305775017921147, Runtime: 0.34550 seconds\n",
      "2023/06/14 06:26:57 PM, INFO, mealpy.bio_based.SMA.BaseSMA: >Problem: P, Epoch: 24, Current best: 0.7305775017921147, Global best: 0.7305775017921147, Runtime: 0.33819 seconds\n",
      "2023/06/14 06:26:57 PM, INFO, mealpy.bio_based.SMA.BaseSMA: >Problem: P, Epoch: 25, Current best: 0.7305775017921147, Global best: 0.7305775017921147, Runtime: 0.33088 seconds\n",
      "2023/06/14 06:26:58 PM, INFO, mealpy.bio_based.SMA.BaseSMA: >Problem: P, Epoch: 26, Current best: 0.7305775017921147, Global best: 0.7305775017921147, Runtime: 0.34580 seconds\n",
      "2023/06/14 06:26:58 PM, INFO, mealpy.bio_based.SMA.BaseSMA: >Problem: P, Epoch: 27, Current best: 0.7305775017921147, Global best: 0.7305775017921147, Runtime: 0.44003 seconds\n",
      "2023/06/14 06:26:59 PM, INFO, mealpy.bio_based.SMA.BaseSMA: >Problem: P, Epoch: 28, Current best: 0.7305775017921147, Global best: 0.7305775017921147, Runtime: 0.42240 seconds\n",
      "2023/06/14 06:26:59 PM, INFO, mealpy.bio_based.SMA.BaseSMA: >Problem: P, Epoch: 29, Current best: 0.7305775017921147, Global best: 0.7305775017921147, Runtime: 0.35974 seconds\n",
      "2023/06/14 06:26:59 PM, INFO, mealpy.bio_based.SMA.BaseSMA: >Problem: P, Epoch: 30, Current best: 0.7305775017921147, Global best: 0.7305775017921147, Runtime: 0.35281 seconds\n",
      "2023/06/14 06:27:00 PM, INFO, mealpy.bio_based.SMA.BaseSMA: >Problem: P, Epoch: 31, Current best: 0.7305775017921147, Global best: 0.7305775017921147, Runtime: 0.36006 seconds\n",
      "2023/06/14 06:27:00 PM, INFO, mealpy.bio_based.SMA.BaseSMA: >Problem: P, Epoch: 32, Current best: 0.7305775017921147, Global best: 0.7305775017921147, Runtime: 0.33435 seconds\n",
      "2023/06/14 06:27:00 PM, INFO, mealpy.bio_based.SMA.BaseSMA: >Problem: P, Epoch: 33, Current best: 0.7305775017921147, Global best: 0.7305775017921147, Runtime: 0.34357 seconds\n",
      "2023/06/14 06:27:01 PM, INFO, mealpy.bio_based.SMA.BaseSMA: >Problem: P, Epoch: 34, Current best: 0.7305775017921147, Global best: 0.7305775017921147, Runtime: 0.37395 seconds\n",
      "2023/06/14 06:27:01 PM, INFO, mealpy.bio_based.SMA.BaseSMA: >Problem: P, Epoch: 35, Current best: 0.7305775017921147, Global best: 0.7305775017921147, Runtime: 0.32991 seconds\n",
      "2023/06/14 06:27:01 PM, INFO, mealpy.bio_based.SMA.BaseSMA: >Problem: P, Epoch: 36, Current best: 0.7305775017921147, Global best: 0.7305775017921147, Runtime: 0.34613 seconds\n",
      "2023/06/14 06:27:02 PM, INFO, mealpy.bio_based.SMA.BaseSMA: >Problem: P, Epoch: 37, Current best: 0.7305775017921147, Global best: 0.7305775017921147, Runtime: 0.33846 seconds\n",
      "2023/06/14 06:27:02 PM, INFO, mealpy.bio_based.SMA.BaseSMA: >Problem: P, Epoch: 38, Current best: 0.7305775017921147, Global best: 0.7305775017921147, Runtime: 0.33576 seconds\n",
      "2023/06/14 06:27:02 PM, INFO, mealpy.bio_based.SMA.BaseSMA: >Problem: P, Epoch: 39, Current best: 0.7305775017921147, Global best: 0.7305775017921147, Runtime: 0.34494 seconds\n",
      "2023/06/14 06:27:03 PM, INFO, mealpy.bio_based.SMA.BaseSMA: >Problem: P, Epoch: 40, Current best: 0.7305775017921147, Global best: 0.7305775017921147, Runtime: 0.37018 seconds\n",
      "2023/06/14 06:27:03 PM, INFO, mealpy.bio_based.SMA.BaseSMA: >Problem: P, Epoch: 41, Current best: 0.7305775017921147, Global best: 0.7305775017921147, Runtime: 0.42279 seconds\n",
      "2023/06/14 06:27:04 PM, INFO, mealpy.bio_based.SMA.BaseSMA: >Problem: P, Epoch: 42, Current best: 0.7305775017921147, Global best: 0.7305775017921147, Runtime: 0.35378 seconds\n",
      "2023/06/14 06:27:04 PM, INFO, mealpy.bio_based.SMA.BaseSMA: >Problem: P, Epoch: 43, Current best: 0.7305775017921147, Global best: 0.7305775017921147, Runtime: 0.33204 seconds\n",
      "2023/06/14 06:27:04 PM, INFO, mealpy.bio_based.SMA.BaseSMA: >Problem: P, Epoch: 44, Current best: 0.7305775017921147, Global best: 0.7305775017921147, Runtime: 0.34354 seconds\n",
      "2023/06/14 06:27:05 PM, INFO, mealpy.bio_based.SMA.BaseSMA: >Problem: P, Epoch: 45, Current best: 0.7305775017921147, Global best: 0.7305775017921147, Runtime: 0.46929 seconds\n",
      "2023/06/14 06:27:05 PM, INFO, mealpy.bio_based.SMA.BaseSMA: >Problem: P, Epoch: 46, Current best: 0.7305775017921147, Global best: 0.7305775017921147, Runtime: 0.36140 seconds\n"
     ]
    },
    {
     "name": "stderr",
     "output_type": "stream",
     "text": [
      "2023/06/14 06:27:05 PM, INFO, mealpy.bio_based.SMA.BaseSMA: >Problem: P, Epoch: 47, Current best: 0.7305775017921147, Global best: 0.7305775017921147, Runtime: 0.34675 seconds\n",
      "2023/06/14 06:27:06 PM, INFO, mealpy.bio_based.SMA.BaseSMA: >Problem: P, Epoch: 48, Current best: 0.7305775017921147, Global best: 0.7305775017921147, Runtime: 0.33604 seconds\n",
      "2023/06/14 06:27:06 PM, INFO, mealpy.bio_based.SMA.BaseSMA: >Problem: P, Epoch: 49, Current best: 0.7305775017921147, Global best: 0.7305775017921147, Runtime: 0.34011 seconds\n",
      "2023/06/14 06:27:06 PM, INFO, mealpy.bio_based.SMA.BaseSMA: >Problem: P, Epoch: 50, Current best: 0.7305775017921147, Global best: 0.7305775017921147, Runtime: 0.31976 seconds\n",
      "2023/06/14 06:27:07 PM, INFO, mealpy.bio_based.SMA.BaseSMA: >Problem: P, Epoch: 51, Current best: 0.7305775017921147, Global best: 0.7305775017921147, Runtime: 0.32956 seconds\n",
      "2023/06/14 06:27:07 PM, INFO, mealpy.bio_based.SMA.BaseSMA: >Problem: P, Epoch: 52, Current best: 0.7305775017921147, Global best: 0.7305775017921147, Runtime: 0.32416 seconds\n",
      "2023/06/14 06:27:07 PM, INFO, mealpy.bio_based.SMA.BaseSMA: >Problem: P, Epoch: 53, Current best: 0.7305775017921147, Global best: 0.7305775017921147, Runtime: 0.30879 seconds\n",
      "2023/06/14 06:27:08 PM, INFO, mealpy.bio_based.SMA.BaseSMA: >Problem: P, Epoch: 54, Current best: 0.7305775017921147, Global best: 0.7305775017921147, Runtime: 0.35595 seconds\n",
      "2023/06/14 06:27:08 PM, INFO, mealpy.bio_based.SMA.BaseSMA: >Problem: P, Epoch: 55, Current best: 0.7305775017921147, Global best: 0.7305775017921147, Runtime: 0.38393 seconds\n",
      "2023/06/14 06:27:08 PM, INFO, mealpy.bio_based.SMA.BaseSMA: >Problem: P, Epoch: 56, Current best: 0.7305775017921147, Global best: 0.7305775017921147, Runtime: 0.31661 seconds\n",
      "2023/06/14 06:27:09 PM, INFO, mealpy.bio_based.SMA.BaseSMA: >Problem: P, Epoch: 57, Current best: 0.7305775017921147, Global best: 0.7305775017921147, Runtime: 0.32508 seconds\n",
      "2023/06/14 06:27:09 PM, INFO, mealpy.bio_based.SMA.BaseSMA: >Problem: P, Epoch: 58, Current best: 0.7305775017921147, Global best: 0.7305775017921147, Runtime: 0.32113 seconds\n",
      "2023/06/14 06:27:09 PM, INFO, mealpy.bio_based.SMA.BaseSMA: >Problem: P, Epoch: 59, Current best: 0.7305775017921147, Global best: 0.7305775017921147, Runtime: 0.33006 seconds\n",
      "2023/06/14 06:27:10 PM, INFO, mealpy.bio_based.SMA.BaseSMA: >Problem: P, Epoch: 60, Current best: 0.7305775017921147, Global best: 0.7305775017921147, Runtime: 0.33806 seconds\n",
      "2023/06/14 06:27:10 PM, INFO, mealpy.bio_based.SMA.BaseSMA: >Problem: P, Epoch: 61, Current best: 0.7305775017921147, Global best: 0.7305775017921147, Runtime: 0.34293 seconds\n",
      "2023/06/14 06:27:10 PM, INFO, mealpy.bio_based.SMA.BaseSMA: >Problem: P, Epoch: 62, Current best: 0.7305775017921147, Global best: 0.7305775017921147, Runtime: 0.33652 seconds\n",
      "2023/06/14 06:27:11 PM, INFO, mealpy.bio_based.SMA.BaseSMA: >Problem: P, Epoch: 63, Current best: 0.7305775017921147, Global best: 0.7305775017921147, Runtime: 0.30672 seconds\n",
      "2023/06/14 06:27:11 PM, INFO, mealpy.bio_based.SMA.BaseSMA: >Problem: P, Epoch: 64, Current best: 0.7305775017921147, Global best: 0.7305775017921147, Runtime: 0.33112 seconds\n",
      "2023/06/14 06:27:11 PM, INFO, mealpy.bio_based.SMA.BaseSMA: >Problem: P, Epoch: 65, Current best: 0.7305775017921147, Global best: 0.7305775017921147, Runtime: 0.31391 seconds\n",
      "2023/06/14 06:27:12 PM, INFO, mealpy.bio_based.SMA.BaseSMA: >Problem: P, Epoch: 66, Current best: 0.7305775017921147, Global best: 0.7305775017921147, Runtime: 0.32365 seconds\n",
      "2023/06/14 06:27:12 PM, INFO, mealpy.bio_based.SMA.BaseSMA: >Problem: P, Epoch: 67, Current best: 0.7305775017921147, Global best: 0.7305775017921147, Runtime: 0.30930 seconds\n",
      "2023/06/14 06:27:12 PM, INFO, mealpy.bio_based.SMA.BaseSMA: >Problem: P, Epoch: 68, Current best: 0.7305775017921147, Global best: 0.7305775017921147, Runtime: 0.34774 seconds\n",
      "2023/06/14 06:27:13 PM, INFO, mealpy.bio_based.SMA.BaseSMA: >Problem: P, Epoch: 69, Current best: 0.7305775017921147, Global best: 0.7305775017921147, Runtime: 0.36457 seconds\n",
      "2023/06/14 06:27:13 PM, INFO, mealpy.bio_based.SMA.BaseSMA: >Problem: P, Epoch: 70, Current best: 0.7305775017921147, Global best: 0.7305775017921147, Runtime: 0.38101 seconds\n",
      "2023/06/14 06:27:13 PM, INFO, mealpy.bio_based.SMA.BaseSMA: >Problem: P, Epoch: 71, Current best: 0.7305775017921147, Global best: 0.7305775017921147, Runtime: 0.35024 seconds\n",
      "2023/06/14 06:27:14 PM, INFO, mealpy.bio_based.SMA.BaseSMA: >Problem: P, Epoch: 72, Current best: 0.7305775017921147, Global best: 0.7305775017921147, Runtime: 0.36524 seconds\n",
      "2023/06/14 06:27:14 PM, INFO, mealpy.bio_based.SMA.BaseSMA: >Problem: P, Epoch: 73, Current best: 0.7305775017921147, Global best: 0.7305775017921147, Runtime: 0.32320 seconds\n",
      "2023/06/14 06:27:14 PM, INFO, mealpy.bio_based.SMA.BaseSMA: >Problem: P, Epoch: 74, Current best: 0.7305775017921147, Global best: 0.7305775017921147, Runtime: 0.31524 seconds\n",
      "2023/06/14 06:27:15 PM, INFO, mealpy.bio_based.SMA.BaseSMA: >Problem: P, Epoch: 75, Current best: 0.7305775017921147, Global best: 0.7305775017921147, Runtime: 0.33800 seconds\n",
      "2023/06/14 06:27:15 PM, INFO, mealpy.bio_based.SMA.BaseSMA: >Problem: P, Epoch: 76, Current best: 0.7305775017921147, Global best: 0.7305775017921147, Runtime: 0.32278 seconds\n",
      "2023/06/14 06:27:15 PM, INFO, mealpy.bio_based.SMA.BaseSMA: >Problem: P, Epoch: 77, Current best: 0.7305775017921147, Global best: 0.7305775017921147, Runtime: 0.32640 seconds\n",
      "2023/06/14 06:27:16 PM, INFO, mealpy.bio_based.SMA.BaseSMA: >Problem: P, Epoch: 78, Current best: 0.7305775017921147, Global best: 0.7305775017921147, Runtime: 0.32708 seconds\n",
      "2023/06/14 06:27:16 PM, INFO, mealpy.bio_based.SMA.BaseSMA: >Problem: P, Epoch: 79, Current best: 0.7305775017921147, Global best: 0.7305775017921147, Runtime: 0.30832 seconds\n",
      "2023/06/14 06:27:16 PM, INFO, mealpy.bio_based.SMA.BaseSMA: >Problem: P, Epoch: 80, Current best: 0.7305775017921147, Global best: 0.7305775017921147, Runtime: 0.31860 seconds\n",
      "2023/06/14 06:27:17 PM, INFO, mealpy.bio_based.SMA.BaseSMA: >Problem: P, Epoch: 81, Current best: 0.7305775017921147, Global best: 0.7305775017921147, Runtime: 0.33189 seconds\n",
      "2023/06/14 06:27:17 PM, INFO, mealpy.bio_based.SMA.BaseSMA: >Problem: P, Epoch: 82, Current best: 0.7305775017921147, Global best: 0.7305775017921147, Runtime: 0.31027 seconds\n",
      "2023/06/14 06:27:17 PM, INFO, mealpy.bio_based.SMA.BaseSMA: >Problem: P, Epoch: 83, Current best: 0.7305775017921147, Global best: 0.7305775017921147, Runtime: 0.31209 seconds\n",
      "2023/06/14 06:27:18 PM, INFO, mealpy.bio_based.SMA.BaseSMA: >Problem: P, Epoch: 84, Current best: 0.7305775017921147, Global best: 0.7305775017921147, Runtime: 0.33465 seconds\n",
      "2023/06/14 06:27:18 PM, INFO, mealpy.bio_based.SMA.BaseSMA: >Problem: P, Epoch: 85, Current best: 0.7305775017921147, Global best: 0.7305775017921147, Runtime: 0.33509 seconds\n",
      "2023/06/14 06:27:18 PM, INFO, mealpy.bio_based.SMA.BaseSMA: >Problem: P, Epoch: 86, Current best: 0.7305775017921147, Global best: 0.7305775017921147, Runtime: 0.32378 seconds\n",
      "2023/06/14 06:27:19 PM, INFO, mealpy.bio_based.SMA.BaseSMA: >Problem: P, Epoch: 87, Current best: 0.7305775017921147, Global best: 0.7305775017921147, Runtime: 0.34617 seconds\n",
      "2023/06/14 06:27:19 PM, INFO, mealpy.bio_based.SMA.BaseSMA: >Problem: P, Epoch: 88, Current best: 0.7305775017921147, Global best: 0.7305775017921147, Runtime: 0.31837 seconds\n",
      "2023/06/14 06:27:19 PM, INFO, mealpy.bio_based.SMA.BaseSMA: >Problem: P, Epoch: 89, Current best: 0.7305775017921147, Global best: 0.7305775017921147, Runtime: 0.31066 seconds\n",
      "2023/06/14 06:27:20 PM, INFO, mealpy.bio_based.SMA.BaseSMA: >Problem: P, Epoch: 90, Current best: 0.7305775017921147, Global best: 0.7305775017921147, Runtime: 0.32138 seconds\n",
      "2023/06/14 06:27:20 PM, INFO, mealpy.bio_based.SMA.BaseSMA: >Problem: P, Epoch: 91, Current best: 0.7305775017921147, Global best: 0.7305775017921147, Runtime: 0.31020 seconds\n",
      "2023/06/14 06:27:20 PM, INFO, mealpy.bio_based.SMA.BaseSMA: >Problem: P, Epoch: 92, Current best: 0.7305775017921147, Global best: 0.7305775017921147, Runtime: 0.33537 seconds\n",
      "2023/06/14 06:27:21 PM, INFO, mealpy.bio_based.SMA.BaseSMA: >Problem: P, Epoch: 93, Current best: 0.7305775017921147, Global best: 0.7305775017921147, Runtime: 0.35271 seconds\n"
     ]
    },
    {
     "name": "stderr",
     "output_type": "stream",
     "text": [
      "2023/06/14 06:27:21 PM, INFO, mealpy.bio_based.SMA.BaseSMA: >Problem: P, Epoch: 94, Current best: 0.7305775017921147, Global best: 0.7305775017921147, Runtime: 0.38554 seconds\n",
      "2023/06/14 06:27:21 PM, INFO, mealpy.bio_based.SMA.BaseSMA: >Problem: P, Epoch: 95, Current best: 0.7305775017921147, Global best: 0.7305775017921147, Runtime: 0.34398 seconds\n",
      "2023/06/14 06:27:22 PM, INFO, mealpy.bio_based.SMA.BaseSMA: >Problem: P, Epoch: 96, Current best: 0.7305775017921147, Global best: 0.7305775017921147, Runtime: 0.31349 seconds\n",
      "2023/06/14 06:27:22 PM, INFO, mealpy.bio_based.SMA.BaseSMA: >Problem: P, Epoch: 97, Current best: 0.7305775017921147, Global best: 0.7305775017921147, Runtime: 0.31512 seconds\n",
      "2023/06/14 06:27:22 PM, INFO, mealpy.bio_based.SMA.BaseSMA: >Problem: P, Epoch: 98, Current best: 0.7305775017921147, Global best: 0.7305775017921147, Runtime: 0.33664 seconds\n",
      "2023/06/14 06:27:23 PM, INFO, mealpy.bio_based.SMA.BaseSMA: >Problem: P, Epoch: 99, Current best: 0.7305775017921147, Global best: 0.7305775017921147, Runtime: 0.31931 seconds\n",
      "2023/06/14 06:27:23 PM, INFO, mealpy.bio_based.SMA.BaseSMA: >Problem: P, Epoch: 100, Current best: 0.7305775017921147, Global best: 0.7305775017921147, Runtime: 0.31596 seconds\n"
     ]
    }
   ],
   "source": [
    "fs2_model.fit(data.X_train, data.y_train)"
   ]
  },
  {
   "cell_type": "code",
   "execution_count": 35,
   "metadata": {
    "pycharm": {
     "name": "#%%\n"
    }
   },
   "outputs": [
    {
     "name": "stdout",
     "output_type": "stream",
     "text": [
      "Original Dataset: (361, 279)\n",
      "Selected dataset: (91, 13)\n"
     ]
    }
   ],
   "source": [
    "X_selected = fs2_model.transform(data.X_test)\n",
    "print(f\"Original Dataset: {data.X_train.shape}\")        \n",
    "print(f\"Selected dataset: {X_selected.shape}\")    "
   ]
  },
  {
   "cell_type": "markdown",
   "metadata": {
    "pycharm": {
     "name": "#%% md\n"
    }
   },
   "source": []
  },
  {
   "cell_type": "code",
   "execution_count": null,
   "metadata": {
    "pycharm": {
     "name": "#%%\n"
    }
   },
   "outputs": [],
   "source": []
  }
 ],
 "metadata": {
  "kernelspec": {
   "display_name": "Python 3 (ipykernel)",
   "language": "python",
   "name": "python3"
  },
  "language_info": {
   "codemirror_mode": {
    "name": "ipython",
    "version": 3
   },
   "file_extension": ".py",
   "mimetype": "text/x-python",
   "name": "python",
   "nbconvert_exporter": "python",
   "pygments_lexer": "ipython3",
   "version": "3.8.5"
  }
 },
 "nbformat": 4,
 "nbformat_minor": 1
}