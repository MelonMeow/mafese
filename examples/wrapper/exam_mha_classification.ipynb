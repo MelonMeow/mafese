{
 "cells": [
  {
   "cell_type": "code",
   "execution_count": 3,
   "metadata": {
    "pycharm": {
     "name": "#%%\n"
    }
   },
   "outputs": [],
   "source": [
    "from mafese import get_dataset\n",
    "from mafese.wrapper.mha import MhaSelector"
   ]
  },
  {
   "cell_type": "code",
   "execution_count": 4,
   "metadata": {
    "pycharm": {
     "name": "#%%\n"
    }
   },
   "outputs": [
    {
     "name": "stdout",
     "output_type": "stream",
     "text": [
      "Requested CLASSIFICATION dataset: Arrhythmia found and loaded!\n"
     ]
    }
   ],
   "source": [
    "data = get_dataset(\"Arrhythmia\")\n",
    "data.split_train_test(test_size=0.2)"
   ]
  },
  {
   "cell_type": "markdown",
   "metadata": {
    "pycharm": {
     "name": "#%% md\n"
    }
   },
   "source": [
    "## 1. Use MhaSelector class to print out the supported informations"
   ]
  },
  {
   "cell_type": "code",
   "execution_count": 5,
   "metadata": {
    "pycharm": {
     "name": "#%%\n"
    }
   },
   "outputs": [
    {
     "name": "stdout",
     "output_type": "stream",
     "text": [
      "List supported Estimator\n",
      "['knn', 'rf', 'svm']\n"
     ]
    }
   ],
   "source": [
    "print(\"List supported Estimator\")\n",
    "print(MhaSelector.SUPPORTED_ESTIMATORS)"
   ]
  },
  {
   "cell_type": "code",
   "execution_count": 6,
   "metadata": {
    "pycharm": {
     "name": "#%%\n"
    }
   },
   "outputs": [
    {
     "name": "stdout",
     "output_type": "stream",
     "text": [
      "List supported Optimizer\n",
      "['OriginalABC', 'OriginalACOR', 'AugmentedAEO', 'EnhancedAEO', 'ImprovedAEO', 'ModifiedAEO', 'OriginalAEO', 'MGTO', 'OriginalAGTO', 'BaseALO', 'OriginalALO', 'OriginalAO', 'OriginalAOA', 'IARO', 'LARO', 'OriginalARO', 'OriginalASO', 'OriginalAVOA', 'OriginalArchOA', 'AdaptiveBA', 'ModifiedBA', 'OriginalBA', 'BaseBBO', 'OriginalBBO', 'OriginalBBOA', 'OriginalBES', 'ABFO', 'OriginalBFO', 'OriginalBMO', 'BaseBRO', 'OriginalBRO', 'OriginalBSA', 'ImprovedBSO', 'OriginalBSO', 'CleverBookBeesA', 'OriginalBeesA', 'ProbBeesA', 'OriginalCA', 'OriginalCDO', 'OriginalCEM', 'OriginalCGO', 'BaseCHIO', 'OriginalCHIO', 'OriginalCOA', 'OCRO', 'OriginalCRO', 'OriginalCSA', 'OriginalCSO', 'OriginalCircleSA', 'OriginalCoatiOA', 'BaseDE', 'JADE', 'L_SHADE', 'SADE', 'SAP_DE', 'SHADE', 'DevDMOA', 'OriginalDMOA', 'OriginalDO', 'BaseEFO', 'OriginalEFO', 'OriginalEHO', 'AdaptiveEO', 'ModifiedEO', 'OriginalEO', 'OriginalEOA', 'LevyEP', 'OriginalEP', 'CMA_ES', 'LevyES', 'OriginalES', 'Simple_CMA_ES', 'OriginalESOA', 'OriginalEVO', 'OriginalFA', 'BaseFBIO', 'OriginalFBIO', 'OriginalFFA', 'OriginalFFO', 'OriginalFLA', 'BaseFOA', 'OriginalFOA', 'WhaleFOA', 'OriginalFOX', 'OriginalFPA', 'BaseGA', 'EliteMultiGA', 'EliteSingleGA', 'MultiGA', 'SingleGA', 'OriginalGBO', 'BaseGCO', 'OriginalGCO', 'OriginalGJO', 'OriginalGOA', 'BaseGSKA', 'OriginalGSKA', 'Matlab101GTO', 'Matlab102GTO', 'OriginalGTO', 'GWO_WOA', 'OriginalGWO', 'RW_GWO', 'OriginalHBA', 'OriginalHBO', 'OriginalHC', 'SwarmHC', 'OriginalHCO', 'OriginalHGS', 'OriginalHGSO', 'OriginalHHO', 'BaseHS', 'OriginalHS', 'OriginalICA', 'OriginalINFO', 'OriginalIWO', 'BaseJA', 'LevyJA', 'OriginalJA', 'BaseLCO', 'ImprovedLCO', 'OriginalLCO', 'OriginalMA', 'BaseMFO', 'OriginalMFO', 'OriginalMGO', 'OriginalMPA', 'OriginalMRFO', 'WMQIMRFO', 'OriginalMSA', 'BaseMVO', 'OriginalMVO', 'OriginalNGO', 'ImprovedNMRA', 'OriginalNMRA', 'OriginalNRO', 'OriginalOOA', 'OriginalPFA', 'OriginalPOA', 'CL_PSO', 'C_PSO', 'HPSO_TVAC', 'OriginalPSO', 'PPSO', 'OriginalPSS', 'BaseQSA', 'ImprovedQSA', 'LevyQSA', 'OppoQSA', 'OriginalQSA', 'OriginalRIME', 'OriginalRUN', 'OriginalSA', 'BaseSARO', 'OriginalSARO', 'BaseSBO', 'OriginalSBO', 'BaseSCA', 'OriginalSCA', 'QleSCA', 'OriginalSCSO', 'ImprovedSFO', 'OriginalSFO', 'OriginalSHIO', 'OriginalSHO', 'ImprovedSLO', 'ModifiedSLO', 'OriginalSLO', 'BaseSMA', 'OriginalSMA', 'DevSOA', 'OriginalSOA', 'OriginalSOS', 'DevSPBO', 'OriginalSPBO', 'OriginalSRSR', 'BaseSSA', 'OriginalSSA', 'OriginalSSDO', 'OriginalSSO', 'OriginalSSpiderA', 'OriginalSSpiderO', 'OriginalSTO', 'OriginalSeaHO', 'OriginalServalOA', 'OriginalTDO', 'BaseTLO', 'ImprovedTLO', 'OriginalTLO', 'OriginalTOA', 'OriginalTPO', 'OriginalTSA', 'OriginalTSO', 'EnhancedTWO', 'LevyTWO', 'OppoTWO', 'OriginalTWO', 'BaseVCS', 'OriginalVCS', 'OriginalWCA', 'OriginalWDO', 'OriginalWHO', 'HI_WOA', 'OriginalWOA', 'OriginalWaOA', 'OriginalWarSO', 'OriginalZOA']\n"
     ]
    }
   ],
   "source": [
    "print(\"List supported Optimizer\")\n",
    "print(MhaSelector.SUPPORTED_OPTIMIZERS)"
   ]
  },
  {
   "cell_type": "code",
   "execution_count": 7,
   "metadata": {
    "pycharm": {
     "name": "#%%\n"
    }
   },
   "outputs": [
    {
     "name": "stdout",
     "output_type": "stream",
     "text": [
      "List supported transfer functions\n",
      "['vstf_01', 'vstf_02', 'vstf_03', 'vstf_04', 'sstf_01', 'sstf_02', 'sstf_03', 'sstf_04', 'rtf']\n"
     ]
    }
   ],
   "source": [
    "print(\"List supported transfer functions\")\n",
    "print(MhaSelector.SUPPORTED_TRANSFER_FUNCS)"
   ]
  },
  {
   "cell_type": "code",
   "execution_count": 8,
   "metadata": {
    "pycharm": {
     "name": "#%%\n"
    }
   },
   "outputs": [
    {
     "name": "stdout",
     "output_type": "stream",
     "text": [
      "List supported fitness metrics for regression problem\n",
      "{'MAE': 'min', 'MSE': 'min', 'RMSE': 'min', 'MRE': 'min', 'MAPE': 'min', 'MASE': 'min', 'NSE': 'max', 'NNSE': 'max', 'WI': 'max', 'PCC': 'max', 'R2s': 'max', 'R2': 'max', 'AR2': 'max', 'CI': 'max', 'KGE': 'max', 'VAF': 'max', 'A10': 'max', 'A20': 'max'}\n"
     ]
    }
   ],
   "source": [
    "print(\"List supported fitness metrics for regression problem\")\n",
    "print(MhaSelector.SUPPORTED_REG_METRICS)"
   ]
  },
  {
   "cell_type": "code",
   "execution_count": 9,
   "metadata": {
    "pycharm": {
     "name": "#%%\n"
    }
   },
   "outputs": [
    {
     "name": "stdout",
     "output_type": "stream",
     "text": [
      "List supported fitness metrics for classification problem\n",
      "{'AS': 'max', 'PS': 'max', 'NPV': 'max', 'RS': 'max', 'F1S': 'max', 'F2S': 'max', 'FBS': 'max', 'SS': 'max', 'MCC': 'max', 'JSI': 'max', 'CKS': 'max', 'ROC-AUC': 'max'}\n"
     ]
    }
   ],
   "source": [
    "print(\"List supported fitness metrics for classification problem\")\n",
    "print(MhaSelector.SUPPORTED_CLS_METRICS)"
   ]
  },
  {
   "cell_type": "code",
   "execution_count": null,
   "outputs": [],
   "source": [
    "## 2. Define an instance of MhaSelector "
   ],
   "metadata": {
    "collapsed": false,
    "pycharm": {
     "name": "#%%\n"
    }
   }
  },
  {
   "cell_type": "code",
   "execution_count": 11,
   "metadata": {
    "pycharm": {
     "name": "#%%\n"
    }
   },
   "outputs": [],
   "source": [
    "feat_selector = MhaSelector(problem=\"classification\", estimator=\"knn\", \n",
    "                            optimizer=\"BaseGA\", optimizer_paras=None,\n",
    "                            transfer_func=\"vstf_01\", obj_name=\"AS\")"
   ]
  },
  {
   "cell_type": "code",
   "execution_count": null,
   "outputs": [],
   "source": [
    "## 3. Train with dataset"
   ],
   "metadata": {
    "collapsed": false,
    "pycharm": {
     "name": "#%%\n"
    }
   }
  },
  {
   "cell_type": "code",
   "execution_count": 13,
   "metadata": {
    "pycharm": {
     "name": "#%%\n"
    }
   },
   "outputs": [
    {
     "name": "stderr",
     "output_type": "stream",
     "text": [
      "2023/05/30 05:04:51 PM, INFO, mealpy.evolutionary_based.GA.BaseGA: Solving 2-objective optimization problem with weights: [1. 0.].\n",
      "2023/05/30 05:04:52 PM, INFO, mealpy.evolutionary_based.GA.BaseGA: >Problem: P, Epoch: 1, Current best: 0.6120233578467696, Global best: 0.6120233578467696, Runtime: 0.33722 seconds\n",
      "2023/05/30 05:04:52 PM, INFO, mealpy.evolutionary_based.GA.BaseGA: >Problem: P, Epoch: 2, Current best: 0.6318012943766063, Global best: 0.6318012943766063, Runtime: 0.33650 seconds\n",
      "2023/05/30 05:04:53 PM, INFO, mealpy.evolutionary_based.GA.BaseGA: >Problem: P, Epoch: 3, Current best: 0.6505576754617919, Global best: 0.6505576754617919, Runtime: 0.33693 seconds\n",
      "2023/05/30 05:04:53 PM, INFO, mealpy.evolutionary_based.GA.BaseGA: >Problem: P, Epoch: 4, Current best: 0.6644006574732553, Global best: 0.6644006574732553, Runtime: 0.35573 seconds\n",
      "2023/05/30 05:04:53 PM, INFO, mealpy.evolutionary_based.GA.BaseGA: >Problem: P, Epoch: 5, Current best: 0.6707785355005489, Global best: 0.6707785355005489, Runtime: 0.35391 seconds\n",
      "2023/05/30 05:04:54 PM, INFO, mealpy.evolutionary_based.GA.BaseGA: >Problem: P, Epoch: 6, Current best: 0.6888421658464274, Global best: 0.6888421658464274, Runtime: 0.31375 seconds\n",
      "2023/05/30 05:04:54 PM, INFO, mealpy.evolutionary_based.GA.BaseGA: >Problem: P, Epoch: 7, Current best: 0.6904015879054112, Global best: 0.6904015879054112, Runtime: 0.31530 seconds\n",
      "2023/05/30 05:04:54 PM, INFO, mealpy.evolutionary_based.GA.BaseGA: >Problem: P, Epoch: 8, Current best: 0.7147710879444535, Global best: 0.7147710879444535, Runtime: 0.31686 seconds\n",
      "2023/05/30 05:04:55 PM, INFO, mealpy.evolutionary_based.GA.BaseGA: >Problem: P, Epoch: 9, Current best: 0.7201650189829972, Global best: 0.7201650189829972, Runtime: 0.33792 seconds\n",
      "2023/05/30 05:04:55 PM, INFO, mealpy.evolutionary_based.GA.BaseGA: >Problem: P, Epoch: 10, Current best: 0.7183455310843366, Global best: 0.7201650189829972, Runtime: 0.31344 seconds\n",
      "2023/05/30 05:04:55 PM, INFO, mealpy.evolutionary_based.GA.BaseGA: >Problem: P, Epoch: 11, Current best: 0.7343907772515192, Global best: 0.7343907772515192, Runtime: 0.31851 seconds\n",
      "2023/05/30 05:04:56 PM, INFO, mealpy.evolutionary_based.GA.BaseGA: >Problem: P, Epoch: 12, Current best: 0.7240223149330987, Global best: 0.7343907772515192, Runtime: 0.33325 seconds\n",
      "2023/05/30 05:04:56 PM, INFO, mealpy.evolutionary_based.GA.BaseGA: >Problem: P, Epoch: 13, Current best: 0.7243963734294172, Global best: 0.7343907772515192, Runtime: 0.31918 seconds\n",
      "2023/05/30 05:04:56 PM, INFO, mealpy.evolutionary_based.GA.BaseGA: >Problem: P, Epoch: 14, Current best: 0.7097386648575814, Global best: 0.7343907772515192, Runtime: 0.31686 seconds\n",
      "2023/05/30 05:04:57 PM, INFO, mealpy.evolutionary_based.GA.BaseGA: >Problem: P, Epoch: 15, Current best: 0.732570183372046, Global best: 0.7343907772515192, Runtime: 0.31921 seconds\n",
      "2023/05/30 05:04:57 PM, INFO, mealpy.evolutionary_based.GA.BaseGA: >Problem: P, Epoch: 16, Current best: 0.7172680322767558, Global best: 0.7343907772515192, Runtime: 0.31701 seconds\n",
      "2023/05/30 05:04:57 PM, INFO, mealpy.evolutionary_based.GA.BaseGA: >Problem: P, Epoch: 17, Current best: 0.7198950970349149, Global best: 0.7343907772515192, Runtime: 0.30745 seconds\n",
      "2023/05/30 05:04:58 PM, INFO, mealpy.evolutionary_based.GA.BaseGA: >Problem: P, Epoch: 18, Current best: 0.7138878554258656, Global best: 0.7343907772515192, Runtime: 0.31274 seconds\n",
      "2023/05/30 05:04:58 PM, INFO, mealpy.evolutionary_based.GA.BaseGA: >Problem: P, Epoch: 19, Current best: 0.729433546643854, Global best: 0.7343907772515192, Runtime: 0.31684 seconds\n",
      "2023/05/30 05:04:58 PM, INFO, mealpy.evolutionary_based.GA.BaseGA: >Problem: P, Epoch: 20, Current best: 0.7241140600986583, Global best: 0.7343907772515192, Runtime: 0.31916 seconds\n",
      "2023/05/30 05:04:59 PM, INFO, mealpy.evolutionary_based.GA.BaseGA: >Problem: P, Epoch: 21, Current best: 0.7358051171082992, Global best: 0.7358051171082992, Runtime: 0.31982 seconds\n",
      "2023/05/30 05:04:59 PM, INFO, mealpy.evolutionary_based.GA.BaseGA: >Problem: P, Epoch: 22, Current best: 0.7274329729959349, Global best: 0.7358051171082992, Runtime: 0.31140 seconds\n",
      "2023/05/30 05:04:59 PM, INFO, mealpy.evolutionary_based.GA.BaseGA: >Problem: P, Epoch: 23, Current best: 0.7198929408604936, Global best: 0.7358051171082992, Runtime: 0.32477 seconds\n",
      "2023/05/30 05:05:00 PM, INFO, mealpy.evolutionary_based.GA.BaseGA: >Problem: P, Epoch: 24, Current best: 0.7239522278464846, Global best: 0.7358051171082992, Runtime: 0.31281 seconds\n",
      "2023/05/30 05:05:00 PM, INFO, mealpy.evolutionary_based.GA.BaseGA: >Problem: P, Epoch: 25, Current best: 0.7233014239011419, Global best: 0.7358051171082992, Runtime: 0.32859 seconds\n",
      "2023/05/30 05:05:00 PM, INFO, mealpy.evolutionary_based.GA.BaseGA: >Problem: P, Epoch: 26, Current best: 0.7307078006232207, Global best: 0.7358051171082992, Runtime: 0.33017 seconds\n",
      "2023/05/30 05:05:00 PM, INFO, mealpy.evolutionary_based.GA.BaseGA: >Problem: P, Epoch: 27, Current best: 0.7219946075226198, Global best: 0.7358051171082992, Runtime: 0.31977 seconds\n",
      "2023/05/30 05:05:01 PM, INFO, mealpy.evolutionary_based.GA.BaseGA: >Problem: P, Epoch: 28, Current best: 0.7368126943634651, Global best: 0.7368126943634651, Runtime: 0.32417 seconds\n",
      "2023/05/30 05:05:01 PM, INFO, mealpy.evolutionary_based.GA.BaseGA: >Problem: P, Epoch: 29, Current best: 0.7331927066801998, Global best: 0.7368126943634651, Runtime: 0.32223 seconds\n",
      "2023/05/30 05:05:01 PM, INFO, mealpy.evolutionary_based.GA.BaseGA: >Problem: P, Epoch: 30, Current best: 0.7414240808948538, Global best: 0.7414240808948538, Runtime: 0.30732 seconds\n",
      "2023/05/30 05:05:02 PM, INFO, mealpy.evolutionary_based.GA.BaseGA: >Problem: P, Epoch: 31, Current best: 0.7370757245442724, Global best: 0.7414240808948538, Runtime: 0.31437 seconds\n",
      "2023/05/30 05:05:02 PM, INFO, mealpy.evolutionary_based.GA.BaseGA: >Problem: P, Epoch: 32, Current best: 0.7281073131759969, Global best: 0.7414240808948538, Runtime: 0.32482 seconds\n",
      "2023/05/30 05:05:02 PM, INFO, mealpy.evolutionary_based.GA.BaseGA: >Problem: P, Epoch: 33, Current best: 0.7227470018147298, Global best: 0.7414240808948538, Runtime: 0.33187 seconds\n",
      "2023/05/30 05:05:03 PM, INFO, mealpy.evolutionary_based.GA.BaseGA: >Problem: P, Epoch: 34, Current best: 0.7275246685490827, Global best: 0.7414240808948538, Runtime: 0.32206 seconds\n",
      "2023/05/30 05:05:03 PM, INFO, mealpy.evolutionary_based.GA.BaseGA: >Problem: P, Epoch: 35, Current best: 0.7456126753092067, Global best: 0.7456126753092067, Runtime: 0.31064 seconds\n",
      "2023/05/30 05:05:03 PM, INFO, mealpy.evolutionary_based.GA.BaseGA: >Problem: P, Epoch: 36, Current best: 0.7246166729313919, Global best: 0.7456126753092067, Runtime: 0.33176 seconds\n",
      "2023/05/30 05:05:04 PM, INFO, mealpy.evolutionary_based.GA.BaseGA: >Problem: P, Epoch: 37, Current best: 0.7289831270071733, Global best: 0.7456126753092067, Runtime: 0.31184 seconds\n",
      "2023/05/30 05:05:04 PM, INFO, mealpy.evolutionary_based.GA.BaseGA: >Problem: P, Epoch: 38, Current best: 0.731041173523774, Global best: 0.7456126753092067, Runtime: 0.32012 seconds\n",
      "2023/05/30 05:05:04 PM, INFO, mealpy.evolutionary_based.GA.BaseGA: >Problem: P, Epoch: 39, Current best: 0.7263625101298641, Global best: 0.7456126753092067, Runtime: 0.35872 seconds\n",
      "2023/05/30 05:05:05 PM, INFO, mealpy.evolutionary_based.GA.BaseGA: >Problem: P, Epoch: 40, Current best: 0.7192931873873488, Global best: 0.7456126753092067, Runtime: 0.33586 seconds\n",
      "2023/05/30 05:05:05 PM, INFO, mealpy.evolutionary_based.GA.BaseGA: >Problem: P, Epoch: 41, Current best: 0.7213610717426937, Global best: 0.7456126753092067, Runtime: 0.33446 seconds\n",
      "2023/05/30 05:05:05 PM, INFO, mealpy.evolutionary_based.GA.BaseGA: >Problem: P, Epoch: 42, Current best: 0.7242775849547849, Global best: 0.7456126753092067, Runtime: 0.34674 seconds\n",
      "2023/05/30 05:05:06 PM, INFO, mealpy.evolutionary_based.GA.BaseGA: >Problem: P, Epoch: 43, Current best: 0.7235261311979456, Global best: 0.7456126753092067, Runtime: 0.30227 seconds\n",
      "2023/05/30 05:05:06 PM, INFO, mealpy.evolutionary_based.GA.BaseGA: >Problem: P, Epoch: 44, Current best: 0.7257803240624805, Global best: 0.7456126753092067, Runtime: 0.31353 seconds\n",
      "2023/05/30 05:05:06 PM, INFO, mealpy.evolutionary_based.GA.BaseGA: >Problem: P, Epoch: 45, Current best: 0.7308299179867529, Global best: 0.7456126753092067, Runtime: 0.31709 seconds\n"
     ]
    },
    {
     "name": "stderr",
     "output_type": "stream",
     "text": [
      "2023/05/30 05:05:07 PM, INFO, mealpy.evolutionary_based.GA.BaseGA: >Problem: P, Epoch: 46, Current best: 0.7229576202117031, Global best: 0.7456126753092067, Runtime: 0.31709 seconds\n",
      "2023/05/30 05:05:07 PM, INFO, mealpy.evolutionary_based.GA.BaseGA: >Problem: P, Epoch: 47, Current best: 0.7299234374220841, Global best: 0.7456126753092067, Runtime: 0.32304 seconds\n",
      "2023/05/30 05:05:07 PM, INFO, mealpy.evolutionary_based.GA.BaseGA: >Problem: P, Epoch: 48, Current best: 0.7239613063845703, Global best: 0.7456126753092067, Runtime: 0.31732 seconds\n",
      "2023/05/30 05:05:08 PM, INFO, mealpy.evolutionary_based.GA.BaseGA: >Problem: P, Epoch: 49, Current best: 0.7252741911606123, Global best: 0.7456126753092067, Runtime: 0.33329 seconds\n",
      "2023/05/30 05:05:08 PM, INFO, mealpy.evolutionary_based.GA.BaseGA: >Problem: P, Epoch: 50, Current best: 0.7316460528669254, Global best: 0.7456126753092067, Runtime: 0.33940 seconds\n",
      "2023/05/30 05:05:08 PM, INFO, mealpy.evolutionary_based.GA.BaseGA: >Problem: P, Epoch: 51, Current best: 0.7193126892620297, Global best: 0.7456126753092067, Runtime: 0.32865 seconds\n",
      "2023/05/30 05:05:09 PM, INFO, mealpy.evolutionary_based.GA.BaseGA: >Problem: P, Epoch: 52, Current best: 0.718970566768103, Global best: 0.7456126753092067, Runtime: 0.32376 seconds\n",
      "2023/05/30 05:05:09 PM, INFO, mealpy.evolutionary_based.GA.BaseGA: >Problem: P, Epoch: 53, Current best: 0.7196354898976908, Global best: 0.7456126753092067, Runtime: 0.31187 seconds\n",
      "2023/05/30 05:05:09 PM, INFO, mealpy.evolutionary_based.GA.BaseGA: >Problem: P, Epoch: 54, Current best: 0.7249191682538134, Global best: 0.7456126753092067, Runtime: 0.32998 seconds\n",
      "2023/05/30 05:05:10 PM, INFO, mealpy.evolutionary_based.GA.BaseGA: >Problem: P, Epoch: 55, Current best: 0.7264400851094229, Global best: 0.7456126753092067, Runtime: 0.33015 seconds\n",
      "2023/05/30 05:05:10 PM, INFO, mealpy.evolutionary_based.GA.BaseGA: >Problem: P, Epoch: 56, Current best: 0.7253340429833052, Global best: 0.7456126753092067, Runtime: 0.34238 seconds\n",
      "2023/05/30 05:05:10 PM, INFO, mealpy.evolutionary_based.GA.BaseGA: >Problem: P, Epoch: 57, Current best: 0.7360257088008124, Global best: 0.7456126753092067, Runtime: 0.34044 seconds\n",
      "2023/05/30 05:05:11 PM, INFO, mealpy.evolutionary_based.GA.BaseGA: >Problem: P, Epoch: 58, Current best: 0.7293060262699486, Global best: 0.7456126753092067, Runtime: 0.32573 seconds\n",
      "2023/05/30 05:05:11 PM, INFO, mealpy.evolutionary_based.GA.BaseGA: >Problem: P, Epoch: 59, Current best: 0.7289605423617173, Global best: 0.7456126753092067, Runtime: 0.31224 seconds\n",
      "2023/05/30 05:05:11 PM, INFO, mealpy.evolutionary_based.GA.BaseGA: >Problem: P, Epoch: 60, Current best: 0.7289127748223239, Global best: 0.7456126753092067, Runtime: 0.31565 seconds\n",
      "2023/05/30 05:05:12 PM, INFO, mealpy.evolutionary_based.GA.BaseGA: >Problem: P, Epoch: 61, Current best: 0.7269350060479524, Global best: 0.7456126753092067, Runtime: 0.35495 seconds\n",
      "2023/05/30 05:05:12 PM, INFO, mealpy.evolutionary_based.GA.BaseGA: >Problem: P, Epoch: 62, Current best: 0.7386403322184281, Global best: 0.7456126753092067, Runtime: 0.31294 seconds\n",
      "2023/05/30 05:05:12 PM, INFO, mealpy.evolutionary_based.GA.BaseGA: >Problem: P, Epoch: 63, Current best: 0.7270724011412557, Global best: 0.7456126753092067, Runtime: 0.31440 seconds\n",
      "2023/05/30 05:05:13 PM, INFO, mealpy.evolutionary_based.GA.BaseGA: >Problem: P, Epoch: 64, Current best: 0.7228142745931322, Global best: 0.7456126753092067, Runtime: 0.30983 seconds\n",
      "2023/05/30 05:05:13 PM, INFO, mealpy.evolutionary_based.GA.BaseGA: >Problem: P, Epoch: 65, Current best: 0.7413131618621684, Global best: 0.7456126753092067, Runtime: 0.35121 seconds\n",
      "2023/05/30 05:05:13 PM, INFO, mealpy.evolutionary_based.GA.BaseGA: >Problem: P, Epoch: 66, Current best: 0.7400998459098673, Global best: 0.7456126753092067, Runtime: 0.31350 seconds\n",
      "2023/05/30 05:05:14 PM, INFO, mealpy.evolutionary_based.GA.BaseGA: >Problem: P, Epoch: 67, Current best: 0.7197061306071151, Global best: 0.7456126753092067, Runtime: 0.34105 seconds\n",
      "2023/05/30 05:05:14 PM, INFO, mealpy.evolutionary_based.GA.BaseGA: >Problem: P, Epoch: 68, Current best: 0.7259131465462947, Global best: 0.7456126753092067, Runtime: 0.32761 seconds\n",
      "2023/05/30 05:05:14 PM, INFO, mealpy.evolutionary_based.GA.BaseGA: >Problem: P, Epoch: 69, Current best: 0.730001698157689, Global best: 0.7456126753092067, Runtime: 0.30942 seconds\n",
      "2023/05/30 05:05:15 PM, INFO, mealpy.evolutionary_based.GA.BaseGA: >Problem: P, Epoch: 70, Current best: 0.7254656579006938, Global best: 0.7456126753092067, Runtime: 0.31904 seconds\n",
      "2023/05/30 05:05:15 PM, INFO, mealpy.evolutionary_based.GA.BaseGA: >Problem: P, Epoch: 71, Current best: 0.7276122003910843, Global best: 0.7456126753092067, Runtime: 0.33973 seconds\n",
      "2023/05/30 05:05:15 PM, INFO, mealpy.evolutionary_based.GA.BaseGA: >Problem: P, Epoch: 72, Current best: 0.7290239282853342, Global best: 0.7456126753092067, Runtime: 0.35971 seconds\n",
      "2023/05/30 05:05:16 PM, INFO, mealpy.evolutionary_based.GA.BaseGA: >Problem: P, Epoch: 73, Current best: 0.7127845290366226, Global best: 0.7456126753092067, Runtime: 0.33177 seconds\n",
      "2023/05/30 05:05:16 PM, INFO, mealpy.evolutionary_based.GA.BaseGA: >Problem: P, Epoch: 74, Current best: 0.7380513315972619, Global best: 0.7456126753092067, Runtime: 0.31895 seconds\n",
      "2023/05/30 05:05:16 PM, INFO, mealpy.evolutionary_based.GA.BaseGA: >Problem: P, Epoch: 75, Current best: 0.722681859912901, Global best: 0.7456126753092067, Runtime: 0.34815 seconds\n",
      "2023/05/30 05:05:17 PM, INFO, mealpy.evolutionary_based.GA.BaseGA: >Problem: P, Epoch: 76, Current best: 0.7255688808327152, Global best: 0.7456126753092067, Runtime: 0.31804 seconds\n",
      "2023/05/30 05:05:17 PM, INFO, mealpy.evolutionary_based.GA.BaseGA: >Problem: P, Epoch: 77, Current best: 0.725807869208848, Global best: 0.7456126753092067, Runtime: 0.31110 seconds\n",
      "2023/05/30 05:05:17 PM, INFO, mealpy.evolutionary_based.GA.BaseGA: >Problem: P, Epoch: 78, Current best: 0.7270412609853674, Global best: 0.7456126753092067, Runtime: 0.31626 seconds\n",
      "2023/05/30 05:05:17 PM, INFO, mealpy.evolutionary_based.GA.BaseGA: >Problem: P, Epoch: 79, Current best: 0.7428918998908632, Global best: 0.7456126753092067, Runtime: 0.32625 seconds\n",
      "2023/05/30 05:05:18 PM, INFO, mealpy.evolutionary_based.GA.BaseGA: >Problem: P, Epoch: 80, Current best: 0.7360945127837877, Global best: 0.7456126753092067, Runtime: 0.30939 seconds\n",
      "2023/05/30 05:05:18 PM, INFO, mealpy.evolutionary_based.GA.BaseGA: >Problem: P, Epoch: 81, Current best: 0.7294509596075683, Global best: 0.7456126753092067, Runtime: 0.34343 seconds\n",
      "2023/05/30 05:05:18 PM, INFO, mealpy.evolutionary_based.GA.BaseGA: >Problem: P, Epoch: 82, Current best: 0.7189888845748599, Global best: 0.7456126753092067, Runtime: 0.31345 seconds\n",
      "2023/05/30 05:05:19 PM, INFO, mealpy.evolutionary_based.GA.BaseGA: >Problem: P, Epoch: 83, Current best: 0.7294673476525365, Global best: 0.7456126753092067, Runtime: 0.34574 seconds\n",
      "2023/05/30 05:05:19 PM, INFO, mealpy.evolutionary_based.GA.BaseGA: >Problem: P, Epoch: 84, Current best: 0.7395139670729939, Global best: 0.7456126753092067, Runtime: 0.32049 seconds\n",
      "2023/05/30 05:05:19 PM, INFO, mealpy.evolutionary_based.GA.BaseGA: >Problem: P, Epoch: 85, Current best: 0.7273444146703497, Global best: 0.7456126753092067, Runtime: 0.33573 seconds\n",
      "2023/05/30 05:05:20 PM, INFO, mealpy.evolutionary_based.GA.BaseGA: >Problem: P, Epoch: 86, Current best: 0.732346906238663, Global best: 0.7456126753092067, Runtime: 0.34524 seconds\n",
      "2023/05/30 05:05:20 PM, INFO, mealpy.evolutionary_based.GA.BaseGA: >Problem: P, Epoch: 87, Current best: 0.72357923339879, Global best: 0.7456126753092067, Runtime: 0.31139 seconds\n",
      "2023/05/30 05:05:20 PM, INFO, mealpy.evolutionary_based.GA.BaseGA: >Problem: P, Epoch: 88, Current best: 0.7360930647906555, Global best: 0.7456126753092067, Runtime: 0.31895 seconds\n",
      "2023/05/30 05:05:21 PM, INFO, mealpy.evolutionary_based.GA.BaseGA: >Problem: P, Epoch: 89, Current best: 0.7212522937533261, Global best: 0.7456126753092067, Runtime: 0.33018 seconds\n",
      "2023/05/30 05:05:21 PM, INFO, mealpy.evolutionary_based.GA.BaseGA: >Problem: P, Epoch: 90, Current best: 0.7348446395255086, Global best: 0.7456126753092067, Runtime: 0.32362 seconds\n"
     ]
    },
    {
     "name": "stderr",
     "output_type": "stream",
     "text": [
      "2023/05/30 05:05:21 PM, INFO, mealpy.evolutionary_based.GA.BaseGA: >Problem: P, Epoch: 91, Current best: 0.7169972950246947, Global best: 0.7456126753092067, Runtime: 0.34522 seconds\n",
      "2023/05/30 05:05:22 PM, INFO, mealpy.evolutionary_based.GA.BaseGA: >Problem: P, Epoch: 92, Current best: 0.7232705268587697, Global best: 0.7456126753092067, Runtime: 0.32901 seconds\n",
      "2023/05/30 05:05:22 PM, INFO, mealpy.evolutionary_based.GA.BaseGA: >Problem: P, Epoch: 93, Current best: 0.7226357348103339, Global best: 0.7456126753092067, Runtime: 0.32895 seconds\n",
      "2023/05/30 05:05:22 PM, INFO, mealpy.evolutionary_based.GA.BaseGA: >Problem: P, Epoch: 94, Current best: 0.7233456498569293, Global best: 0.7456126753092067, Runtime: 0.31691 seconds\n",
      "2023/05/30 05:05:23 PM, INFO, mealpy.evolutionary_based.GA.BaseGA: >Problem: P, Epoch: 95, Current best: 0.7144181334475845, Global best: 0.7456126753092067, Runtime: 0.33051 seconds\n",
      "2023/05/30 05:05:23 PM, INFO, mealpy.evolutionary_based.GA.BaseGA: >Problem: P, Epoch: 96, Current best: 0.7263990921461284, Global best: 0.7456126753092067, Runtime: 0.32644 seconds\n",
      "2023/05/30 05:05:23 PM, INFO, mealpy.evolutionary_based.GA.BaseGA: >Problem: P, Epoch: 97, Current best: 0.7284895941180306, Global best: 0.7456126753092067, Runtime: 0.31546 seconds\n",
      "2023/05/30 05:05:24 PM, INFO, mealpy.evolutionary_based.GA.BaseGA: >Problem: P, Epoch: 98, Current best: 0.7406427984429548, Global best: 0.7456126753092067, Runtime: 0.32856 seconds\n",
      "2023/05/30 05:05:24 PM, INFO, mealpy.evolutionary_based.GA.BaseGA: >Problem: P, Epoch: 99, Current best: 0.7281720958237047, Global best: 0.7456126753092067, Runtime: 0.31534 seconds\n",
      "2023/05/30 05:05:24 PM, INFO, mealpy.evolutionary_based.GA.BaseGA: >Problem: P, Epoch: 100, Current best: 0.7353689256706938, Global best: 0.7456126753092067, Runtime: 0.35630 seconds\n"
     ]
    }
   ],
   "source": [
    "feat_selector.fit(data.X_train, data.y_train)"
   ]
  },
  {
   "cell_type": "code",
   "execution_count": null,
   "outputs": [],
   "source": [
    "## 4. Transform the dataset "
   ],
   "metadata": {
    "collapsed": false,
    "pycharm": {
     "name": "#%%\n"
    }
   }
  },
  {
   "cell_type": "code",
   "execution_count": 14,
   "metadata": {
    "pycharm": {
     "name": "#%%\n"
    }
   },
   "outputs": [
    {
     "name": "stdout",
     "output_type": "stream",
     "text": [
      "Original Dataset: (361, 279)\n",
      "Selected dataset: (91, 25)\n"
     ]
    }
   ],
   "source": [
    "X_selected = feat_selector.transform(data.X_test)\n",
    "print(f\"Original Dataset: {data.X_train.shape}\")        \n",
    "print(f\"Selected dataset: {X_selected.shape}\")        "
   ]
  },
  {
   "cell_type": "markdown",
   "metadata": {
    "pycharm": {
     "name": "#%% md\n"
    }
   },
   "source": [
    "## 5. Get some informations"
   ]
  },
  {
   "cell_type": "code",
   "execution_count": 15,
   "metadata": {
    "pycharm": {
     "name": "#%%\n"
    }
   },
   "outputs": [
    {
     "name": "stdout",
     "output_type": "stream",
     "text": [
      "{'obj': 0.8319, 'fit': 0.7456126753092067}\n",
      "[False False False False False False False False False False False False\n",
      " False False False False False False False False False False False False\n",
      " False False False False False False False  True False False  True False\n",
      " False False False False False False False False False False False False\n",
      " False False False False False False False False False False False False\n",
      " False False False False False False False False False False False False\n",
      " False False False False False False False  True  True False False False\n",
      " False False False False  True  True  True  True  True False False False\n",
      " False False False False False False False False False False False False\n",
      " False False False  True False False False False False False False False\n",
      " False False  True False False False False False False False  True False\n",
      " False False False  True False False False False False False False  True\n",
      " False False False  True  True False False False False False False False\n",
      " False False False False  True False False False False False  True False\n",
      "  True False False False False False False False False False False False\n",
      " False False False False False False False False False False False False\n",
      " False False False False  True False False False False False False False\n",
      " False False  True False False False False False False False False  True\n",
      " False False False False  True False False False False False False False\n",
      " False False False False False False False False False False False False\n",
      " False  True False False False False False False False False False  True\n",
      " False False False False False False False False False False False False\n",
      " False False False False False False False False False False False False\n",
      " False False False]\n",
      "[0 0 0 0 0 0 0 0 0 0 0 0 0 0 0 0 0 0 0 0 0 0 0 0 0 0 0 0 0 0 0 1 0 0 1 0 0\n",
      " 0 0 0 0 0 0 0 0 0 0 0 0 0 0 0 0 0 0 0 0 0 0 0 0 0 0 0 0 0 0 0 0 0 0 0 0 0\n",
      " 0 0 0 0 0 1 1 0 0 0 0 0 0 0 1 1 1 1 1 0 0 0 0 0 0 0 0 0 0 0 0 0 0 0 0 0 0\n",
      " 1 0 0 0 0 0 0 0 0 0 0 1 0 0 0 0 0 0 0 1 0 0 0 0 1 0 0 0 0 0 0 0 1 0 0 0 1\n",
      " 1 0 0 0 0 0 0 0 0 0 0 0 1 0 0 0 0 0 1 0 1 0 0 0 0 0 0 0 0 0 0 0 0 0 0 0 0\n",
      " 0 0 0 0 0 0 0 0 0 0 0 1 0 0 0 0 0 0 0 0 0 1 0 0 0 0 0 0 0 0 1 0 0 0 0 1 0\n",
      " 0 0 0 0 0 0 0 0 0 0 0 0 0 0 0 0 0 0 0 1 0 0 0 0 0 0 0 0 0 1 0 0 0 0 0 0 0\n",
      " 0 0 0 0 0 0 0 0 0 0 0 0 0 0 0 0 0 0 0 0]\n",
      "[ 31  34  79  80  88  89  90  91  92 111 122 130 135 143 147 148 160 166\n",
      " 168 196 206 215 220 241 251]\n"
     ]
    }
   ],
   "source": [
    "print(feat_selector.get_best_obj_and_fit())            \n",
    "print(feat_selector.selected_feature_masks)\n",
    "print(feat_selector.selected_feature_solution)\n",
    "print(feat_selector.selected_feature_indexes)"
   ]
  },
  {
   "cell_type": "code",
   "execution_count": null,
   "outputs": [],
   "source": [
    "## 6. Retrain and evaluate our final dataset"
   ],
   "metadata": {
    "collapsed": false,
    "pycharm": {
     "name": "#%%\n"
    }
   }
  },
  {
   "cell_type": "markdown",
   "metadata": {
    "pycharm": {
     "name": "#%% md\n"
    }
   },
   "source": [
    "### 6.1 Use the same model as feature selector to evaluate final dataset."
   ]
  },
  {
   "cell_type": "code",
   "execution_count": 16,
   "metadata": {
    "pycharm": {
     "name": "#%%\n"
    }
   },
   "outputs": [
    {
     "name": "stdout",
     "output_type": "stream",
     "text": [
      "{'AS_train': 0.84387, 'PS_train': 0.69934, 'RS_train': 0.71468, 'AS_test': 0.77937, 'PS_test': 0.41088, 'RS_test': 0.59341}\n"
     ]
    }
   ],
   "source": [
    "from mafese import evaluator\n",
    "\n",
    "res1 = evaluator.evaluate(selector=feat_selector, estimator=None, data=data, metrics=[\"AS\", \"PS\", \"RS\"])\n",
    "# AS: Accuracy score, PS: precision score, RS: recall score\n",
    "print(res1)"
   ]
  },
  {
   "cell_type": "markdown",
   "metadata": {
    "pycharm": {
     "name": "#%% md\n"
    }
   },
   "source": [
    "### 6.2 But I want to use different model to evaluate final dataset"
   ]
  },
  {
   "cell_type": "code",
   "execution_count": 17,
   "metadata": {
    "pycharm": {
     "name": "#%%\n"
    }
   },
   "outputs": [
    {
     "name": "stdout",
     "output_type": "stream",
     "text": [
      "{'AS_train': 0.82849, 'PS_train': 0.55366, 'RS_train': 0.69529, 'AS_test': 0.77068, 'PS_test': 0.38225, 'RS_test': 0.59341}\n"
     ]
    }
   ],
   "source": [
    "from mafese import evaluator\n",
    "from sklearn.svm import SVC\n",
    "\n",
    "res2 = evaluator.evaluate(selector=feat_selector, estimator=SVC(), data=data, metrics=[\"AS\", \"PS\", \"RS\"])\n",
    "print(res2)"
   ]
  },
  {
   "cell_type": "code",
   "execution_count": null,
   "outputs": [],
   "source": [
    "# 7. Want to use different metaheuristic algorithm from mealpy to train."
   ],
   "metadata": {
    "collapsed": false,
    "pycharm": {
     "name": "#%%\n"
    }
   }
  },
  {
   "cell_type": "markdown",
   "metadata": {
    "pycharm": {
     "name": "#%% md\n"
    }
   },
   "source": [
    "## 7.1 Define the optimizer and use it."
   ]
  },
  {
   "cell_type": "code",
   "execution_count": null,
   "metadata": {
    "pycharm": {
     "name": "#%%\n"
    }
   },
   "outputs": [],
   "source": [
    "# I want to use Slime Mould Algorithm from bio-based module in Mealpy\n",
    "\n",
    "from mealpy.bio_based import SMA\n",
    "algorithm = SMA.BaseSMA(epoch=100, pop_size=50, pr=0.03)"
   ]
  },
  {
   "cell_type": "markdown",
   "metadata": {
    "pycharm": {
     "name": "#%% md\n"
    }
   },
   "source": [
    "## 7.2 Create a new MhaSelector instance and pass the SMA optimizer to it"
   ]
  },
  {
   "cell_type": "code",
   "execution_count": null,
   "metadata": {
    "pycharm": {
     "name": "#%%\n"
    }
   },
   "outputs": [],
   "source": [
    "fs2_model = MhaSelector(problem=\"classification\", estimator=\"knn\", \n",
    "                            optimizer=algorithm, optimizer_paras=None,\n",
    "                            transfer_func=\"vstf_01\", obj_name=\"AS\")"
   ]
  },
  {
   "cell_type": "markdown",
   "metadata": {
    "pycharm": {
     "name": "#%% md\n"
    }
   },
   "source": [
    "## 7.3 Use it like above example."
   ]
  },
  {
   "cell_type": "code",
   "execution_count": null,
   "metadata": {
    "pycharm": {
     "name": "#%%\n"
    }
   },
   "outputs": [],
   "source": [
    "fs2_model.fit(data.X_train, data.y_train)"
   ]
  },
  {
   "cell_type": "code",
   "execution_count": null,
   "metadata": {
    "pycharm": {
     "name": "#%%\n"
    }
   },
   "outputs": [],
   "source": [
    "X_selected = fs2_model.transform(data.X_test)\n",
    "print(f\"Original Dataset: {data.X_train.shape}\")        \n",
    "print(f\"Selected dataset: {X_selected.shape}\")    "
   ]
  },
  {
   "cell_type": "markdown",
   "source": [
    "## 7.2 Create a new MhaSelector instance and pass the SMA optimizer to it"
   ],
   "metadata": {
    "collapsed": false,
    "pycharm": {
     "name": "#%% md\n"
    }
   }
  },
  {
   "cell_type": "code",
   "execution_count": null,
   "outputs": [],
   "source": [
    "fs2_model = MhaSelector(problem=\"classification\", estimator=\"knn\", \n",
    "                            optimizer=algorithm, optimizer_paras=None,\n",
    "                            transfer_func=\"vstf_01\", obj_name=\"AS\")"
   ],
   "metadata": {
    "collapsed": false,
    "pycharm": {
     "name": "#%%\n"
    }
   }
  },
  {
   "cell_type": "markdown",
   "source": [
    "## 7.3 Use it like above example."
   ],
   "metadata": {
    "collapsed": false,
    "pycharm": {
     "name": "#%% md\n"
    }
   }
  },
  {
   "cell_type": "code",
   "execution_count": null,
   "outputs": [],
   "source": [
    "fs2_model.fit(data.X_train, data.y_train)"
   ],
   "metadata": {
    "collapsed": false,
    "pycharm": {
     "name": "#%%\n"
    }
   }
  },
  {
   "cell_type": "code",
   "execution_count": null,
   "outputs": [],
   "source": [
    "X_selected = fs2_model.transform(data.X_test)\n",
    "print(f\"Original Dataset: {data.X_train.shape}\")        \n",
    "print(f\"Selected dataset: {X_selected.shape}\")    "
   ],
   "metadata": {
    "collapsed": false,
    "pycharm": {
     "name": "#%%\n"
    }
   }
  },
  {
   "cell_type": "markdown",
   "source": [],
   "metadata": {
    "collapsed": false,
    "pycharm": {
     "name": "#%% md\n"
    }
   }
  },
  {
   "cell_type": "code",
   "execution_count": 20,
   "metadata": {
    "pycharm": {
     "name": "#%%\n"
    }
   },
   "outputs": [],
   "source": [
    "fs2_model = MhaSelector(problem=\"classification\", estimator=\"knn\", \n",
    "                            optimizer=algorithm, optimizer_paras=None,\n",
    "                            transfer_func=\"vstf_01\", obj_name=\"AS\")"
   ]
  },
  {
   "cell_type": "markdown",
   "metadata": {
    "pycharm": {
     "name": "#%% md\n"
    }
   },
   "source": [
    "## 7.3 Use it like above example."
   ]
  },
  {
   "cell_type": "code",
   "execution_count": 22,
   "metadata": {
    "pycharm": {
     "name": "#%%\n"
    }
   },
   "outputs": [
    {
     "name": "stderr",
     "output_type": "stream",
     "text": [
      "2023/05/30 05:11:16 PM, INFO, mealpy.bio_based.SMA.BaseSMA: Solving 2-objective optimization problem with weights: [1. 0.].\n",
      "2023/05/30 05:11:17 PM, INFO, mealpy.bio_based.SMA.BaseSMA: >Problem: P, Epoch: 1, Current best: 0.6675918602150539, Global best: 0.6675918602150539, Runtime: 0.54206 seconds\n",
      "2023/05/30 05:11:17 PM, INFO, mealpy.bio_based.SMA.BaseSMA: >Problem: P, Epoch: 2, Current best: 0.695904853046595, Global best: 0.695904853046595, Runtime: 0.54071 seconds\n",
      "2023/05/30 05:11:18 PM, INFO, mealpy.bio_based.SMA.BaseSMA: >Problem: P, Epoch: 3, Current best: 0.695904853046595, Global best: 0.695904853046595, Runtime: 0.53870 seconds\n",
      "2023/05/30 05:11:18 PM, INFO, mealpy.bio_based.SMA.BaseSMA: >Problem: P, Epoch: 4, Current best: 0.7085369641577062, Global best: 0.7085369641577062, Runtime: 0.45746 seconds\n",
      "2023/05/30 05:11:19 PM, INFO, mealpy.bio_based.SMA.BaseSMA: >Problem: P, Epoch: 5, Current best: 0.7184301935483871, Global best: 0.7184301935483871, Runtime: 0.40467 seconds\n",
      "2023/05/30 05:11:19 PM, INFO, mealpy.bio_based.SMA.BaseSMA: >Problem: P, Epoch: 6, Current best: 0.7184301935483871, Global best: 0.7184301935483871, Runtime: 0.39731 seconds\n",
      "2023/05/30 05:11:20 PM, INFO, mealpy.bio_based.SMA.BaseSMA: >Problem: P, Epoch: 7, Current best: 0.7184301935483871, Global best: 0.7184301935483871, Runtime: 0.39195 seconds\n",
      "2023/05/30 05:11:20 PM, INFO, mealpy.bio_based.SMA.BaseSMA: >Problem: P, Epoch: 8, Current best: 0.7184301935483871, Global best: 0.7184301935483871, Runtime: 0.36049 seconds\n",
      "2023/05/30 05:11:20 PM, INFO, mealpy.bio_based.SMA.BaseSMA: >Problem: P, Epoch: 9, Current best: 0.7279353082437275, Global best: 0.7279353082437275, Runtime: 0.37948 seconds\n",
      "2023/05/30 05:11:21 PM, INFO, mealpy.bio_based.SMA.BaseSMA: >Problem: P, Epoch: 10, Current best: 0.7279353082437275, Global best: 0.7279353082437275, Runtime: 0.34796 seconds\n",
      "2023/05/30 05:11:21 PM, INFO, mealpy.bio_based.SMA.BaseSMA: >Problem: P, Epoch: 11, Current best: 0.7298147311827957, Global best: 0.7298147311827957, Runtime: 0.39108 seconds\n",
      "2023/05/30 05:11:22 PM, INFO, mealpy.bio_based.SMA.BaseSMA: >Problem: P, Epoch: 12, Current best: 0.7298147311827957, Global best: 0.7298147311827957, Runtime: 0.34897 seconds\n",
      "2023/05/30 05:11:22 PM, INFO, mealpy.bio_based.SMA.BaseSMA: >Problem: P, Epoch: 13, Current best: 0.7298147311827957, Global best: 0.7298147311827957, Runtime: 0.34999 seconds\n",
      "2023/05/30 05:11:22 PM, INFO, mealpy.bio_based.SMA.BaseSMA: >Problem: P, Epoch: 14, Current best: 0.7298147311827957, Global best: 0.7298147311827957, Runtime: 0.33338 seconds\n",
      "2023/05/30 05:11:23 PM, INFO, mealpy.bio_based.SMA.BaseSMA: >Problem: P, Epoch: 15, Current best: 0.7298147311827957, Global best: 0.7298147311827957, Runtime: 0.32950 seconds\n",
      "2023/05/30 05:11:23 PM, INFO, mealpy.bio_based.SMA.BaseSMA: >Problem: P, Epoch: 16, Current best: 0.7298147311827957, Global best: 0.7298147311827957, Runtime: 0.36749 seconds\n",
      "2023/05/30 05:11:23 PM, INFO, mealpy.bio_based.SMA.BaseSMA: >Problem: P, Epoch: 17, Current best: 0.7298147311827957, Global best: 0.7298147311827957, Runtime: 0.37707 seconds\n",
      "2023/05/30 05:11:24 PM, INFO, mealpy.bio_based.SMA.BaseSMA: >Problem: P, Epoch: 18, Current best: 0.7298147311827957, Global best: 0.7298147311827957, Runtime: 0.34176 seconds\n",
      "2023/05/30 05:11:24 PM, INFO, mealpy.bio_based.SMA.BaseSMA: >Problem: P, Epoch: 19, Current best: 0.7298147311827957, Global best: 0.7298147311827957, Runtime: 0.33743 seconds\n",
      "2023/05/30 05:11:24 PM, INFO, mealpy.bio_based.SMA.BaseSMA: >Problem: P, Epoch: 20, Current best: 0.7298147311827957, Global best: 0.7298147311827957, Runtime: 0.31261 seconds\n",
      "2023/05/30 05:11:25 PM, INFO, mealpy.bio_based.SMA.BaseSMA: >Problem: P, Epoch: 21, Current best: 0.7298147311827957, Global best: 0.7298147311827957, Runtime: 0.32410 seconds\n",
      "2023/05/30 05:11:25 PM, INFO, mealpy.bio_based.SMA.BaseSMA: >Problem: P, Epoch: 22, Current best: 0.7298147311827957, Global best: 0.7298147311827957, Runtime: 0.31454 seconds\n",
      "2023/05/30 05:11:25 PM, INFO, mealpy.bio_based.SMA.BaseSMA: >Problem: P, Epoch: 23, Current best: 0.7298147311827957, Global best: 0.7298147311827957, Runtime: 0.32396 seconds\n",
      "2023/05/30 05:11:26 PM, INFO, mealpy.bio_based.SMA.BaseSMA: >Problem: P, Epoch: 24, Current best: 0.7298147311827957, Global best: 0.7298147311827957, Runtime: 0.30894 seconds\n",
      "2023/05/30 05:11:26 PM, INFO, mealpy.bio_based.SMA.BaseSMA: >Problem: P, Epoch: 25, Current best: 0.7298147311827957, Global best: 0.7298147311827957, Runtime: 0.31414 seconds\n",
      "2023/05/30 05:11:26 PM, INFO, mealpy.bio_based.SMA.BaseSMA: >Problem: P, Epoch: 26, Current best: 0.7298147311827957, Global best: 0.7298147311827957, Runtime: 0.30751 seconds\n",
      "2023/05/30 05:11:27 PM, INFO, mealpy.bio_based.SMA.BaseSMA: >Problem: P, Epoch: 27, Current best: 0.7298147311827957, Global best: 0.7298147311827957, Runtime: 0.33731 seconds\n",
      "2023/05/30 05:11:27 PM, INFO, mealpy.bio_based.SMA.BaseSMA: >Problem: P, Epoch: 28, Current best: 0.7298147311827957, Global best: 0.7298147311827957, Runtime: 0.33657 seconds\n",
      "2023/05/30 05:11:27 PM, INFO, mealpy.bio_based.SMA.BaseSMA: >Problem: P, Epoch: 29, Current best: 0.7298147311827957, Global best: 0.7298147311827957, Runtime: 0.32832 seconds\n",
      "2023/05/30 05:11:28 PM, INFO, mealpy.bio_based.SMA.BaseSMA: >Problem: P, Epoch: 30, Current best: 0.7298147311827957, Global best: 0.7298147311827957, Runtime: 0.31754 seconds\n",
      "2023/05/30 05:11:28 PM, INFO, mealpy.bio_based.SMA.BaseSMA: >Problem: P, Epoch: 31, Current best: 0.7298147311827957, Global best: 0.7298147311827957, Runtime: 0.32551 seconds\n",
      "2023/05/30 05:11:28 PM, INFO, mealpy.bio_based.SMA.BaseSMA: >Problem: P, Epoch: 32, Current best: 0.7298147311827957, Global best: 0.7298147311827957, Runtime: 0.31763 seconds\n",
      "2023/05/30 05:11:28 PM, INFO, mealpy.bio_based.SMA.BaseSMA: >Problem: P, Epoch: 33, Current best: 0.7298147311827957, Global best: 0.7298147311827957, Runtime: 0.33413 seconds\n",
      "2023/05/30 05:11:29 PM, INFO, mealpy.bio_based.SMA.BaseSMA: >Problem: P, Epoch: 34, Current best: 0.7298147311827957, Global best: 0.7298147311827957, Runtime: 0.32692 seconds\n",
      "2023/05/30 05:11:29 PM, INFO, mealpy.bio_based.SMA.BaseSMA: >Problem: P, Epoch: 35, Current best: 0.7298147311827957, Global best: 0.7298147311827957, Runtime: 0.31909 seconds\n",
      "2023/05/30 05:11:29 PM, INFO, mealpy.bio_based.SMA.BaseSMA: >Problem: P, Epoch: 36, Current best: 0.7298147311827957, Global best: 0.7298147311827957, Runtime: 0.33125 seconds\n",
      "2023/05/30 05:11:30 PM, INFO, mealpy.bio_based.SMA.BaseSMA: >Problem: P, Epoch: 37, Current best: 0.7298147311827957, Global best: 0.7298147311827957, Runtime: 0.31598 seconds\n",
      "2023/05/30 05:11:30 PM, INFO, mealpy.bio_based.SMA.BaseSMA: >Problem: P, Epoch: 38, Current best: 0.7298147311827957, Global best: 0.7298147311827957, Runtime: 0.33815 seconds\n",
      "2023/05/30 05:11:30 PM, INFO, mealpy.bio_based.SMA.BaseSMA: >Problem: P, Epoch: 39, Current best: 0.7298147311827957, Global best: 0.7298147311827957, Runtime: 0.31839 seconds\n",
      "2023/05/30 05:11:31 PM, INFO, mealpy.bio_based.SMA.BaseSMA: >Problem: P, Epoch: 40, Current best: 0.7298147311827957, Global best: 0.7298147311827957, Runtime: 0.33056 seconds\n",
      "2023/05/30 05:11:31 PM, INFO, mealpy.bio_based.SMA.BaseSMA: >Problem: P, Epoch: 41, Current best: 0.7298147311827957, Global best: 0.7298147311827957, Runtime: 0.30717 seconds\n",
      "2023/05/30 05:11:31 PM, INFO, mealpy.bio_based.SMA.BaseSMA: >Problem: P, Epoch: 42, Current best: 0.7298147311827957, Global best: 0.7298147311827957, Runtime: 0.30096 seconds\n",
      "2023/05/30 05:11:32 PM, INFO, mealpy.bio_based.SMA.BaseSMA: >Problem: P, Epoch: 43, Current best: 0.7298147311827957, Global best: 0.7298147311827957, Runtime: 0.32894 seconds\n",
      "2023/05/30 05:11:32 PM, INFO, mealpy.bio_based.SMA.BaseSMA: >Problem: P, Epoch: 44, Current best: 0.7298147311827957, Global best: 0.7298147311827957, Runtime: 0.31131 seconds\n",
      "2023/05/30 05:11:32 PM, INFO, mealpy.bio_based.SMA.BaseSMA: >Problem: P, Epoch: 45, Current best: 0.7298147311827957, Global best: 0.7298147311827957, Runtime: 0.32469 seconds\n",
      "2023/05/30 05:11:33 PM, INFO, mealpy.bio_based.SMA.BaseSMA: >Problem: P, Epoch: 46, Current best: 0.7298147311827957, Global best: 0.7298147311827957, Runtime: 0.30551 seconds\n"
     ]
    },
    {
     "name": "stderr",
     "output_type": "stream",
     "text": [
      "2023/05/30 05:11:33 PM, INFO, mealpy.bio_based.SMA.BaseSMA: >Problem: P, Epoch: 47, Current best: 0.7298147311827957, Global best: 0.7298147311827957, Runtime: 0.31571 seconds\n",
      "2023/05/30 05:11:33 PM, INFO, mealpy.bio_based.SMA.BaseSMA: >Problem: P, Epoch: 48, Current best: 0.7298147311827957, Global best: 0.7298147311827957, Runtime: 0.32081 seconds\n",
      "2023/05/30 05:11:34 PM, INFO, mealpy.bio_based.SMA.BaseSMA: >Problem: P, Epoch: 49, Current best: 0.7298147311827957, Global best: 0.7298147311827957, Runtime: 0.32003 seconds\n",
      "2023/05/30 05:11:34 PM, INFO, mealpy.bio_based.SMA.BaseSMA: >Problem: P, Epoch: 50, Current best: 0.7298147311827957, Global best: 0.7298147311827957, Runtime: 0.32100 seconds\n",
      "2023/05/30 05:11:34 PM, INFO, mealpy.bio_based.SMA.BaseSMA: >Problem: P, Epoch: 51, Current best: 0.7298147311827957, Global best: 0.7298147311827957, Runtime: 0.32055 seconds\n",
      "2023/05/30 05:11:35 PM, INFO, mealpy.bio_based.SMA.BaseSMA: >Problem: P, Epoch: 52, Current best: 0.7298147311827957, Global best: 0.7298147311827957, Runtime: 0.31208 seconds\n",
      "2023/05/30 05:11:35 PM, INFO, mealpy.bio_based.SMA.BaseSMA: >Problem: P, Epoch: 53, Current best: 0.7298147311827957, Global best: 0.7298147311827957, Runtime: 0.30225 seconds\n",
      "2023/05/30 05:11:35 PM, INFO, mealpy.bio_based.SMA.BaseSMA: >Problem: P, Epoch: 54, Current best: 0.7298147311827957, Global best: 0.7298147311827957, Runtime: 0.32835 seconds\n",
      "2023/05/30 05:11:36 PM, INFO, mealpy.bio_based.SMA.BaseSMA: >Problem: P, Epoch: 55, Current best: 0.7298147311827957, Global best: 0.7298147311827957, Runtime: 0.31869 seconds\n",
      "2023/05/30 05:11:36 PM, INFO, mealpy.bio_based.SMA.BaseSMA: >Problem: P, Epoch: 56, Current best: 0.7298147311827957, Global best: 0.7298147311827957, Runtime: 0.30291 seconds\n",
      "2023/05/30 05:11:36 PM, INFO, mealpy.bio_based.SMA.BaseSMA: >Problem: P, Epoch: 57, Current best: 0.7298147311827957, Global best: 0.7298147311827957, Runtime: 0.31916 seconds\n",
      "2023/05/30 05:11:36 PM, INFO, mealpy.bio_based.SMA.BaseSMA: >Problem: P, Epoch: 58, Current best: 0.7298147311827957, Global best: 0.7298147311827957, Runtime: 0.32143 seconds\n",
      "2023/05/30 05:11:37 PM, INFO, mealpy.bio_based.SMA.BaseSMA: >Problem: P, Epoch: 59, Current best: 0.7298147311827957, Global best: 0.7298147311827957, Runtime: 0.30409 seconds\n",
      "2023/05/30 05:11:37 PM, INFO, mealpy.bio_based.SMA.BaseSMA: >Problem: P, Epoch: 60, Current best: 0.7298147311827957, Global best: 0.7298147311827957, Runtime: 0.31492 seconds\n",
      "2023/05/30 05:11:37 PM, INFO, mealpy.bio_based.SMA.BaseSMA: >Problem: P, Epoch: 61, Current best: 0.7298147311827957, Global best: 0.7298147311827957, Runtime: 0.32283 seconds\n",
      "2023/05/30 05:11:38 PM, INFO, mealpy.bio_based.SMA.BaseSMA: >Problem: P, Epoch: 62, Current best: 0.7298147311827957, Global best: 0.7298147311827957, Runtime: 0.32548 seconds\n",
      "2023/05/30 05:11:38 PM, INFO, mealpy.bio_based.SMA.BaseSMA: >Problem: P, Epoch: 63, Current best: 0.7298147311827957, Global best: 0.7298147311827957, Runtime: 0.31993 seconds\n",
      "2023/05/30 05:11:38 PM, INFO, mealpy.bio_based.SMA.BaseSMA: >Problem: P, Epoch: 64, Current best: 0.7298147311827957, Global best: 0.7298147311827957, Runtime: 0.30527 seconds\n",
      "2023/05/30 05:11:39 PM, INFO, mealpy.bio_based.SMA.BaseSMA: >Problem: P, Epoch: 65, Current best: 0.7298147311827957, Global best: 0.7298147311827957, Runtime: 0.31683 seconds\n",
      "2023/05/30 05:11:39 PM, INFO, mealpy.bio_based.SMA.BaseSMA: >Problem: P, Epoch: 66, Current best: 0.7298147311827957, Global best: 0.7298147311827957, Runtime: 0.36104 seconds\n",
      "2023/05/30 05:11:39 PM, INFO, mealpy.bio_based.SMA.BaseSMA: >Problem: P, Epoch: 67, Current best: 0.7298147311827957, Global best: 0.7298147311827957, Runtime: 0.31640 seconds\n",
      "2023/05/30 05:11:40 PM, INFO, mealpy.bio_based.SMA.BaseSMA: >Problem: P, Epoch: 68, Current best: 0.7298147311827957, Global best: 0.7298147311827957, Runtime: 0.31478 seconds\n",
      "2023/05/30 05:11:40 PM, INFO, mealpy.bio_based.SMA.BaseSMA: >Problem: P, Epoch: 69, Current best: 0.7298147311827957, Global best: 0.7298147311827957, Runtime: 0.31483 seconds\n",
      "2023/05/30 05:11:40 PM, INFO, mealpy.bio_based.SMA.BaseSMA: >Problem: P, Epoch: 70, Current best: 0.7298147311827957, Global best: 0.7298147311827957, Runtime: 0.31079 seconds\n",
      "2023/05/30 05:11:41 PM, INFO, mealpy.bio_based.SMA.BaseSMA: >Problem: P, Epoch: 71, Current best: 0.7298147311827957, Global best: 0.7298147311827957, Runtime: 0.33700 seconds\n",
      "2023/05/30 05:11:41 PM, INFO, mealpy.bio_based.SMA.BaseSMA: >Problem: P, Epoch: 72, Current best: 0.7298147311827957, Global best: 0.7298147311827957, Runtime: 0.32571 seconds\n",
      "2023/05/30 05:11:41 PM, INFO, mealpy.bio_based.SMA.BaseSMA: >Problem: P, Epoch: 73, Current best: 0.7298147311827957, Global best: 0.7298147311827957, Runtime: 0.32009 seconds\n",
      "2023/05/30 05:11:42 PM, INFO, mealpy.bio_based.SMA.BaseSMA: >Problem: P, Epoch: 74, Current best: 0.7298147311827957, Global best: 0.7298147311827957, Runtime: 0.30911 seconds\n",
      "2023/05/30 05:11:42 PM, INFO, mealpy.bio_based.SMA.BaseSMA: >Problem: P, Epoch: 75, Current best: 0.7298147311827957, Global best: 0.7298147311827957, Runtime: 0.32487 seconds\n",
      "2023/05/30 05:11:42 PM, INFO, mealpy.bio_based.SMA.BaseSMA: >Problem: P, Epoch: 76, Current best: 0.7298147311827957, Global best: 0.7298147311827957, Runtime: 0.31691 seconds\n",
      "2023/05/30 05:11:43 PM, INFO, mealpy.bio_based.SMA.BaseSMA: >Problem: P, Epoch: 77, Current best: 0.7298147311827957, Global best: 0.7298147311827957, Runtime: 0.31456 seconds\n",
      "2023/05/30 05:11:43 PM, INFO, mealpy.bio_based.SMA.BaseSMA: >Problem: P, Epoch: 78, Current best: 0.7298147311827957, Global best: 0.7298147311827957, Runtime: 0.34851 seconds\n",
      "2023/05/30 05:11:43 PM, INFO, mealpy.bio_based.SMA.BaseSMA: >Problem: P, Epoch: 79, Current best: 0.7298147311827957, Global best: 0.7298147311827957, Runtime: 0.31762 seconds\n",
      "2023/05/30 05:11:44 PM, INFO, mealpy.bio_based.SMA.BaseSMA: >Problem: P, Epoch: 80, Current best: 0.7298147311827957, Global best: 0.7298147311827957, Runtime: 0.31564 seconds\n",
      "2023/05/30 05:11:44 PM, INFO, mealpy.bio_based.SMA.BaseSMA: >Problem: P, Epoch: 81, Current best: 0.7298147311827957, Global best: 0.7298147311827957, Runtime: 0.33644 seconds\n",
      "2023/05/30 05:11:44 PM, INFO, mealpy.bio_based.SMA.BaseSMA: >Problem: P, Epoch: 82, Current best: 0.7298147311827957, Global best: 0.7298147311827957, Runtime: 0.33493 seconds\n",
      "2023/05/30 05:11:45 PM, INFO, mealpy.bio_based.SMA.BaseSMA: >Problem: P, Epoch: 83, Current best: 0.7298147311827957, Global best: 0.7298147311827957, Runtime: 0.30668 seconds\n",
      "2023/05/30 05:11:45 PM, INFO, mealpy.bio_based.SMA.BaseSMA: >Problem: P, Epoch: 84, Current best: 0.7298147311827957, Global best: 0.7298147311827957, Runtime: 0.31493 seconds\n",
      "2023/05/30 05:11:45 PM, INFO, mealpy.bio_based.SMA.BaseSMA: >Problem: P, Epoch: 85, Current best: 0.7298147311827957, Global best: 0.7298147311827957, Runtime: 0.32187 seconds\n",
      "2023/05/30 05:11:45 PM, INFO, mealpy.bio_based.SMA.BaseSMA: >Problem: P, Epoch: 86, Current best: 0.7298147311827957, Global best: 0.7298147311827957, Runtime: 0.31173 seconds\n",
      "2023/05/30 05:11:46 PM, INFO, mealpy.bio_based.SMA.BaseSMA: >Problem: P, Epoch: 87, Current best: 0.7298147311827957, Global best: 0.7298147311827957, Runtime: 0.32625 seconds\n",
      "2023/05/30 05:11:46 PM, INFO, mealpy.bio_based.SMA.BaseSMA: >Problem: P, Epoch: 88, Current best: 0.7298147311827957, Global best: 0.7298147311827957, Runtime: 0.30711 seconds\n",
      "2023/05/30 05:11:46 PM, INFO, mealpy.bio_based.SMA.BaseSMA: >Problem: P, Epoch: 89, Current best: 0.7298147311827957, Global best: 0.7298147311827957, Runtime: 0.31397 seconds\n",
      "2023/05/30 05:11:47 PM, INFO, mealpy.bio_based.SMA.BaseSMA: >Problem: P, Epoch: 90, Current best: 0.7298147311827957, Global best: 0.7298147311827957, Runtime: 0.30601 seconds\n",
      "2023/05/30 05:11:47 PM, INFO, mealpy.bio_based.SMA.BaseSMA: >Problem: P, Epoch: 91, Current best: 0.7298147311827957, Global best: 0.7298147311827957, Runtime: 0.31631 seconds\n",
      "2023/05/30 05:11:47 PM, INFO, mealpy.bio_based.SMA.BaseSMA: >Problem: P, Epoch: 92, Current best: 0.7298147311827957, Global best: 0.7298147311827957, Runtime: 0.30594 seconds\n",
      "2023/05/30 05:11:48 PM, INFO, mealpy.bio_based.SMA.BaseSMA: >Problem: P, Epoch: 93, Current best: 0.7298147311827957, Global best: 0.7298147311827957, Runtime: 0.31962 seconds\n"
     ]
    },
    {
     "name": "stderr",
     "output_type": "stream",
     "text": [
      "2023/05/30 05:11:48 PM, INFO, mealpy.bio_based.SMA.BaseSMA: >Problem: P, Epoch: 94, Current best: 0.7298147311827957, Global best: 0.7298147311827957, Runtime: 0.31455 seconds\n",
      "2023/05/30 05:11:48 PM, INFO, mealpy.bio_based.SMA.BaseSMA: >Problem: P, Epoch: 95, Current best: 0.7298147311827957, Global best: 0.7298147311827957, Runtime: 0.30602 seconds\n",
      "2023/05/30 05:11:49 PM, INFO, mealpy.bio_based.SMA.BaseSMA: >Problem: P, Epoch: 96, Current best: 0.7298147311827957, Global best: 0.7298147311827957, Runtime: 0.30832 seconds\n",
      "2023/05/30 05:11:49 PM, INFO, mealpy.bio_based.SMA.BaseSMA: >Problem: P, Epoch: 97, Current best: 0.7298147311827957, Global best: 0.7298147311827957, Runtime: 0.34092 seconds\n",
      "2023/05/30 05:11:49 PM, INFO, mealpy.bio_based.SMA.BaseSMA: >Problem: P, Epoch: 98, Current best: 0.7298147311827957, Global best: 0.7298147311827957, Runtime: 0.30949 seconds\n",
      "2023/05/30 05:11:50 PM, INFO, mealpy.bio_based.SMA.BaseSMA: >Problem: P, Epoch: 99, Current best: 0.7298147311827957, Global best: 0.7298147311827957, Runtime: 0.34128 seconds\n",
      "2023/05/30 05:11:50 PM, INFO, mealpy.bio_based.SMA.BaseSMA: >Problem: P, Epoch: 100, Current best: 0.7298147311827957, Global best: 0.7298147311827957, Runtime: 0.32583 seconds\n"
     ]
    }
   ],
   "source": [
    "fs2_model.fit(data.X_train, data.y_train)"
   ]
  },
  {
   "cell_type": "code",
   "execution_count": 23,
   "metadata": {
    "pycharm": {
     "name": "#%%\n"
    }
   },
   "outputs": [
    {
     "name": "stdout",
     "output_type": "stream",
     "text": [
      "Original Dataset: (361, 279)\n",
      "Selected dataset: (91, 3)\n"
     ]
    }
   ],
   "source": [
    "X_selected = fs2_model.transform(data.X_test)\n",
    "print(f\"Original Dataset: {data.X_train.shape}\")        \n",
    "print(f\"Selected dataset: {X_selected.shape}\")    "
   ]
  },
  {
   "cell_type": "markdown",
   "metadata": {
    "pycharm": {
     "name": "#%% md\n"
    }
   },
   "source": []
  }
 ],
 "metadata": {
  "kernelspec": {
   "display_name": "Python 3 (ipykernel)",
   "language": "python",
   "name": "python3"
  },
  "language_info": {
   "codemirror_mode": {
    "name": "ipython",
    "version": 3
   },
   "file_extension": ".py",
   "mimetype": "text/x-python",
   "name": "python",
   "nbconvert_exporter": "python",
   "pygments_lexer": "ipython3",
   "version": "3.8.5"
  }
 },
 "nbformat": 4,
 "nbformat_minor": 1
}