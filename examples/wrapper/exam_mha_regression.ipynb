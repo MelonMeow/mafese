{
 "cells": [
  {
   "cell_type": "code",
   "execution_count": 2,
   "metadata": {
    "pycharm": {
     "name": "#%%\n"
    }
   },
   "outputs": [],
   "source": [
    "from mafese import get_dataset\n",
    "from mafese.wrapper.mha import MhaSelector"
   ]
  },
  {
   "cell_type": "code",
   "execution_count": 3,
   "metadata": {
    "pycharm": {
     "name": "#%%\n"
    }
   },
   "outputs": [
    {
     "name": "stdout",
     "output_type": "stream",
     "text": [
      "MAFESE currently does not have 'gauss-100-10' data in its database....\n",
      "Enter 1 to see the available datasets: 1\n",
      "+ For classification problem. We support datasets:\n",
      "\t1: Arrhythmia\n",
      "\t2: BreastCancer\n",
      "\t3: BreastEW\n",
      "\t4: CongressEW\n",
      "\t5: Digits\n",
      "\t6: Exactly\n",
      "\t7: Exactly2\n",
      "\t8: Glass\n",
      "\t9: HeartEW\n",
      "\t10: Hill-valley\n",
      "\t11: Horse\n",
      "\t12: Ionosphere\n",
      "\t13: Iris\n",
      "\t14: KrVsKpEW\n",
      "\t15: Lymphography\n",
      "\t16: M-of-n\n",
      "\t17: Madelon\n",
      "\t18: Monk1\n",
      "\t19: Monk2\n",
      "\t20: Monk3\n",
      "\t21: PenglungEW\n",
      "\t22: Sonar\n",
      "\t23: Soybean-small\n",
      "\t24: SpectEW\n",
      "\t25: Tic-tac-toe\n",
      "\t26: Vote\n",
      "\t27: Vowel\n",
      "\t28: WaveformEW\n",
      "\t29: Wine\n",
      "\t30: Zoo\n",
      "+ For regression problem. We support datasets:\n",
      "\t1: boston-housing\n",
      "\t2: diabetes\n",
      "\t3: gauss-100-20\n",
      "\t4: gauss-50-12\n",
      "\t5: gauss-75-17\n",
      "\t6: linnerud\n"
     ]
    }
   ],
   "source": [
    "data = get_dataset(\"gauss-100-10\")"
   ]
  },
  {
   "cell_type": "code",
   "execution_count": 4,
   "metadata": {
    "pycharm": {
     "name": "#%%\n"
    }
   },
   "outputs": [
    {
     "name": "stdout",
     "output_type": "stream",
     "text": [
      "Requested REGRESSION dataset: gauss-100-20 found and loaded!\n"
     ]
    }
   ],
   "source": [
    "data = get_dataset(\"gauss-100-20\")\n",
    "data.split_train_test(test_size=0.2)"
   ]
  },
  {
   "cell_type": "markdown",
   "metadata": {
    "pycharm": {
     "name": "#%% md\n"
    }
   },
   "source": [
    "# To get informations, do the same as example in classification.\n",
    "\n",
    "Now we go straight into how to use MhaSelector for Regression problem\n"
   ]
  },
  {
   "cell_type": "markdown",
   "metadata": {
    "pycharm": {
     "name": "#%% md\n"
    }
   },
   "source": [
    "### 2. Define an instance of MhaSelector"
   ]
  },
  {
   "cell_type": "code",
   "execution_count": null,
   "outputs": [],
   "source": [
    "feat_selector = MhaSelector(problem=\"regression\", estimator=\"knn\", estimator_paras=None,\n",
    "                            optimizer=\"BaseGA\", optimizer_paras=None,\n",
    "                            transfer_func=\"vstf_01\", obj_name=\"MSE\")"
   ],
   "metadata": {
    "collapsed": false,
    "pycharm": {
     "name": "#%%\n"
    }
   }
  },
  {
   "cell_type": "markdown",
   "source": [
    "### 3. Train with dataset"
   ],
   "metadata": {
    "collapsed": false,
    "pycharm": {
     "name": "#%% md\n"
    }
   }
  },
  {
   "cell_type": "code",
   "execution_count": null,
   "outputs": [],
   "source": [
    "feat_selector.fit(data.X_train, data.y_train)"
   ],
   "metadata": {
    "collapsed": false,
    "pycharm": {
     "name": "#%%\n"
    }
   }
  },
  {
   "cell_type": "markdown",
   "source": [
    "### 4. Transform the dataset"
   ],
   "metadata": {
    "collapsed": false,
    "pycharm": {
     "name": "#%% md\n"
    }
   }
  },
  {
   "cell_type": "code",
   "execution_count": null,
   "outputs": [],
   "source": [
    "X_selected = feat_selector.transform(data.X_test)\n",
    "print(f\"Original Dataset: {data.X_train.shape}\")        \n",
    "print(f\"Selected dataset: {X_selected.shape}\")   "
   ],
   "metadata": {
    "collapsed": false,
    "pycharm": {
     "name": "#%%\n"
    }
   }
  },
  {
   "cell_type": "markdown",
   "source": [
    "### 5. Get some informations"
   ],
   "metadata": {
    "collapsed": false,
    "pycharm": {
     "name": "#%% md\n"
    }
   }
  },
  {
   "cell_type": "code",
   "execution_count": null,
   "outputs": [],
   "source": [
    "print(feat_selector.get_best_obj_and_fit())            \n",
    "print(feat_selector.selected_feature_masks)\n",
    "print(feat_selector.selected_feature_solution)\n",
    "print(feat_selector.selected_feature_indexes)"
   ],
   "metadata": {
    "collapsed": false,
    "pycharm": {
     "name": "#%%\n"
    }
   }
  },
  {
   "cell_type": "markdown",
   "source": [
    "### 6. Retrain and evaluate our final dataset"
   ],
   "metadata": {
    "collapsed": false,
    "pycharm": {
     "name": "#%% md\n"
    }
   }
  },
  {
   "cell_type": "markdown",
   "source": [
    "### 6.1 Use the same model as feature selector to evaluate final dataset."
   ],
   "metadata": {
    "collapsed": false,
    "pycharm": {
     "name": "#%% md\n"
    }
   }
  },
  {
   "cell_type": "code",
   "execution_count": null,
   "outputs": [],
   "source": [
    "from mafese import evaluator\n",
    "\n",
    "res1 = evaluator.evaluate(selector=feat_selector, estimator=None, data=data, metrics=[\"MAE\", \"RMSE\", \"R2\"])\n",
    "print(res1)"
   ],
   "metadata": {
    "collapsed": false,
    "pycharm": {
     "name": "#%%\n"
    }
   }
  },
  {
   "cell_type": "markdown",
   "source": [
    "### 6.2 But I want to use different model to evaluate final dataset"
   ],
   "metadata": {
    "collapsed": false,
    "pycharm": {
     "name": "#%% md\n"
    }
   }
  },
  {
   "cell_type": "code",
   "execution_count": null,
   "outputs": [],
   "source": [
    "from mafese import evaluator\n",
    "from sklearn.svm import SVR\n",
    "\n",
    "res2 = evaluator.evaluate(selector=feat_selector, estimator=SVR(), data=data, metrics=[\"MAE\", \"RMSE\", \"R2\"])\n",
    "print(res2)"
   ],
   "metadata": {
    "collapsed": false,
    "pycharm": {
     "name": "#%%\n"
    }
   }
  },
  {
   "cell_type": "code",
   "execution_count": null,
   "outputs": [],
   "source": [
    "feat_selector = MhaSelector(problem=\"regression\", estimator=\"knn\", estimator_paras=None,\n",
    "                            optimizer=\"BaseGA\", optimizer_paras=None,\n",
    "                            transfer_func=\"vstf_01\", obj_name=\"MSE\")"
   ],
   "metadata": {
    "collapsed": false,
    "pycharm": {
     "name": "#%%\n"
    }
   }
  },
  {
   "cell_type": "code",
   "execution_count": 16,
   "metadata": {
    "pycharm": {
     "name": "#%%\n"
    }
   },
   "outputs": [
    {
     "name": "stderr",
     "output_type": "stream",
     "text": [
      "2023/06/14 06:22:22 PM, INFO, mealpy.evolutionary_based.GA.BaseGA: Solving 2-objective optimization problem with weights: [1. 0.].\n",
      "2023/06/14 06:22:22 PM, INFO, mealpy.evolutionary_based.GA.BaseGA: >Problem: P, Epoch: 1, Current best: 38894.91725919629, Global best: 38894.91725919629, Runtime: 0.17475 seconds\n",
      "2023/06/14 06:22:22 PM, INFO, mealpy.evolutionary_based.GA.BaseGA: >Problem: P, Epoch: 2, Current best: 39501.113020000004, Global best: 38894.91725919629, Runtime: 0.17763 seconds\n",
      "2023/06/14 06:22:22 PM, INFO, mealpy.evolutionary_based.GA.BaseGA: >Problem: P, Epoch: 3, Current best: 40069.37825202825, Global best: 38894.91725919629, Runtime: 0.16616 seconds\n",
      "2023/06/14 06:22:23 PM, INFO, mealpy.evolutionary_based.GA.BaseGA: >Problem: P, Epoch: 4, Current best: 38777.923352320686, Global best: 38777.923352320686, Runtime: 0.15204 seconds\n",
      "2023/06/14 06:22:23 PM, INFO, mealpy.evolutionary_based.GA.BaseGA: >Problem: P, Epoch: 5, Current best: 39683.782491602535, Global best: 38777.923352320686, Runtime: 0.16238 seconds\n",
      "2023/06/14 06:22:23 PM, INFO, mealpy.evolutionary_based.GA.BaseGA: >Problem: P, Epoch: 6, Current best: 39031.94693817123, Global best: 38777.923352320686, Runtime: 0.15603 seconds\n",
      "2023/06/14 06:22:23 PM, INFO, mealpy.evolutionary_based.GA.BaseGA: >Problem: P, Epoch: 7, Current best: 39201.2296811024, Global best: 38777.923352320686, Runtime: 0.14894 seconds\n",
      "2023/06/14 06:22:23 PM, INFO, mealpy.evolutionary_based.GA.BaseGA: >Problem: P, Epoch: 8, Current best: 41447.58354825857, Global best: 38777.923352320686, Runtime: 0.14760 seconds\n",
      "2023/06/14 06:22:23 PM, INFO, mealpy.evolutionary_based.GA.BaseGA: >Problem: P, Epoch: 9, Current best: 38995.01531715091, Global best: 38777.923352320686, Runtime: 0.14723 seconds\n",
      "2023/06/14 06:22:23 PM, INFO, mealpy.evolutionary_based.GA.BaseGA: >Problem: P, Epoch: 10, Current best: 39862.536547623095, Global best: 38777.923352320686, Runtime: 0.14532 seconds\n",
      "2023/06/14 06:22:24 PM, INFO, mealpy.evolutionary_based.GA.BaseGA: >Problem: P, Epoch: 11, Current best: 37683.44102, Global best: 37683.44102, Runtime: 0.14751 seconds\n",
      "2023/06/14 06:22:24 PM, INFO, mealpy.evolutionary_based.GA.BaseGA: >Problem: P, Epoch: 12, Current best: 37819.79819071679, Global best: 37683.44102, Runtime: 0.14269 seconds\n",
      "2023/06/14 06:22:24 PM, INFO, mealpy.evolutionary_based.GA.BaseGA: >Problem: P, Epoch: 13, Current best: 35361.68505617263, Global best: 35361.68505617263, Runtime: 0.14542 seconds\n",
      "2023/06/14 06:22:24 PM, INFO, mealpy.evolutionary_based.GA.BaseGA: >Problem: P, Epoch: 14, Current best: 38913.80393, Global best: 35361.68505617263, Runtime: 0.14194 seconds\n",
      "2023/06/14 06:22:24 PM, INFO, mealpy.evolutionary_based.GA.BaseGA: >Problem: P, Epoch: 15, Current best: 31093.166573947772, Global best: 31093.166573947772, Runtime: 0.14268 seconds\n",
      "2023/06/14 06:22:24 PM, INFO, mealpy.evolutionary_based.GA.BaseGA: >Problem: P, Epoch: 16, Current best: 36329.69681, Global best: 31093.166573947772, Runtime: 0.14392 seconds\n",
      "2023/06/14 06:22:24 PM, INFO, mealpy.evolutionary_based.GA.BaseGA: >Problem: P, Epoch: 17, Current best: 34846.407852953176, Global best: 31093.166573947772, Runtime: 0.14504 seconds\n",
      "2023/06/14 06:22:25 PM, INFO, mealpy.evolutionary_based.GA.BaseGA: >Problem: P, Epoch: 18, Current best: 32434.51011766242, Global best: 31093.166573947772, Runtime: 0.15918 seconds\n",
      "2023/06/14 06:22:25 PM, INFO, mealpy.evolutionary_based.GA.BaseGA: >Problem: P, Epoch: 19, Current best: 33565.46565155434, Global best: 31093.166573947772, Runtime: 0.17607 seconds\n",
      "2023/06/14 06:22:25 PM, INFO, mealpy.evolutionary_based.GA.BaseGA: >Problem: P, Epoch: 20, Current best: 33988.93642592315, Global best: 31093.166573947772, Runtime: 0.18373 seconds\n",
      "2023/06/14 06:22:25 PM, INFO, mealpy.evolutionary_based.GA.BaseGA: >Problem: P, Epoch: 21, Current best: 29077.916765889295, Global best: 29077.916765889295, Runtime: 0.14207 seconds\n",
      "2023/06/14 06:22:25 PM, INFO, mealpy.evolutionary_based.GA.BaseGA: >Problem: P, Epoch: 22, Current best: 32594.332967683826, Global best: 29077.916765889295, Runtime: 0.17933 seconds\n",
      "2023/06/14 06:22:25 PM, INFO, mealpy.evolutionary_based.GA.BaseGA: >Problem: P, Epoch: 23, Current best: 33274.16322473915, Global best: 29077.916765889295, Runtime: 0.16688 seconds\n",
      "2023/06/14 06:22:26 PM, INFO, mealpy.evolutionary_based.GA.BaseGA: >Problem: P, Epoch: 24, Current best: 32409.463538557648, Global best: 29077.916765889295, Runtime: 0.15349 seconds\n",
      "2023/06/14 06:22:26 PM, INFO, mealpy.evolutionary_based.GA.BaseGA: >Problem: P, Epoch: 25, Current best: 30265.75895, Global best: 29077.916765889295, Runtime: 0.15623 seconds\n",
      "2023/06/14 06:22:26 PM, INFO, mealpy.evolutionary_based.GA.BaseGA: >Problem: P, Epoch: 26, Current best: 32064.574275678504, Global best: 29077.916765889295, Runtime: 0.19525 seconds\n",
      "2023/06/14 06:22:26 PM, INFO, mealpy.evolutionary_based.GA.BaseGA: >Problem: P, Epoch: 27, Current best: 27722.14243978941, Global best: 27722.14243978941, Runtime: 0.15383 seconds\n",
      "2023/06/14 06:22:26 PM, INFO, mealpy.evolutionary_based.GA.BaseGA: >Problem: P, Epoch: 28, Current best: 33116.670893562565, Global best: 27722.14243978941, Runtime: 0.14838 seconds\n",
      "2023/06/14 06:22:26 PM, INFO, mealpy.evolutionary_based.GA.BaseGA: >Problem: P, Epoch: 29, Current best: 34249.43315010489, Global best: 27722.14243978941, Runtime: 0.13605 seconds\n",
      "2023/06/14 06:22:27 PM, INFO, mealpy.evolutionary_based.GA.BaseGA: >Problem: P, Epoch: 30, Current best: 34794.52756744534, Global best: 27722.14243978941, Runtime: 0.15326 seconds\n",
      "2023/06/14 06:22:27 PM, INFO, mealpy.evolutionary_based.GA.BaseGA: >Problem: P, Epoch: 31, Current best: 31982.863879999997, Global best: 27722.14243978941, Runtime: 0.15350 seconds\n",
      "2023/06/14 06:22:27 PM, INFO, mealpy.evolutionary_based.GA.BaseGA: >Problem: P, Epoch: 32, Current best: 34493.24698302843, Global best: 27722.14243978941, Runtime: 0.13874 seconds\n",
      "2023/06/14 06:22:27 PM, INFO, mealpy.evolutionary_based.GA.BaseGA: >Problem: P, Epoch: 33, Current best: 35061.59820128591, Global best: 27722.14243978941, Runtime: 0.14724 seconds\n",
      "2023/06/14 06:22:27 PM, INFO, mealpy.evolutionary_based.GA.BaseGA: >Problem: P, Epoch: 34, Current best: 32285.88510406487, Global best: 27722.14243978941, Runtime: 0.14056 seconds\n",
      "2023/06/14 06:22:27 PM, INFO, mealpy.evolutionary_based.GA.BaseGA: >Problem: P, Epoch: 35, Current best: 36547.12233265034, Global best: 27722.14243978941, Runtime: 0.14206 seconds\n",
      "2023/06/14 06:22:27 PM, INFO, mealpy.evolutionary_based.GA.BaseGA: >Problem: P, Epoch: 36, Current best: 34895.51567084601, Global best: 27722.14243978941, Runtime: 0.14378 seconds\n",
      "2023/06/14 06:22:28 PM, INFO, mealpy.evolutionary_based.GA.BaseGA: >Problem: P, Epoch: 37, Current best: 32738.204017321987, Global best: 27722.14243978941, Runtime: 0.16423 seconds\n",
      "2023/06/14 06:22:28 PM, INFO, mealpy.evolutionary_based.GA.BaseGA: >Problem: P, Epoch: 38, Current best: 27759.1379453352, Global best: 27722.14243978941, Runtime: 0.14112 seconds\n",
      "2023/06/14 06:22:28 PM, INFO, mealpy.evolutionary_based.GA.BaseGA: >Problem: P, Epoch: 39, Current best: 30512.903115730107, Global best: 27722.14243978941, Runtime: 0.14610 seconds\n",
      "2023/06/14 06:22:28 PM, INFO, mealpy.evolutionary_based.GA.BaseGA: >Problem: P, Epoch: 40, Current best: 32893.16567000001, Global best: 27722.14243978941, Runtime: 0.14447 seconds\n",
      "2023/06/14 06:22:28 PM, INFO, mealpy.evolutionary_based.GA.BaseGA: >Problem: P, Epoch: 41, Current best: 34836.595959456, Global best: 27722.14243978941, Runtime: 0.14658 seconds\n",
      "2023/06/14 06:22:28 PM, INFO, mealpy.evolutionary_based.GA.BaseGA: >Problem: P, Epoch: 42, Current best: 30554.66713001898, Global best: 27722.14243978941, Runtime: 0.15410 seconds\n",
      "2023/06/14 06:22:28 PM, INFO, mealpy.evolutionary_based.GA.BaseGA: >Problem: P, Epoch: 43, Current best: 30839.369895193846, Global best: 27722.14243978941, Runtime: 0.14997 seconds\n",
      "2023/06/14 06:22:29 PM, INFO, mealpy.evolutionary_based.GA.BaseGA: >Problem: P, Epoch: 44, Current best: 37140.27675463607, Global best: 27722.14243978941, Runtime: 0.17072 seconds\n",
      "2023/06/14 06:22:29 PM, INFO, mealpy.evolutionary_based.GA.BaseGA: >Problem: P, Epoch: 45, Current best: 34641.55982431813, Global best: 27722.14243978941, Runtime: 0.14623 seconds\n"
     ]
    },
    {
     "name": "stderr",
     "output_type": "stream",
     "text": [
      "2023/06/14 06:22:29 PM, INFO, mealpy.evolutionary_based.GA.BaseGA: >Problem: P, Epoch: 46, Current best: 35138.51740591315, Global best: 27722.14243978941, Runtime: 0.15146 seconds\n",
      "2023/06/14 06:22:29 PM, INFO, mealpy.evolutionary_based.GA.BaseGA: >Problem: P, Epoch: 47, Current best: 31105.393106986092, Global best: 27722.14243978941, Runtime: 0.13320 seconds\n",
      "2023/06/14 06:22:29 PM, INFO, mealpy.evolutionary_based.GA.BaseGA: >Problem: P, Epoch: 48, Current best: 29562.76778812403, Global best: 27722.14243978941, Runtime: 0.13393 seconds\n",
      "2023/06/14 06:22:29 PM, INFO, mealpy.evolutionary_based.GA.BaseGA: >Problem: P, Epoch: 49, Current best: 35102.32228336155, Global best: 27722.14243978941, Runtime: 0.12308 seconds\n",
      "2023/06/14 06:22:29 PM, INFO, mealpy.evolutionary_based.GA.BaseGA: >Problem: P, Epoch: 50, Current best: 35421.59763953586, Global best: 27722.14243978941, Runtime: 0.14842 seconds\n",
      "2023/06/14 06:22:30 PM, INFO, mealpy.evolutionary_based.GA.BaseGA: >Problem: P, Epoch: 51, Current best: 34761.6928579309, Global best: 27722.14243978941, Runtime: 0.12747 seconds\n",
      "2023/06/14 06:22:30 PM, INFO, mealpy.evolutionary_based.GA.BaseGA: >Problem: P, Epoch: 52, Current best: 34835.0616, Global best: 27722.14243978941, Runtime: 0.13040 seconds\n",
      "2023/06/14 06:22:30 PM, INFO, mealpy.evolutionary_based.GA.BaseGA: >Problem: P, Epoch: 53, Current best: 32979.615259657265, Global best: 27722.14243978941, Runtime: 0.13264 seconds\n",
      "2023/06/14 06:22:30 PM, INFO, mealpy.evolutionary_based.GA.BaseGA: >Problem: P, Epoch: 54, Current best: 30793.168683218042, Global best: 27722.14243978941, Runtime: 0.12982 seconds\n",
      "2023/06/14 06:22:30 PM, INFO, mealpy.evolutionary_based.GA.BaseGA: >Problem: P, Epoch: 55, Current best: 29672.182613747602, Global best: 27722.14243978941, Runtime: 0.13213 seconds\n",
      "2023/06/14 06:22:30 PM, INFO, mealpy.evolutionary_based.GA.BaseGA: >Problem: P, Epoch: 56, Current best: 36804.524951335814, Global best: 27722.14243978941, Runtime: 0.15365 seconds\n",
      "2023/06/14 06:22:30 PM, INFO, mealpy.evolutionary_based.GA.BaseGA: >Problem: P, Epoch: 57, Current best: 40703.53497197405, Global best: 27722.14243978941, Runtime: 0.10830 seconds\n",
      "2023/06/14 06:22:31 PM, INFO, mealpy.evolutionary_based.GA.BaseGA: >Problem: P, Epoch: 58, Current best: 39910.52075303361, Global best: 27722.14243978941, Runtime: 0.11939 seconds\n",
      "2023/06/14 06:22:31 PM, INFO, mealpy.evolutionary_based.GA.BaseGA: >Problem: P, Epoch: 59, Current best: 42983.400541859264, Global best: 27722.14243978941, Runtime: 0.12477 seconds\n",
      "2023/06/14 06:22:31 PM, INFO, mealpy.evolutionary_based.GA.BaseGA: >Problem: P, Epoch: 60, Current best: 41830.70977276907, Global best: 27722.14243978941, Runtime: 0.10133 seconds\n",
      "2023/06/14 06:22:31 PM, INFO, mealpy.evolutionary_based.GA.BaseGA: >Problem: P, Epoch: 61, Current best: 41424.645392804414, Global best: 27722.14243978941, Runtime: 0.10089 seconds\n",
      "2023/06/14 06:22:31 PM, INFO, mealpy.evolutionary_based.GA.BaseGA: >Problem: P, Epoch: 62, Current best: 39908.14507336964, Global best: 27722.14243978941, Runtime: 0.11548 seconds\n",
      "2023/06/14 06:22:31 PM, INFO, mealpy.evolutionary_based.GA.BaseGA: >Problem: P, Epoch: 63, Current best: 37681.23160061712, Global best: 27722.14243978941, Runtime: 0.11722 seconds\n",
      "2023/06/14 06:22:31 PM, INFO, mealpy.evolutionary_based.GA.BaseGA: >Problem: P, Epoch: 64, Current best: 33104.13604242678, Global best: 27722.14243978941, Runtime: 0.11792 seconds\n",
      "2023/06/14 06:22:31 PM, INFO, mealpy.evolutionary_based.GA.BaseGA: >Problem: P, Epoch: 65, Current best: 31804.480843754078, Global best: 27722.14243978941, Runtime: 0.11754 seconds\n",
      "2023/06/14 06:22:31 PM, INFO, mealpy.evolutionary_based.GA.BaseGA: >Problem: P, Epoch: 66, Current best: 36133.538680000005, Global best: 27722.14243978941, Runtime: 0.13052 seconds\n",
      "2023/06/14 06:22:32 PM, INFO, mealpy.evolutionary_based.GA.BaseGA: >Problem: P, Epoch: 67, Current best: 38254.69998220413, Global best: 27722.14243978941, Runtime: 0.11305 seconds\n",
      "2023/06/14 06:22:32 PM, INFO, mealpy.evolutionary_based.GA.BaseGA: >Problem: P, Epoch: 68, Current best: 33892.01969824137, Global best: 27722.14243978941, Runtime: 0.11021 seconds\n",
      "2023/06/14 06:22:32 PM, INFO, mealpy.evolutionary_based.GA.BaseGA: >Problem: P, Epoch: 69, Current best: 34211.4054174868, Global best: 27722.14243978941, Runtime: 0.12263 seconds\n",
      "2023/06/14 06:22:32 PM, INFO, mealpy.evolutionary_based.GA.BaseGA: >Problem: P, Epoch: 70, Current best: 35921.455728222434, Global best: 27722.14243978941, Runtime: 0.10711 seconds\n",
      "2023/06/14 06:22:32 PM, INFO, mealpy.evolutionary_based.GA.BaseGA: >Problem: P, Epoch: 71, Current best: 34762.41307621986, Global best: 27722.14243978941, Runtime: 0.15595 seconds\n",
      "2023/06/14 06:22:32 PM, INFO, mealpy.evolutionary_based.GA.BaseGA: >Problem: P, Epoch: 72, Current best: 37338.29824491632, Global best: 27722.14243978941, Runtime: 0.11927 seconds\n",
      "2023/06/14 06:22:32 PM, INFO, mealpy.evolutionary_based.GA.BaseGA: >Problem: P, Epoch: 73, Current best: 37933.45269076763, Global best: 27722.14243978941, Runtime: 0.12761 seconds\n",
      "2023/06/14 06:22:32 PM, INFO, mealpy.evolutionary_based.GA.BaseGA: >Problem: P, Epoch: 74, Current best: 34361.37495, Global best: 27722.14243978941, Runtime: 0.12211 seconds\n",
      "2023/06/14 06:22:33 PM, INFO, mealpy.evolutionary_based.GA.BaseGA: >Problem: P, Epoch: 75, Current best: 35693.35886690599, Global best: 27722.14243978941, Runtime: 0.14824 seconds\n",
      "2023/06/14 06:22:33 PM, INFO, mealpy.evolutionary_based.GA.BaseGA: >Problem: P, Epoch: 76, Current best: 36033.89099783025, Global best: 27722.14243978941, Runtime: 0.12687 seconds\n",
      "2023/06/14 06:22:33 PM, INFO, mealpy.evolutionary_based.GA.BaseGA: >Problem: P, Epoch: 77, Current best: 32698.341011435547, Global best: 27722.14243978941, Runtime: 0.15060 seconds\n",
      "2023/06/14 06:22:33 PM, INFO, mealpy.evolutionary_based.GA.BaseGA: >Problem: P, Epoch: 78, Current best: 37203.35646828498, Global best: 27722.14243978941, Runtime: 0.13046 seconds\n",
      "2023/06/14 06:22:33 PM, INFO, mealpy.evolutionary_based.GA.BaseGA: >Problem: P, Epoch: 79, Current best: 38118.76617783046, Global best: 27722.14243978941, Runtime: 0.10246 seconds\n",
      "2023/06/14 06:22:33 PM, INFO, mealpy.evolutionary_based.GA.BaseGA: >Problem: P, Epoch: 80, Current best: 40819.835765880365, Global best: 27722.14243978941, Runtime: 0.10660 seconds\n",
      "2023/06/14 06:22:33 PM, INFO, mealpy.evolutionary_based.GA.BaseGA: >Problem: P, Epoch: 81, Current best: 37435.17297130339, Global best: 27722.14243978941, Runtime: 0.10984 seconds\n",
      "2023/06/14 06:22:33 PM, INFO, mealpy.evolutionary_based.GA.BaseGA: >Problem: P, Epoch: 82, Current best: 35331.1691167673, Global best: 27722.14243978941, Runtime: 0.15760 seconds\n",
      "2023/06/14 06:22:34 PM, INFO, mealpy.evolutionary_based.GA.BaseGA: >Problem: P, Epoch: 83, Current best: 37986.63744237519, Global best: 27722.14243978941, Runtime: 0.12938 seconds\n",
      "2023/06/14 06:22:34 PM, INFO, mealpy.evolutionary_based.GA.BaseGA: >Problem: P, Epoch: 84, Current best: 35505.004068458715, Global best: 27722.14243978941, Runtime: 0.12459 seconds\n",
      "2023/06/14 06:22:34 PM, INFO, mealpy.evolutionary_based.GA.BaseGA: >Problem: P, Epoch: 85, Current best: 37503.88288137139, Global best: 27722.14243978941, Runtime: 0.13725 seconds\n",
      "2023/06/14 06:22:34 PM, INFO, mealpy.evolutionary_based.GA.BaseGA: >Problem: P, Epoch: 86, Current best: 36920.99743500618, Global best: 27722.14243978941, Runtime: 0.13149 seconds\n",
      "2023/06/14 06:22:34 PM, INFO, mealpy.evolutionary_based.GA.BaseGA: >Problem: P, Epoch: 87, Current best: 37952.37660104082, Global best: 27722.14243978941, Runtime: 0.11677 seconds\n",
      "2023/06/14 06:22:34 PM, INFO, mealpy.evolutionary_based.GA.BaseGA: >Problem: P, Epoch: 88, Current best: 40934.81294350428, Global best: 27722.14243978941, Runtime: 0.10734 seconds\n",
      "2023/06/14 06:22:34 PM, INFO, mealpy.evolutionary_based.GA.BaseGA: >Problem: P, Epoch: 89, Current best: 42983.400541859264, Global best: 27722.14243978941, Runtime: 0.10247 seconds\n",
      "2023/06/14 06:22:34 PM, INFO, mealpy.evolutionary_based.GA.BaseGA: >Problem: P, Epoch: 90, Current best: 42983.400541859264, Global best: 27722.14243978941, Runtime: 0.11178 seconds\n",
      "2023/06/14 06:22:35 PM, INFO, mealpy.evolutionary_based.GA.BaseGA: >Problem: P, Epoch: 91, Current best: 42983.400541859264, Global best: 27722.14243978941, Runtime: 0.11246 seconds\n"
     ]
    },
    {
     "name": "stderr",
     "output_type": "stream",
     "text": [
      "2023/06/14 06:22:35 PM, INFO, mealpy.evolutionary_based.GA.BaseGA: >Problem: P, Epoch: 92, Current best: 42983.400541859264, Global best: 27722.14243978941, Runtime: 0.10361 seconds\n",
      "2023/06/14 06:22:35 PM, INFO, mealpy.evolutionary_based.GA.BaseGA: >Problem: P, Epoch: 93, Current best: 42983.400541859264, Global best: 27722.14243978941, Runtime: 0.10798 seconds\n",
      "2023/06/14 06:22:35 PM, INFO, mealpy.evolutionary_based.GA.BaseGA: >Problem: P, Epoch: 94, Current best: 39401.2305096839, Global best: 27722.14243978941, Runtime: 0.11076 seconds\n",
      "2023/06/14 06:22:35 PM, INFO, mealpy.evolutionary_based.GA.BaseGA: >Problem: P, Epoch: 95, Current best: 42566.57873702408, Global best: 27722.14243978941, Runtime: 0.11038 seconds\n",
      "2023/06/14 06:22:35 PM, INFO, mealpy.evolutionary_based.GA.BaseGA: >Problem: P, Epoch: 96, Current best: 38778.93923260596, Global best: 27722.14243978941, Runtime: 0.10070 seconds\n",
      "2023/06/14 06:22:35 PM, INFO, mealpy.evolutionary_based.GA.BaseGA: >Problem: P, Epoch: 97, Current best: 37558.436068175106, Global best: 27722.14243978941, Runtime: 0.10752 seconds\n",
      "2023/06/14 06:22:35 PM, INFO, mealpy.evolutionary_based.GA.BaseGA: >Problem: P, Epoch: 98, Current best: 31939.659777719335, Global best: 27722.14243978941, Runtime: 0.12324 seconds\n",
      "2023/06/14 06:22:35 PM, INFO, mealpy.evolutionary_based.GA.BaseGA: >Problem: P, Epoch: 99, Current best: 32447.016182606425, Global best: 27722.14243978941, Runtime: 0.12990 seconds\n",
      "2023/06/14 06:22:36 PM, INFO, mealpy.evolutionary_based.GA.BaseGA: >Problem: P, Epoch: 100, Current best: 34988.61484, Global best: 27722.14243978941, Runtime: 0.12430 seconds\n"
     ]
    }
   ],
   "source": [
    "feat_selector.fit(data.X_train, data.y_train)"
   ]
  },
  {
   "cell_type": "markdown",
   "metadata": {
    "pycharm": {
     "name": "#%% md\n"
    }
   },
   "source": [
    "### 4. Transform the dataset"
   ]
  },
  {
   "cell_type": "code",
   "execution_count": 17,
   "metadata": {
    "pycharm": {
     "name": "#%%\n"
    }
   },
   "outputs": [
    {
     "name": "stdout",
     "output_type": "stream",
     "text": [
      "Original Dataset: (800, 100)\n",
      "Selected dataset: (200, 17)\n"
     ]
    }
   ],
   "source": [
    "X_selected = feat_selector.transform(data.X_test)\n",
    "print(f\"Original Dataset: {data.X_train.shape}\")        \n",
    "print(f\"Selected dataset: {X_selected.shape}\")   "
   ]
  },
  {
   "cell_type": "markdown",
   "metadata": {
    "pycharm": {
     "name": "#%% md\n"
    }
   },
   "source": [
    "### 5. Get some informations"
   ]
  },
  {
   "cell_type": "code",
   "execution_count": 18,
   "metadata": {
    "pycharm": {
     "name": "#%%\n"
    }
   },
   "outputs": [
    {
     "name": "stdout",
     "output_type": "stream",
     "text": [
      "{'obj': 30802.3611, 'fit': 27722.14243978941}\n",
      "[False False  True False False False False False False False False  True\n",
      "  True False False  True  True False False False False False False False\n",
      " False False False False False False False False False  True  True False\n",
      " False False False False False False False False False False  True False\n",
      " False  True False  True False False  True False False False False False\n",
      " False False False False  True False  True False False False False False\n",
      "  True False False  True False False False False False  True False False\n",
      " False False False False False False False False False False False False\n",
      " False False False  True]\n",
      "[0 0 1 0 0 0 0 0 0 0 0 1 1 0 0 1 1 0 0 0 0 0 0 0 0 0 0 0 0 0 0 0 0 1 1 0 0\n",
      " 0 0 0 0 0 0 0 0 0 1 0 0 1 0 1 0 0 1 0 0 0 0 0 0 0 0 0 1 0 1 0 0 0 0 0 1 0\n",
      " 0 1 0 0 0 0 0 1 0 0 0 0 0 0 0 0 0 0 0 0 0 0 0 0 0 1]\n",
      "[ 2 11 12 15 16 33 34 46 49 51 54 64 66 72 75 81 99]\n"
     ]
    }
   ],
   "source": [
    "print(feat_selector.get_best_obj_and_fit())            \n",
    "print(feat_selector.selected_feature_masks)\n",
    "print(feat_selector.selected_feature_solution)\n",
    "print(feat_selector.selected_feature_indexes)"
   ]
  },
  {
   "cell_type": "markdown",
   "metadata": {
    "pycharm": {
     "name": "#%% md\n"
    }
   },
   "source": [
    "### 6. Retrain and evaluate our final dataset"
   ]
  },
  {
   "cell_type": "markdown",
   "metadata": {
    "pycharm": {
     "name": "#%% md\n"
    }
   },
   "source": [
    "### 6.1 Use the same model as feature selector to evaluate final dataset."
   ]
  },
  {
   "cell_type": "code",
   "execution_count": 19,
   "metadata": {
    "pycharm": {
     "name": "#%%\n"
    }
   },
   "outputs": [
    {
     "name": "stdout",
     "output_type": "stream",
     "text": [
      "{'MAE_train': 125.095, 'RMSE_train': 155.7469, 'R2_train': 0.6714, 'MAE_test': 152.954, 'RMSE_test': 197.7367, 'R2_test': 0.4678}\n"
     ]
    }
   ],
   "source": [
    "from mafese import evaluator\n",
    "\n",
    "res1 = evaluator.evaluate(selector=feat_selector, estimator=None, data=data, metrics=[\"MAE\", \"RMSE\", \"R2\"])\n",
    "print(res1)"
   ]
  },
  {
   "cell_type": "markdown",
   "metadata": {
    "pycharm": {
     "name": "#%% md\n"
    }
   },
   "source": [
    "### 6.2 But I want to use different model to evaluate final dataset"
   ]
  },
  {
   "cell_type": "code",
   "execution_count": 20,
   "metadata": {
    "pycharm": {
     "name": "#%%\n"
    }
   },
   "outputs": [
    {
     "name": "stdout",
     "output_type": "stream",
     "text": [
      "{'MAE_train': 208.1083, 'RMSE_train': 262.578, 'R2_train': 0.0661, 'MAE_test': 212.4406, 'RMSE_test': 262.5603, 'R2_test': 0.0617}\n"
     ]
    }
   ],
   "source": [
    "from mafese import evaluator\n",
    "from sklearn.svm import SVR\n",
    "\n",
    "res2 = evaluator.evaluate(selector=feat_selector, estimator=SVR(), data=data, metrics=[\"MAE\", \"RMSE\", \"R2\"])\n",
    "print(res2)"
   ]
  },
  {
   "cell_type": "code",
   "execution_count": null,
   "metadata": {
    "pycharm": {
     "name": "#%%\n"
    }
   },
   "outputs": [],
   "source": []
  }
 ],
 "metadata": {
  "kernelspec": {
   "display_name": "Python 3 (ipykernel)",
   "language": "python",
   "name": "python3"
  },
  "language_info": {
   "codemirror_mode": {
    "name": "ipython",
    "version": 3
   },
   "file_extension": ".py",
   "mimetype": "text/x-python",
   "name": "python",
   "nbconvert_exporter": "python",
   "pygments_lexer": "ipython3",
   "version": "3.8.5"
  }
 },
 "nbformat": 4,
 "nbformat_minor": 1
}