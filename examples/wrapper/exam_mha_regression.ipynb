{
 "cells": [
  {
   "cell_type": "code",
   "execution_count": 1,
   "metadata": {
    "pycharm": {
     "name": "#%%\n"
    }
   },
   "outputs": [],
   "source": [
    "from mafese import get_dataset\n",
    "from mafese.wrapper.mha import MhaSelector"
   ]
  },
  {
   "cell_type": "code",
   "execution_count": 3,
   "metadata": {},
   "outputs": [
    {
     "name": "stdout",
     "output_type": "stream",
     "text": [
      "MAFESE currently does not have 'gauss-100-10' data in its database....\n",
      "Enter 1 to see the available datasets: 1\n",
      "+ For classification problem. We support datasets:\n",
      "\t1: Arrhythmia\n",
      "\t2: BreastCancer\n",
      "\t3: BreastEW\n",
      "\t4: CongressEW\n",
      "\t5: Digits\n",
      "\t6: Exactly\n",
      "\t7: Exactly2\n",
      "\t8: Glass\n",
      "\t9: HeartEW\n",
      "\t10: Hill-valley\n",
      "\t11: Horse\n",
      "\t12: Ionosphere\n",
      "\t13: Iris\n",
      "\t14: KrVsKpEW\n",
      "\t15: Lymphography\n",
      "\t16: M-of-n\n",
      "\t17: Madelon\n",
      "\t18: Monk1\n",
      "\t19: Monk2\n",
      "\t20: Monk3\n",
      "\t21: PenglungEW\n",
      "\t22: Sonar\n",
      "\t23: Soybean-small\n",
      "\t24: SpectEW\n",
      "\t25: Tic-tac-toe\n",
      "\t26: Vote\n",
      "\t27: Vowel\n",
      "\t28: WaveformEW\n",
      "\t29: Wine\n",
      "\t30: Zoo\n",
      "+ For regression problem. We support datasets:\n",
      "\t1: gauss-100-20\n",
      "\t2: gauss-50-12\n",
      "\t3: gauss-75-17\n"
     ]
    }
   ],
   "source": [
    "data = get_dataset(\"gauss-100-10\")"
   ]
  },
  {
   "cell_type": "code",
   "execution_count": 4,
   "metadata": {},
   "outputs": [
    {
     "name": "stdout",
     "output_type": "stream",
     "text": [
      "Requested REGRESSION dataset: gauss-100-20 found and loaded!\n"
     ]
    }
   ],
   "source": [
    "data = get_dataset(\"gauss-100-20\")\n",
    "data.split_train_test(test_size=0.2)"
   ]
  },
  {
   "cell_type": "markdown",
   "metadata": {},
   "source": [
    "# To get informations, do the same as example in classification.\n",
    "\n",
    "Now we go straight into how to use MhaSelector for Regression problem\n"
   ]
  },
  {
   "cell_type": "markdown",
   "source": [
    "### 2. Define an instance of MhaSelector"
   ],
   "metadata": {
    "collapsed": false,
    "pycharm": {
     "name": "#%% md\n"
    }
   }
  },
  {
   "cell_type": "code",
   "execution_count": null,
   "outputs": [],
   "source": [
    "feat_selector = MhaSelector(problem=\"regression\", estimator=\"knn\", \n",
    "                            optimizer=\"BaseGA\", optimizer_paras=None,\n",
    "                            transfer_func=\"vstf_01\", obj_name=\"MSE\")"
   ],
   "metadata": {
    "collapsed": false,
    "pycharm": {
     "name": "#%%\n"
    }
   }
  },
  {
   "cell_type": "markdown",
   "source": [
    "### 3. Train with dataset"
   ],
   "metadata": {
    "collapsed": false,
    "pycharm": {
     "name": "#%% md\n"
    }
   }
  },
  {
   "cell_type": "code",
   "execution_count": null,
   "outputs": [],
   "source": [
    "feat_selector.fit(data.X_train, data.y_train)"
   ],
   "metadata": {
    "collapsed": false,
    "pycharm": {
     "name": "#%%\n"
    }
   }
  },
  {
   "cell_type": "markdown",
   "source": [
    "### 4. Transform the dataset"
   ],
   "metadata": {
    "collapsed": false,
    "pycharm": {
     "name": "#%% md\n"
    }
   }
  },
  {
   "cell_type": "code",
   "execution_count": null,
   "outputs": [],
   "source": [
    "X_selected = feat_selector.transform(data.X_test)\n",
    "print(f\"Original Dataset: {data.X_train.shape}\")        \n",
    "print(f\"Selected dataset: {X_selected.shape}\")   "
   ],
   "metadata": {
    "collapsed": false,
    "pycharm": {
     "name": "#%%\n"
    }
   }
  },
  {
   "cell_type": "markdown",
   "source": [
    "### 5. Get some informations"
   ],
   "metadata": {
    "collapsed": false,
    "pycharm": {
     "name": "#%% md\n"
    }
   }
  },
  {
   "cell_type": "code",
   "execution_count": null,
   "outputs": [],
   "source": [
    "print(feat_selector.get_best_obj_and_fit())            \n",
    "print(feat_selector.selected_feature_masks)\n",
    "print(feat_selector.selected_feature_solution)\n",
    "print(feat_selector.selected_feature_indexes)"
   ],
   "metadata": {
    "collapsed": false,
    "pycharm": {
     "name": "#%%\n"
    }
   }
  },
  {
   "cell_type": "markdown",
   "source": [
    "### 6. Retrain and evaluate our final dataset"
   ],
   "metadata": {
    "collapsed": false,
    "pycharm": {
     "name": "#%% md\n"
    }
   }
  },
  {
   "cell_type": "markdown",
   "source": [
    "### 6.1 Use the same model as feature selector to evaluate final dataset."
   ],
   "metadata": {
    "collapsed": false,
    "pycharm": {
     "name": "#%% md\n"
    }
   }
  },
  {
   "cell_type": "code",
   "execution_count": null,
   "outputs": [],
   "source": [
    "from mafese import evaluator\n",
    "\n",
    "res1 = evaluator.evaluate(selector=feat_selector, estimator=None, data=data, metrics=[\"MAE\", \"RMSE\", \"R2\"])\n",
    "print(res1)"
   ],
   "metadata": {
    "collapsed": false,
    "pycharm": {
     "name": "#%%\n"
    }
   }
  },
  {
   "cell_type": "markdown",
   "source": [
    "### 6.2 But I want to use different model to evaluate final dataset"
   ],
   "metadata": {
    "collapsed": false,
    "pycharm": {
     "name": "#%% md\n"
    }
   }
  },
  {
   "cell_type": "code",
   "execution_count": null,
   "outputs": [],
   "source": [
    "from mafese import evaluator\n",
    "from sklearn.svm import SVR\n",
    "\n",
    "res2 = evaluator.evaluate(selector=feat_selector, estimator=SVR(), data=data, metrics=[\"MAE\", \"RMSE\", \"R2\"])\n",
    "print(res2)"
   ],
   "metadata": {
    "collapsed": false,
    "pycharm": {
     "name": "#%%\n"
    }
   }
  },
  {
   "cell_type": "code",
   "execution_count": null,
   "outputs": [],
   "source": [],
   "metadata": {
    "collapsed": false,
    "pycharm": {
     "name": "#%%\n"
    }
   }
  },
  {
   "cell_type": "code",
   "execution_count": 5,
   "metadata": {},
   "outputs": [],
   "source": [
    "feat_selector = MhaSelector(problem=\"regression\", estimator=\"knn\", \n",
    "                            optimizer=\"BaseGA\", optimizer_paras=None,\n",
    "                            transfer_func=\"vstf_01\", obj_name=\"MSE\")"
   ]
  },
  {
   "cell_type": "markdown",
   "metadata": {},
   "source": [
    "### 3. Train with dataset"
   ]
  },
  {
   "cell_type": "code",
   "execution_count": 6,
   "metadata": {},
   "outputs": [
    {
     "name": "stderr",
     "output_type": "stream",
     "text": [
      "2023/05/30 05:17:37 PM, INFO, mealpy.evolutionary_based.GA.BaseGA: Solving 2-objective optimization problem with weights: [1. 0.].\n",
      "2023/05/30 05:17:38 PM, INFO, mealpy.evolutionary_based.GA.BaseGA: >Problem: P, Epoch: 1, Current best: 41899.816497422726, Global best: 41899.816497422726, Runtime: 0.17160 seconds\n",
      "2023/05/30 05:17:38 PM, INFO, mealpy.evolutionary_based.GA.BaseGA: >Problem: P, Epoch: 2, Current best: 43015.22907528632, Global best: 41899.816497422726, Runtime: 0.15405 seconds\n",
      "2023/05/30 05:17:38 PM, INFO, mealpy.evolutionary_based.GA.BaseGA: >Problem: P, Epoch: 3, Current best: 44340.687480953835, Global best: 41899.816497422726, Runtime: 0.14352 seconds\n",
      "2023/05/30 05:17:38 PM, INFO, mealpy.evolutionary_based.GA.BaseGA: >Problem: P, Epoch: 4, Current best: 41131.26200146035, Global best: 41131.26200146035, Runtime: 0.14487 seconds\n",
      "2023/05/30 05:17:38 PM, INFO, mealpy.evolutionary_based.GA.BaseGA: >Problem: P, Epoch: 5, Current best: 43007.900597752, Global best: 41131.26200146035, Runtime: 0.14846 seconds\n",
      "2023/05/30 05:17:38 PM, INFO, mealpy.evolutionary_based.GA.BaseGA: >Problem: P, Epoch: 6, Current best: 39092.36808741432, Global best: 39092.36808741432, Runtime: 0.14782 seconds\n",
      "2023/05/30 05:17:38 PM, INFO, mealpy.evolutionary_based.GA.BaseGA: >Problem: P, Epoch: 7, Current best: 39601.268530738096, Global best: 39092.36808741432, Runtime: 0.17127 seconds\n",
      "2023/05/30 05:17:39 PM, INFO, mealpy.evolutionary_based.GA.BaseGA: >Problem: P, Epoch: 8, Current best: 39760.78021042753, Global best: 39092.36808741432, Runtime: 0.15253 seconds\n",
      "2023/05/30 05:17:39 PM, INFO, mealpy.evolutionary_based.GA.BaseGA: >Problem: P, Epoch: 9, Current best: 39114.190414268596, Global best: 39092.36808741432, Runtime: 0.14395 seconds\n",
      "2023/05/30 05:17:39 PM, INFO, mealpy.evolutionary_based.GA.BaseGA: >Problem: P, Epoch: 10, Current best: 34785.18446, Global best: 34785.18446, Runtime: 0.14684 seconds\n",
      "2023/05/30 05:17:39 PM, INFO, mealpy.evolutionary_based.GA.BaseGA: >Problem: P, Epoch: 11, Current best: 33023.695596575846, Global best: 33023.695596575846, Runtime: 0.15621 seconds\n",
      "2023/05/30 05:17:39 PM, INFO, mealpy.evolutionary_based.GA.BaseGA: >Problem: P, Epoch: 12, Current best: 39654.561508690174, Global best: 33023.695596575846, Runtime: 0.16101 seconds\n",
      "2023/05/30 05:17:39 PM, INFO, mealpy.evolutionary_based.GA.BaseGA: >Problem: P, Epoch: 13, Current best: 37088.95839, Global best: 33023.695596575846, Runtime: 0.15012 seconds\n",
      "2023/05/30 05:17:40 PM, INFO, mealpy.evolutionary_based.GA.BaseGA: >Problem: P, Epoch: 14, Current best: 36564.97649, Global best: 33023.695596575846, Runtime: 0.14435 seconds\n",
      "2023/05/30 05:17:40 PM, INFO, mealpy.evolutionary_based.GA.BaseGA: >Problem: P, Epoch: 15, Current best: 30896.78426516578, Global best: 30896.78426516578, Runtime: 0.17594 seconds\n",
      "2023/05/30 05:17:40 PM, INFO, mealpy.evolutionary_based.GA.BaseGA: >Problem: P, Epoch: 16, Current best: 28014.72608584172, Global best: 28014.72608584172, Runtime: 0.15603 seconds\n",
      "2023/05/30 05:17:40 PM, INFO, mealpy.evolutionary_based.GA.BaseGA: >Problem: P, Epoch: 17, Current best: 34862.40213646774, Global best: 28014.72608584172, Runtime: 0.14454 seconds\n",
      "2023/05/30 05:17:40 PM, INFO, mealpy.evolutionary_based.GA.BaseGA: >Problem: P, Epoch: 18, Current best: 35577.91748113648, Global best: 28014.72608584172, Runtime: 0.14142 seconds\n",
      "2023/05/30 05:17:40 PM, INFO, mealpy.evolutionary_based.GA.BaseGA: >Problem: P, Epoch: 19, Current best: 36931.16226557679, Global best: 28014.72608584172, Runtime: 0.16485 seconds\n",
      "2023/05/30 05:17:40 PM, INFO, mealpy.evolutionary_based.GA.BaseGA: >Problem: P, Epoch: 20, Current best: 34553.2603791452, Global best: 28014.72608584172, Runtime: 0.15527 seconds\n",
      "2023/05/30 05:17:41 PM, INFO, mealpy.evolutionary_based.GA.BaseGA: >Problem: P, Epoch: 21, Current best: 30931.008699313767, Global best: 28014.72608584172, Runtime: 0.14859 seconds\n",
      "2023/05/30 05:17:41 PM, INFO, mealpy.evolutionary_based.GA.BaseGA: >Problem: P, Epoch: 22, Current best: 35183.79393187797, Global best: 28014.72608584172, Runtime: 0.17954 seconds\n",
      "2023/05/30 05:17:41 PM, INFO, mealpy.evolutionary_based.GA.BaseGA: >Problem: P, Epoch: 23, Current best: 35894.72396230294, Global best: 28014.72608584172, Runtime: 0.15356 seconds\n",
      "2023/05/30 05:17:41 PM, INFO, mealpy.evolutionary_based.GA.BaseGA: >Problem: P, Epoch: 24, Current best: 37634.3006909571, Global best: 28014.72608584172, Runtime: 0.13676 seconds\n",
      "2023/05/30 05:17:41 PM, INFO, mealpy.evolutionary_based.GA.BaseGA: >Problem: P, Epoch: 25, Current best: 32641.589005176742, Global best: 28014.72608584172, Runtime: 0.16032 seconds\n",
      "2023/05/30 05:17:41 PM, INFO, mealpy.evolutionary_based.GA.BaseGA: >Problem: P, Epoch: 26, Current best: 34610.7400555748, Global best: 28014.72608584172, Runtime: 0.18124 seconds\n",
      "2023/05/30 05:17:42 PM, INFO, mealpy.evolutionary_based.GA.BaseGA: >Problem: P, Epoch: 27, Current best: 39249.56034652488, Global best: 28014.72608584172, Runtime: 0.13824 seconds\n",
      "2023/05/30 05:17:42 PM, INFO, mealpy.evolutionary_based.GA.BaseGA: >Problem: P, Epoch: 28, Current best: 34094.519387229884, Global best: 28014.72608584172, Runtime: 0.14724 seconds\n",
      "2023/05/30 05:17:42 PM, INFO, mealpy.evolutionary_based.GA.BaseGA: >Problem: P, Epoch: 29, Current best: 36298.223481499015, Global best: 28014.72608584172, Runtime: 0.15834 seconds\n",
      "2023/05/30 05:17:42 PM, INFO, mealpy.evolutionary_based.GA.BaseGA: >Problem: P, Epoch: 30, Current best: 36614.73702164751, Global best: 28014.72608584172, Runtime: 0.15474 seconds\n",
      "2023/05/30 05:17:42 PM, INFO, mealpy.evolutionary_based.GA.BaseGA: >Problem: P, Epoch: 31, Current best: 34372.71931077868, Global best: 28014.72608584172, Runtime: 0.14968 seconds\n",
      "2023/05/30 05:17:42 PM, INFO, mealpy.evolutionary_based.GA.BaseGA: >Problem: P, Epoch: 32, Current best: 37422.336613524756, Global best: 28014.72608584172, Runtime: 0.16445 seconds\n",
      "2023/05/30 05:17:42 PM, INFO, mealpy.evolutionary_based.GA.BaseGA: >Problem: P, Epoch: 33, Current best: 40070.2509595701, Global best: 28014.72608584172, Runtime: 0.12265 seconds\n",
      "2023/05/30 05:17:43 PM, INFO, mealpy.evolutionary_based.GA.BaseGA: >Problem: P, Epoch: 34, Current best: 33796.720157636664, Global best: 28014.72608584172, Runtime: 0.13595 seconds\n",
      "2023/05/30 05:17:43 PM, INFO, mealpy.evolutionary_based.GA.BaseGA: >Problem: P, Epoch: 35, Current best: 34801.619341547026, Global best: 28014.72608584172, Runtime: 0.14341 seconds\n",
      "2023/05/30 05:17:43 PM, INFO, mealpy.evolutionary_based.GA.BaseGA: >Problem: P, Epoch: 36, Current best: 32121.99079827558, Global best: 28014.72608584172, Runtime: 0.15102 seconds\n",
      "2023/05/30 05:17:43 PM, INFO, mealpy.evolutionary_based.GA.BaseGA: >Problem: P, Epoch: 37, Current best: 32605.550223509363, Global best: 28014.72608584172, Runtime: 0.13586 seconds\n",
      "2023/05/30 05:17:43 PM, INFO, mealpy.evolutionary_based.GA.BaseGA: >Problem: P, Epoch: 38, Current best: 36958.834073652244, Global best: 28014.72608584172, Runtime: 0.14255 seconds\n",
      "2023/05/30 05:17:43 PM, INFO, mealpy.evolutionary_based.GA.BaseGA: >Problem: P, Epoch: 39, Current best: 38586.3294536265, Global best: 28014.72608584172, Runtime: 0.14751 seconds\n",
      "2023/05/30 05:17:43 PM, INFO, mealpy.evolutionary_based.GA.BaseGA: >Problem: P, Epoch: 40, Current best: 40179.78431238115, Global best: 28014.72608584172, Runtime: 0.14737 seconds\n",
      "2023/05/30 05:17:44 PM, INFO, mealpy.evolutionary_based.GA.BaseGA: >Problem: P, Epoch: 41, Current best: 37501.14293880208, Global best: 28014.72608584172, Runtime: 0.15835 seconds\n",
      "2023/05/30 05:17:44 PM, INFO, mealpy.evolutionary_based.GA.BaseGA: >Problem: P, Epoch: 42, Current best: 40559.48404901764, Global best: 28014.72608584172, Runtime: 0.14712 seconds\n",
      "2023/05/30 05:17:44 PM, INFO, mealpy.evolutionary_based.GA.BaseGA: >Problem: P, Epoch: 43, Current best: 37705.890913287214, Global best: 28014.72608584172, Runtime: 0.15365 seconds\n",
      "2023/05/30 05:17:44 PM, INFO, mealpy.evolutionary_based.GA.BaseGA: >Problem: P, Epoch: 44, Current best: 39920.795561781815, Global best: 28014.72608584172, Runtime: 0.15711 seconds\n",
      "2023/05/30 05:17:44 PM, INFO, mealpy.evolutionary_based.GA.BaseGA: >Problem: P, Epoch: 45, Current best: 38534.31549984519, Global best: 28014.72608584172, Runtime: 0.15382 seconds\n"
     ]
    },
    {
     "name": "stderr",
     "output_type": "stream",
     "text": [
      "2023/05/30 05:17:44 PM, INFO, mealpy.evolutionary_based.GA.BaseGA: >Problem: P, Epoch: 46, Current best: 40491.47120584394, Global best: 28014.72608584172, Runtime: 0.14873 seconds\n",
      "2023/05/30 05:17:45 PM, INFO, mealpy.evolutionary_based.GA.BaseGA: >Problem: P, Epoch: 47, Current best: 40288.5161646309, Global best: 28014.72608584172, Runtime: 0.15614 seconds\n",
      "2023/05/30 05:17:45 PM, INFO, mealpy.evolutionary_based.GA.BaseGA: >Problem: P, Epoch: 48, Current best: 43233.82161158746, Global best: 28014.72608584172, Runtime: 0.15311 seconds\n",
      "2023/05/30 05:17:45 PM, INFO, mealpy.evolutionary_based.GA.BaseGA: >Problem: P, Epoch: 49, Current best: 43034.19576274269, Global best: 28014.72608584172, Runtime: 0.14957 seconds\n",
      "2023/05/30 05:17:45 PM, INFO, mealpy.evolutionary_based.GA.BaseGA: >Problem: P, Epoch: 50, Current best: 41330.69176211591, Global best: 28014.72608584172, Runtime: 0.17922 seconds\n",
      "2023/05/30 05:17:45 PM, INFO, mealpy.evolutionary_based.GA.BaseGA: >Problem: P, Epoch: 51, Current best: 44568.59022530067, Global best: 28014.72608584172, Runtime: 0.16390 seconds\n",
      "2023/05/30 05:17:45 PM, INFO, mealpy.evolutionary_based.GA.BaseGA: >Problem: P, Epoch: 52, Current best: 40690.50865208003, Global best: 28014.72608584172, Runtime: 0.13716 seconds\n",
      "2023/05/30 05:17:46 PM, INFO, mealpy.evolutionary_based.GA.BaseGA: >Problem: P, Epoch: 53, Current best: 37053.897905255566, Global best: 28014.72608584172, Runtime: 0.17993 seconds\n",
      "2023/05/30 05:17:46 PM, INFO, mealpy.evolutionary_based.GA.BaseGA: >Problem: P, Epoch: 54, Current best: 37224.91815406621, Global best: 28014.72608584172, Runtime: 0.14853 seconds\n",
      "2023/05/30 05:17:46 PM, INFO, mealpy.evolutionary_based.GA.BaseGA: >Problem: P, Epoch: 55, Current best: 36519.79495943047, Global best: 28014.72608584172, Runtime: 0.17896 seconds\n",
      "2023/05/30 05:17:46 PM, INFO, mealpy.evolutionary_based.GA.BaseGA: >Problem: P, Epoch: 56, Current best: 35248.04842708971, Global best: 28014.72608584172, Runtime: 0.16132 seconds\n",
      "2023/05/30 05:17:46 PM, INFO, mealpy.evolutionary_based.GA.BaseGA: >Problem: P, Epoch: 57, Current best: 38272.896536608234, Global best: 28014.72608584172, Runtime: 0.12925 seconds\n",
      "2023/05/30 05:17:46 PM, INFO, mealpy.evolutionary_based.GA.BaseGA: >Problem: P, Epoch: 58, Current best: 38602.049364997336, Global best: 28014.72608584172, Runtime: 0.15044 seconds\n",
      "2023/05/30 05:17:46 PM, INFO, mealpy.evolutionary_based.GA.BaseGA: >Problem: P, Epoch: 59, Current best: 37766.5027241008, Global best: 28014.72608584172, Runtime: 0.17178 seconds\n",
      "2023/05/30 05:17:47 PM, INFO, mealpy.evolutionary_based.GA.BaseGA: >Problem: P, Epoch: 60, Current best: 34016.064710055136, Global best: 28014.72608584172, Runtime: 0.16927 seconds\n",
      "2023/05/30 05:17:47 PM, INFO, mealpy.evolutionary_based.GA.BaseGA: >Problem: P, Epoch: 61, Current best: 38640.702672796404, Global best: 28014.72608584172, Runtime: 0.16266 seconds\n",
      "2023/05/30 05:17:47 PM, INFO, mealpy.evolutionary_based.GA.BaseGA: >Problem: P, Epoch: 62, Current best: 38454.95582554979, Global best: 28014.72608584172, Runtime: 0.15417 seconds\n",
      "2023/05/30 05:17:47 PM, INFO, mealpy.evolutionary_based.GA.BaseGA: >Problem: P, Epoch: 63, Current best: 36847.99720118644, Global best: 28014.72608584172, Runtime: 0.17754 seconds\n",
      "2023/05/30 05:17:47 PM, INFO, mealpy.evolutionary_based.GA.BaseGA: >Problem: P, Epoch: 64, Current best: 39455.916558845216, Global best: 28014.72608584172, Runtime: 0.16228 seconds\n",
      "2023/05/30 05:17:47 PM, INFO, mealpy.evolutionary_based.GA.BaseGA: >Problem: P, Epoch: 65, Current best: 35876.78735103798, Global best: 28014.72608584172, Runtime: 0.16043 seconds\n",
      "2023/05/30 05:17:48 PM, INFO, mealpy.evolutionary_based.GA.BaseGA: >Problem: P, Epoch: 66, Current best: 34239.80010371312, Global best: 28014.72608584172, Runtime: 0.16209 seconds\n",
      "2023/05/30 05:17:48 PM, INFO, mealpy.evolutionary_based.GA.BaseGA: >Problem: P, Epoch: 67, Current best: 31920.58556, Global best: 28014.72608584172, Runtime: 0.16455 seconds\n",
      "2023/05/30 05:17:48 PM, INFO, mealpy.evolutionary_based.GA.BaseGA: >Problem: P, Epoch: 68, Current best: 41394.171421910054, Global best: 28014.72608584172, Runtime: 0.14221 seconds\n",
      "2023/05/30 05:17:48 PM, INFO, mealpy.evolutionary_based.GA.BaseGA: >Problem: P, Epoch: 69, Current best: 37538.42666777694, Global best: 28014.72608584172, Runtime: 0.15652 seconds\n",
      "2023/05/30 05:17:48 PM, INFO, mealpy.evolutionary_based.GA.BaseGA: >Problem: P, Epoch: 70, Current best: 36403.51741332575, Global best: 28014.72608584172, Runtime: 0.16133 seconds\n",
      "2023/05/30 05:17:48 PM, INFO, mealpy.evolutionary_based.GA.BaseGA: >Problem: P, Epoch: 71, Current best: 36768.963030000006, Global best: 28014.72608584172, Runtime: 0.15751 seconds\n",
      "2023/05/30 05:17:49 PM, INFO, mealpy.evolutionary_based.GA.BaseGA: >Problem: P, Epoch: 72, Current best: 37267.6935134814, Global best: 28014.72608584172, Runtime: 0.16500 seconds\n",
      "2023/05/30 05:17:49 PM, INFO, mealpy.evolutionary_based.GA.BaseGA: >Problem: P, Epoch: 73, Current best: 40916.266161385596, Global best: 28014.72608584172, Runtime: 0.15323 seconds\n",
      "2023/05/30 05:17:49 PM, INFO, mealpy.evolutionary_based.GA.BaseGA: >Problem: P, Epoch: 74, Current best: 38993.428375390584, Global best: 28014.72608584172, Runtime: 0.15872 seconds\n",
      "2023/05/30 05:17:49 PM, INFO, mealpy.evolutionary_based.GA.BaseGA: >Problem: P, Epoch: 75, Current best: 36198.29804434791, Global best: 28014.72608584172, Runtime: 0.16996 seconds\n",
      "2023/05/30 05:17:49 PM, INFO, mealpy.evolutionary_based.GA.BaseGA: >Problem: P, Epoch: 76, Current best: 39906.78464831638, Global best: 28014.72608584172, Runtime: 0.16196 seconds\n",
      "2023/05/30 05:17:49 PM, INFO, mealpy.evolutionary_based.GA.BaseGA: >Problem: P, Epoch: 77, Current best: 38170.92387921172, Global best: 28014.72608584172, Runtime: 0.14784 seconds\n",
      "2023/05/30 05:17:50 PM, INFO, mealpy.evolutionary_based.GA.BaseGA: >Problem: P, Epoch: 78, Current best: 38637.08737261641, Global best: 28014.72608584172, Runtime: 0.14935 seconds\n",
      "2023/05/30 05:17:50 PM, INFO, mealpy.evolutionary_based.GA.BaseGA: >Problem: P, Epoch: 79, Current best: 39570.46824083447, Global best: 28014.72608584172, Runtime: 0.13934 seconds\n",
      "2023/05/30 05:17:50 PM, INFO, mealpy.evolutionary_based.GA.BaseGA: >Problem: P, Epoch: 80, Current best: 40370.13907916171, Global best: 28014.72608584172, Runtime: 0.13966 seconds\n",
      "2023/05/30 05:17:50 PM, INFO, mealpy.evolutionary_based.GA.BaseGA: >Problem: P, Epoch: 81, Current best: 42232.04438661098, Global best: 28014.72608584172, Runtime: 0.16138 seconds\n",
      "2023/05/30 05:17:50 PM, INFO, mealpy.evolutionary_based.GA.BaseGA: >Problem: P, Epoch: 82, Current best: 39860.00680360038, Global best: 28014.72608584172, Runtime: 0.16097 seconds\n",
      "2023/05/30 05:17:50 PM, INFO, mealpy.evolutionary_based.GA.BaseGA: >Problem: P, Epoch: 83, Current best: 39044.168010419395, Global best: 28014.72608584172, Runtime: 0.15935 seconds\n",
      "2023/05/30 05:17:50 PM, INFO, mealpy.evolutionary_based.GA.BaseGA: >Problem: P, Epoch: 84, Current best: 33923.66203989924, Global best: 28014.72608584172, Runtime: 0.14757 seconds\n",
      "2023/05/30 05:17:51 PM, INFO, mealpy.evolutionary_based.GA.BaseGA: >Problem: P, Epoch: 85, Current best: 36396.516818123346, Global best: 28014.72608584172, Runtime: 0.15655 seconds\n",
      "2023/05/30 05:17:51 PM, INFO, mealpy.evolutionary_based.GA.BaseGA: >Problem: P, Epoch: 86, Current best: 39956.31025, Global best: 28014.72608584172, Runtime: 0.14637 seconds\n",
      "2023/05/30 05:17:51 PM, INFO, mealpy.evolutionary_based.GA.BaseGA: >Problem: P, Epoch: 87, Current best: 35373.77654514055, Global best: 28014.72608584172, Runtime: 0.15085 seconds\n",
      "2023/05/30 05:17:51 PM, INFO, mealpy.evolutionary_based.GA.BaseGA: >Problem: P, Epoch: 88, Current best: 40925.905728940204, Global best: 28014.72608584172, Runtime: 0.15987 seconds\n",
      "2023/05/30 05:17:51 PM, INFO, mealpy.evolutionary_based.GA.BaseGA: >Problem: P, Epoch: 89, Current best: 35382.568695363596, Global best: 28014.72608584172, Runtime: 0.14820 seconds\n",
      "2023/05/30 05:17:51 PM, INFO, mealpy.evolutionary_based.GA.BaseGA: >Problem: P, Epoch: 90, Current best: 37603.68999804971, Global best: 28014.72608584172, Runtime: 0.16452 seconds\n",
      "2023/05/30 05:17:52 PM, INFO, mealpy.evolutionary_based.GA.BaseGA: >Problem: P, Epoch: 91, Current best: 33571.68024938374, Global best: 28014.72608584172, Runtime: 0.14965 seconds\n"
     ]
    },
    {
     "name": "stderr",
     "output_type": "stream",
     "text": [
      "2023/05/30 05:17:52 PM, INFO, mealpy.evolutionary_based.GA.BaseGA: >Problem: P, Epoch: 92, Current best: 36113.722320609035, Global best: 28014.72608584172, Runtime: 0.14516 seconds\n",
      "2023/05/30 05:17:52 PM, INFO, mealpy.evolutionary_based.GA.BaseGA: >Problem: P, Epoch: 93, Current best: 39963.60829411159, Global best: 28014.72608584172, Runtime: 0.15496 seconds\n",
      "2023/05/30 05:17:52 PM, INFO, mealpy.evolutionary_based.GA.BaseGA: >Problem: P, Epoch: 94, Current best: 38033.03226388583, Global best: 28014.72608584172, Runtime: 0.16845 seconds\n",
      "2023/05/30 05:17:52 PM, INFO, mealpy.evolutionary_based.GA.BaseGA: >Problem: P, Epoch: 95, Current best: 40260.983999762044, Global best: 28014.72608584172, Runtime: 0.16630 seconds\n",
      "2023/05/30 05:17:52 PM, INFO, mealpy.evolutionary_based.GA.BaseGA: >Problem: P, Epoch: 96, Current best: 40238.06869313008, Global best: 28014.72608584172, Runtime: 0.20384 seconds\n",
      "2023/05/30 05:17:53 PM, INFO, mealpy.evolutionary_based.GA.BaseGA: >Problem: P, Epoch: 97, Current best: 38941.48568156266, Global best: 28014.72608584172, Runtime: 0.15291 seconds\n",
      "2023/05/30 05:17:53 PM, INFO, mealpy.evolutionary_based.GA.BaseGA: >Problem: P, Epoch: 98, Current best: 34548.77610534808, Global best: 28014.72608584172, Runtime: 0.14708 seconds\n",
      "2023/05/30 05:17:53 PM, INFO, mealpy.evolutionary_based.GA.BaseGA: >Problem: P, Epoch: 99, Current best: 37831.19733327655, Global best: 28014.72608584172, Runtime: 0.15243 seconds\n",
      "2023/05/30 05:17:53 PM, INFO, mealpy.evolutionary_based.GA.BaseGA: >Problem: P, Epoch: 100, Current best: 34733.958470000005, Global best: 28014.72608584172, Runtime: 0.16440 seconds\n"
     ]
    }
   ],
   "source": [
    "feat_selector.fit(data.X_train, data.y_train)"
   ]
  },
  {
   "cell_type": "markdown",
   "metadata": {},
   "source": [
    "### 4. Transform the dataset"
   ]
  },
  {
   "cell_type": "code",
   "execution_count": 7,
   "metadata": {},
   "outputs": [
    {
     "name": "stdout",
     "output_type": "stream",
     "text": [
      "Original Dataset: (800, 100)\n",
      "Selected dataset: (200, 13)\n"
     ]
    }
   ],
   "source": [
    "X_selected = feat_selector.transform(data.X_test)\n",
    "print(f\"Original Dataset: {data.X_train.shape}\")        \n",
    "print(f\"Selected dataset: {X_selected.shape}\")   "
   ]
  },
  {
   "cell_type": "markdown",
   "metadata": {},
   "source": [
    "### 5. Get some informations"
   ]
  },
  {
   "cell_type": "code",
   "execution_count": 8,
   "metadata": {},
   "outputs": [
    {
     "name": "stdout",
     "output_type": "stream",
     "text": [
      "{'obj': 31127.4511, 'fit': 28014.72608584172}\n",
      "[False False  True False False False False False False False False  True\n",
      "  True False False False False  True False  True False False False False\n",
      " False False False False False False False False False False False False\n",
      "  True False  True False False False False False  True False False  True\n",
      " False False False False False False False False False False False False\n",
      "  True False False False False False  True False False False False False\n",
      " False False False  True False False False False False  True False False\n",
      " False False False False False False False False False False False False\n",
      " False False False False]\n",
      "[0 0 1 0 0 0 0 0 0 0 0 1 1 0 0 0 0 1 0 1 0 0 0 0 0 0 0 0 0 0 0 0 0 0 0 0 1\n",
      " 0 1 0 0 0 0 0 1 0 0 1 0 0 0 0 0 0 0 0 0 0 0 0 1 0 0 0 0 0 1 0 0 0 0 0 0 0\n",
      " 0 1 0 0 0 0 0 1 0 0 0 0 0 0 0 0 0 0 0 0 0 0 0 0 0 0]\n",
      "[ 2 11 12 17 19 36 38 44 47 60 66 75 81]\n"
     ]
    }
   ],
   "source": [
    "print(feat_selector.get_best_obj_and_fit())            \n",
    "print(feat_selector.selected_feature_masks)\n",
    "print(feat_selector.selected_feature_solution)\n",
    "print(feat_selector.selected_feature_indexes)"
   ]
  },
  {
   "cell_type": "markdown",
   "metadata": {},
   "source": [
    "### 6. Retrain and evaluate our final dataset"
   ]
  },
  {
   "cell_type": "markdown",
   "metadata": {},
   "source": [
    "### 6.1 Use the same model as feature selector to evaluate final dataset."
   ]
  },
  {
   "cell_type": "code",
   "execution_count": 9,
   "metadata": {},
   "outputs": [
    {
     "name": "stdout",
     "output_type": "stream",
     "text": [
      "{'MAE_train': 151.7423, 'RMSE_train': 192.5666, 'R2_train': 0.4977, 'MAE_test': 177.9037, 'RMSE_test': 225.6698, 'R2_test': 0.3069}\n"
     ]
    }
   ],
   "source": [
    "from mafese import evaluator\n",
    "\n",
    "res1 = evaluator.evaluate(selector=feat_selector, estimator=None, data=data, metrics=[\"MAE\", \"RMSE\", \"R2\"])\n",
    "print(res1)"
   ]
  },
  {
   "cell_type": "markdown",
   "metadata": {},
   "source": [
    "### 6.2 But I want to use different model to evaluate final dataset"
   ]
  },
  {
   "cell_type": "code",
   "execution_count": 12,
   "metadata": {},
   "outputs": [
    {
     "name": "stdout",
     "output_type": "stream",
     "text": [
      "{'MAE_train': 210.6256, 'RMSE_train': 265.4436, 'R2_train': 0.0456, 'MAE_test': 213.0369, 'RMSE_test': 264.0071, 'R2_test': 0.0514}\n"
     ]
    }
   ],
   "source": [
    "from mafese import evaluator\n",
    "from sklearn.svm import SVR\n",
    "\n",
    "res2 = evaluator.evaluate(selector=feat_selector, estimator=SVR(), data=data, metrics=[\"MAE\", \"RMSE\", \"R2\"])\n",
    "print(res2)"
   ]
  },
  {
   "cell_type": "code",
   "execution_count": null,
   "metadata": {},
   "outputs": [],
   "source": []
  }
 ],
 "metadata": {
  "kernelspec": {
   "display_name": "Python 3 (ipykernel)",
   "language": "python",
   "name": "python3"
  },
  "language_info": {
   "codemirror_mode": {
    "name": "ipython",
    "version": 3
   },
   "file_extension": ".py",
   "mimetype": "text/x-python",
   "name": "python",
   "nbconvert_exporter": "python",
   "pygments_lexer": "ipython3",
   "version": "3.8.5"
  }
 },
 "nbformat": 4,
 "nbformat_minor": 1
}