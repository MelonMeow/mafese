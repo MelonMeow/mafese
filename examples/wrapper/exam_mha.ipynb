{
 "cells": [
  {
   "cell_type": "code",
   "execution_count": 2,
   "metadata": {
    "pycharm": {
     "is_executing": true,
     "name": "#%%\n"
    }
   },
   "outputs": [],
   "source": [
    "from mafese import get_dataset\n",
    "from mafese.wrapper.mha import MhaSelector"
   ]
  },
  {
   "cell_type": "code",
   "execution_count": 3,
   "metadata": {
    "pycharm": {
     "name": "#%%\n"
    }
   },
   "outputs": [
    {
     "name": "stdout",
     "output_type": "stream",
     "text": [
      "Requested dataset: Arrhythmia found and loaded...\n"
     ]
    }
   ],
   "source": [
    "data = get_dataset(\"Arrhythmia\")\n",
    "data.split_train_test(test_size=0.2)"
   ]
  },
  {
   "cell_type": "markdown",
   "metadata": {
    "pycharm": {
     "name": "#%% md\n"
    }
   },
   "source": [
    "## 1. Use MhaSelector class to print out the supported informations"
   ]
  },
  {
   "cell_type": "code",
   "execution_count": 4,
   "metadata": {
    "pycharm": {
     "name": "#%%\n"
    }
   },
   "outputs": [
    {
     "name": "stdout",
     "output_type": "stream",
     "text": [
      "List supported Estimator\n",
      "['knn', 'rf', 'svm']\n"
     ]
    }
   ],
   "source": [
    "print(\"List supported Estimator\")\n",
    "print(MhaSelector.SUPPORTED_ESTIMATORS)"
   ]
  },
  {
   "cell_type": "code",
   "execution_count": 5,
   "metadata": {
    "pycharm": {
     "name": "#%%\n"
    }
   },
   "outputs": [
    {
     "name": "stdout",
     "output_type": "stream",
     "text": [
      "List supported Optimizer\n",
      "['OriginalABC', 'OriginalACOR', 'AugmentedAEO', 'EnhancedAEO', 'ImprovedAEO', 'ModifiedAEO', 'OriginalAEO', 'MGTO', 'OriginalAGTO', 'BaseALO', 'OriginalALO', 'OriginalAO', 'OriginalAOA', 'IARO', 'LARO', 'OriginalARO', 'OriginalASO', 'OriginalAVOA', 'OriginalArchOA', 'AdaptiveBA', 'ModifiedBA', 'OriginalBA', 'BaseBBO', 'OriginalBBO', 'OriginalBBOA', 'OriginalBES', 'ABFO', 'OriginalBFO', 'OriginalBMO', 'BaseBRO', 'OriginalBRO', 'OriginalBSA', 'ImprovedBSO', 'OriginalBSO', 'CleverBookBeesA', 'OriginalBeesA', 'ProbBeesA', 'OriginalCA', 'OriginalCDO', 'OriginalCEM', 'OriginalCGO', 'BaseCHIO', 'OriginalCHIO', 'OriginalCOA', 'OCRO', 'OriginalCRO', 'OriginalCSA', 'OriginalCSO', 'OriginalCircleSA', 'OriginalCoatiOA', 'BaseDE', 'JADE', 'L_SHADE', 'SADE', 'SAP_DE', 'SHADE', 'DevDMOA', 'OriginalDMOA', 'OriginalDO', 'BaseEFO', 'OriginalEFO', 'OriginalEHO', 'AdaptiveEO', 'ModifiedEO', 'OriginalEO', 'OriginalEOA', 'LevyEP', 'OriginalEP', 'CMA_ES', 'LevyES', 'OriginalES', 'Simple_CMA_ES', 'OriginalESOA', 'OriginalEVO', 'OriginalFA', 'BaseFBIO', 'OriginalFBIO', 'OriginalFFA', 'OriginalFFO', 'OriginalFLA', 'BaseFOA', 'OriginalFOA', 'WhaleFOA', 'OriginalFOX', 'OriginalFPA', 'BaseGA', 'EliteMultiGA', 'EliteSingleGA', 'MultiGA', 'SingleGA', 'OriginalGBO', 'BaseGCO', 'OriginalGCO', 'OriginalGJO', 'OriginalGOA', 'BaseGSKA', 'OriginalGSKA', 'Matlab101GTO', 'Matlab102GTO', 'OriginalGTO', 'GWO_WOA', 'OriginalGWO', 'RW_GWO', 'OriginalHBA', 'OriginalHBO', 'OriginalHC', 'SwarmHC', 'OriginalHCO', 'OriginalHGS', 'OriginalHGSO', 'OriginalHHO', 'BaseHS', 'OriginalHS', 'OriginalICA', 'OriginalINFO', 'OriginalIWO', 'BaseJA', 'LevyJA', 'OriginalJA', 'BaseLCO', 'ImprovedLCO', 'OriginalLCO', 'OriginalMA', 'BaseMFO', 'OriginalMFO', 'OriginalMGO', 'OriginalMPA', 'OriginalMRFO', 'WMQIMRFO', 'OriginalMSA', 'BaseMVO', 'OriginalMVO', 'OriginalNGO', 'ImprovedNMRA', 'OriginalNMRA', 'OriginalNRO', 'OriginalOOA', 'OriginalPFA', 'OriginalPOA', 'CL_PSO', 'C_PSO', 'HPSO_TVAC', 'OriginalPSO', 'PPSO', 'OriginalPSS', 'BaseQSA', 'ImprovedQSA', 'LevyQSA', 'OppoQSA', 'OriginalQSA', 'OriginalRIME', 'OriginalRUN', 'OriginalSA', 'BaseSARO', 'OriginalSARO', 'BaseSBO', 'OriginalSBO', 'BaseSCA', 'OriginalSCA', 'QleSCA', 'OriginalSCSO', 'ImprovedSFO', 'OriginalSFO', 'OriginalSHIO', 'OriginalSHO', 'ImprovedSLO', 'ModifiedSLO', 'OriginalSLO', 'BaseSMA', 'OriginalSMA', 'DevSOA', 'OriginalSOA', 'OriginalSOS', 'DevSPBO', 'OriginalSPBO', 'OriginalSRSR', 'BaseSSA', 'OriginalSSA', 'OriginalSSDO', 'OriginalSSO', 'OriginalSSpiderA', 'OriginalSSpiderO', 'OriginalSTO', 'OriginalSeaHO', 'OriginalServalOA', 'OriginalTDO', 'BaseTLO', 'ImprovedTLO', 'OriginalTLO', 'OriginalTOA', 'OriginalTPO', 'OriginalTSA', 'OriginalTSO', 'EnhancedTWO', 'LevyTWO', 'OppoTWO', 'OriginalTWO', 'BaseVCS', 'OriginalVCS', 'OriginalWCA', 'OriginalWDO', 'OriginalWHO', 'HI_WOA', 'OriginalWOA', 'OriginalWaOA', 'OriginalWarSO', 'OriginalZOA']\n"
     ]
    }
   ],
   "source": [
    "print(\"List supported Optimizer\")\n",
    "print(MhaSelector.SUPPORTED_OPTIMIZERS)"
   ]
  },
  {
   "cell_type": "code",
   "execution_count": 6,
   "metadata": {
    "pycharm": {
     "name": "#%%\n"
    }
   },
   "outputs": [
    {
     "name": "stdout",
     "output_type": "stream",
     "text": [
      "List supported transfer functions\n",
      "['vstf_01', 'vstf_02', 'vstf_03', 'vstf_04', 'sstf_01', 'sstf_02', 'sstf_03', 'sstf_04', 'rtf']\n"
     ]
    }
   ],
   "source": [
    "print(\"List supported transfer functions\")\n",
    "print(MhaSelector.SUPPORTED_TRANSFER_FUNCS)"
   ]
  },
  {
   "cell_type": "code",
   "execution_count": 7,
   "metadata": {
    "pycharm": {
     "name": "#%%\n"
    }
   },
   "outputs": [
    {
     "name": "stdout",
     "output_type": "stream",
     "text": [
      "List supported fitness metrics for regression problem\n",
      "{'MAE': 'min', 'MSE': 'min', 'RMSE': 'min', 'MRE': 'min', 'MAPE': 'min', 'MASE': 'min', 'NSE': 'max', 'NNSE': 'max', 'WI': 'max', 'PCC': 'max', 'R2s': 'max', 'R2': 'max', 'AR2': 'max', 'CI': 'max', 'KGE': 'max', 'VAF': 'max', 'A10': 'max', 'A20': 'max'}\n"
     ]
    }
   ],
   "source": [
    "print(\"List supported fitness metrics for regression problem\")\n",
    "print(MhaSelector.SUPPORTED_REG_METRICS)"
   ]
  },
  {
   "cell_type": "code",
   "execution_count": 8,
   "metadata": {
    "pycharm": {
     "name": "#%%\n"
    }
   },
   "outputs": [
    {
     "name": "stdout",
     "output_type": "stream",
     "text": [
      "List supported fitness metrics for classification problem\n",
      "{'AS': 'max', 'PS': 'max', 'NPV': 'max', 'RS': 'max', 'F1S': 'max', 'F2S': 'max', 'FBS': 'max', 'SS': 'max', 'MCC': 'max', 'JSI': 'max', 'CKS': 'max', 'ROC-AUC': 'max'}\n"
     ]
    }
   ],
   "source": [
    "print(\"List supported fitness metrics for classification problem\")\n",
    "print(MhaSelector.SUPPORTED_CLS_METRICS)"
   ]
  },
  {
   "cell_type": "markdown",
   "metadata": {
    "pycharm": {
     "name": "#%%\n"
    }
   },
   "source": [
    "## 2. Define an instance of MhaSelector "
   ]
  },
  {
   "cell_type": "code",
   "execution_count": 10,
   "metadata": {
    "pycharm": {
     "name": "#%%\n"
    }
   },
   "outputs": [],
   "source": [
    "feat_selector = MhaSelector(problem=\"classification\", estimator=\"knn\", \n",
    "                            optimizer=\"BaseGA\", optimizer_paras=None,\n",
    "                            transfer_func=\"vstf_01\", obj_name=\"AS\")"
   ]
  },
  {
   "cell_type": "markdown",
   "metadata": {
    "pycharm": {
     "name": "#%%\n"
    }
   },
   "source": [
    "## 3. Train with dataset"
   ]
  },
  {
   "cell_type": "code",
   "execution_count": 12,
   "metadata": {
    "pycharm": {
     "name": "#%%\n"
    }
   },
   "outputs": [
    {
     "name": "stderr",
     "output_type": "stream",
     "text": [
      "2023/05/29 03:33:46 PM, INFO, mealpy.evolutionary_based.GA.BaseGA: Solving 2-objective optimization problem with weights: [1. 0.].\n",
      "2023/05/29 03:33:47 PM, INFO, mealpy.evolutionary_based.GA.BaseGA: >Problem: P, Epoch: 1, Current best: 0.5984350419075605, Global best: 0.5984350419075605, Runtime: 0.34957 seconds\n",
      "2023/05/29 03:33:47 PM, INFO, mealpy.evolutionary_based.GA.BaseGA: >Problem: P, Epoch: 2, Current best: 0.623927203882299, Global best: 0.623927203882299, Runtime: 0.33958 seconds\n",
      "2023/05/29 03:33:48 PM, INFO, mealpy.evolutionary_based.GA.BaseGA: >Problem: P, Epoch: 3, Current best: 0.6415060380501301, Global best: 0.6415060380501301, Runtime: 0.34449 seconds\n",
      "2023/05/29 03:33:48 PM, INFO, mealpy.evolutionary_based.GA.BaseGA: >Problem: P, Epoch: 4, Current best: 0.6571859056586917, Global best: 0.6571859056586917, Runtime: 0.38531 seconds\n",
      "2023/05/29 03:33:48 PM, INFO, mealpy.evolutionary_based.GA.BaseGA: >Problem: P, Epoch: 5, Current best: 0.6703563342966243, Global best: 0.6703563342966243, Runtime: 0.35448 seconds\n",
      "2023/05/29 03:33:49 PM, INFO, mealpy.evolutionary_based.GA.BaseGA: >Problem: P, Epoch: 6, Current best: 0.6832773776879155, Global best: 0.6832773776879155, Runtime: 0.33241 seconds\n",
      "2023/05/29 03:33:49 PM, INFO, mealpy.evolutionary_based.GA.BaseGA: >Problem: P, Epoch: 7, Current best: 0.681217393399439, Global best: 0.6832773776879155, Runtime: 0.35887 seconds\n",
      "2023/05/29 03:33:50 PM, INFO, mealpy.evolutionary_based.GA.BaseGA: >Problem: P, Epoch: 8, Current best: 0.6987657356795872, Global best: 0.6987657356795872, Runtime: 0.33854 seconds\n",
      "2023/05/29 03:33:50 PM, INFO, mealpy.evolutionary_based.GA.BaseGA: >Problem: P, Epoch: 9, Current best: 0.7001381013840001, Global best: 0.7001381013840001, Runtime: 0.35122 seconds\n",
      "2023/05/29 03:33:50 PM, INFO, mealpy.evolutionary_based.GA.BaseGA: >Problem: P, Epoch: 10, Current best: 0.7078821288026282, Global best: 0.7078821288026282, Runtime: 0.33192 seconds\n",
      "2023/05/29 03:33:51 PM, INFO, mealpy.evolutionary_based.GA.BaseGA: >Problem: P, Epoch: 11, Current best: 0.73466558142914, Global best: 0.73466558142914, Runtime: 0.31997 seconds\n",
      "2023/05/29 03:33:51 PM, INFO, mealpy.evolutionary_based.GA.BaseGA: >Problem: P, Epoch: 12, Current best: 0.7100317248119394, Global best: 0.73466558142914, Runtime: 0.34165 seconds\n",
      "2023/05/29 03:33:51 PM, INFO, mealpy.evolutionary_based.GA.BaseGA: >Problem: P, Epoch: 13, Current best: 0.7114541563060607, Global best: 0.73466558142914, Runtime: 0.33511 seconds\n",
      "2023/05/29 03:33:52 PM, INFO, mealpy.evolutionary_based.GA.BaseGA: >Problem: P, Epoch: 14, Current best: 0.7206305405005607, Global best: 0.73466558142914, Runtime: 0.34169 seconds\n",
      "2023/05/29 03:33:52 PM, INFO, mealpy.evolutionary_based.GA.BaseGA: >Problem: P, Epoch: 15, Current best: 0.736223429120321, Global best: 0.736223429120321, Runtime: 0.34469 seconds\n",
      "2023/05/29 03:33:52 PM, INFO, mealpy.evolutionary_based.GA.BaseGA: >Problem: P, Epoch: 16, Current best: 0.7213699050919109, Global best: 0.736223429120321, Runtime: 0.36176 seconds\n",
      "2023/05/29 03:33:53 PM, INFO, mealpy.evolutionary_based.GA.BaseGA: >Problem: P, Epoch: 17, Current best: 0.7267479775550176, Global best: 0.736223429120321, Runtime: 0.33521 seconds\n",
      "2023/05/29 03:33:53 PM, INFO, mealpy.evolutionary_based.GA.BaseGA: >Problem: P, Epoch: 18, Current best: 0.72112387410318, Global best: 0.736223429120321, Runtime: 0.33783 seconds\n",
      "2023/05/29 03:33:53 PM, INFO, mealpy.evolutionary_based.GA.BaseGA: >Problem: P, Epoch: 19, Current best: 0.7162136105032493, Global best: 0.736223429120321, Runtime: 0.32644 seconds\n",
      "2023/05/29 03:33:54 PM, INFO, mealpy.evolutionary_based.GA.BaseGA: >Problem: P, Epoch: 20, Current best: 0.7226899585443578, Global best: 0.736223429120321, Runtime: 0.33158 seconds\n",
      "2023/05/29 03:33:54 PM, INFO, mealpy.evolutionary_based.GA.BaseGA: >Problem: P, Epoch: 21, Current best: 0.7275116399783397, Global best: 0.736223429120321, Runtime: 0.35834 seconds\n",
      "2023/05/29 03:33:54 PM, INFO, mealpy.evolutionary_based.GA.BaseGA: >Problem: P, Epoch: 22, Current best: 0.7249013495814247, Global best: 0.736223429120321, Runtime: 0.33319 seconds\n",
      "2023/05/29 03:33:55 PM, INFO, mealpy.evolutionary_based.GA.BaseGA: >Problem: P, Epoch: 23, Current best: 0.7173136402866315, Global best: 0.736223429120321, Runtime: 0.34913 seconds\n",
      "2023/05/29 03:33:55 PM, INFO, mealpy.evolutionary_based.GA.BaseGA: >Problem: P, Epoch: 24, Current best: 0.7221857198524965, Global best: 0.736223429120321, Runtime: 0.35070 seconds\n",
      "2023/05/29 03:33:55 PM, INFO, mealpy.evolutionary_based.GA.BaseGA: >Problem: P, Epoch: 25, Current best: 0.728383880076513, Global best: 0.736223429120321, Runtime: 0.38896 seconds\n",
      "2023/05/29 03:33:56 PM, INFO, mealpy.evolutionary_based.GA.BaseGA: >Problem: P, Epoch: 26, Current best: 0.7107575845853358, Global best: 0.736223429120321, Runtime: 0.52150 seconds\n",
      "2023/05/29 03:33:56 PM, INFO, mealpy.evolutionary_based.GA.BaseGA: >Problem: P, Epoch: 27, Current best: 0.7232380601043178, Global best: 0.736223429120321, Runtime: 0.45597 seconds\n",
      "2023/05/29 03:33:57 PM, INFO, mealpy.evolutionary_based.GA.BaseGA: >Problem: P, Epoch: 28, Current best: 0.7181044257681579, Global best: 0.736223429120321, Runtime: 0.38826 seconds\n",
      "2023/05/29 03:33:57 PM, INFO, mealpy.evolutionary_based.GA.BaseGA: >Problem: P, Epoch: 29, Current best: 0.7230317873453684, Global best: 0.736223429120321, Runtime: 0.47528 seconds\n",
      "2023/05/29 03:33:58 PM, INFO, mealpy.evolutionary_based.GA.BaseGA: >Problem: P, Epoch: 30, Current best: 0.725427548148333, Global best: 0.736223429120321, Runtime: 0.40693 seconds\n",
      "2023/05/29 03:33:58 PM, INFO, mealpy.evolutionary_based.GA.BaseGA: >Problem: P, Epoch: 31, Current best: 0.7231803131064773, Global best: 0.736223429120321, Runtime: 0.41431 seconds\n",
      "2023/05/29 03:33:59 PM, INFO, mealpy.evolutionary_based.GA.BaseGA: >Problem: P, Epoch: 32, Current best: 0.7317096169391558, Global best: 0.736223429120321, Runtime: 0.46702 seconds\n",
      "2023/05/29 03:33:59 PM, INFO, mealpy.evolutionary_based.GA.BaseGA: >Problem: P, Epoch: 33, Current best: 0.728625664539254, Global best: 0.736223429120321, Runtime: 0.40317 seconds\n",
      "2023/05/29 03:33:59 PM, INFO, mealpy.evolutionary_based.GA.BaseGA: >Problem: P, Epoch: 34, Current best: 0.7179682482781279, Global best: 0.736223429120321, Runtime: 0.38742 seconds\n",
      "2023/05/29 03:34:00 PM, INFO, mealpy.evolutionary_based.GA.BaseGA: >Problem: P, Epoch: 35, Current best: 0.729017827985793, Global best: 0.736223429120321, Runtime: 0.40340 seconds\n",
      "2023/05/29 03:34:00 PM, INFO, mealpy.evolutionary_based.GA.BaseGA: >Problem: P, Epoch: 36, Current best: 0.7228521394348149, Global best: 0.736223429120321, Runtime: 0.45486 seconds\n",
      "2023/05/29 03:34:01 PM, INFO, mealpy.evolutionary_based.GA.BaseGA: >Problem: P, Epoch: 37, Current best: 0.7357181775244289, Global best: 0.736223429120321, Runtime: 0.38080 seconds\n",
      "2023/05/29 03:34:01 PM, INFO, mealpy.evolutionary_based.GA.BaseGA: >Problem: P, Epoch: 38, Current best: 0.7273039878518415, Global best: 0.736223429120321, Runtime: 0.40488 seconds\n",
      "2023/05/29 03:34:01 PM, INFO, mealpy.evolutionary_based.GA.BaseGA: >Problem: P, Epoch: 39, Current best: 0.72185537761139, Global best: 0.736223429120321, Runtime: 0.38895 seconds\n",
      "2023/05/29 03:34:02 PM, INFO, mealpy.evolutionary_based.GA.BaseGA: >Problem: P, Epoch: 40, Current best: 0.7285487742341458, Global best: 0.736223429120321, Runtime: 0.35206 seconds\n",
      "2023/05/29 03:34:02 PM, INFO, mealpy.evolutionary_based.GA.BaseGA: >Problem: P, Epoch: 41, Current best: 0.7416517396165041, Global best: 0.7416517396165041, Runtime: 0.35603 seconds\n",
      "2023/05/29 03:34:02 PM, INFO, mealpy.evolutionary_based.GA.BaseGA: >Problem: P, Epoch: 42, Current best: 0.7246399581450089, Global best: 0.7416517396165041, Runtime: 0.34916 seconds\n",
      "2023/05/29 03:34:03 PM, INFO, mealpy.evolutionary_based.GA.BaseGA: >Problem: P, Epoch: 43, Current best: 0.7280504396886467, Global best: 0.7416517396165041, Runtime: 0.35428 seconds\n",
      "2023/05/29 03:34:03 PM, INFO, mealpy.evolutionary_based.GA.BaseGA: >Problem: P, Epoch: 44, Current best: 0.7365793307217051, Global best: 0.7416517396165041, Runtime: 0.35055 seconds\n",
      "2023/05/29 03:34:04 PM, INFO, mealpy.evolutionary_based.GA.BaseGA: >Problem: P, Epoch: 45, Current best: 0.7287167083106956, Global best: 0.7416517396165041, Runtime: 0.40609 seconds\n"
     ]
    },
    {
     "name": "stderr",
     "output_type": "stream",
     "text": [
      "2023/05/29 03:34:04 PM, INFO, mealpy.evolutionary_based.GA.BaseGA: >Problem: P, Epoch: 46, Current best: 0.7273514549614821, Global best: 0.7416517396165041, Runtime: 0.40538 seconds\n",
      "2023/05/29 03:34:04 PM, INFO, mealpy.evolutionary_based.GA.BaseGA: >Problem: P, Epoch: 47, Current best: 0.7276416846461164, Global best: 0.7416517396165041, Runtime: 0.38604 seconds\n",
      "2023/05/29 03:34:05 PM, INFO, mealpy.evolutionary_based.GA.BaseGA: >Problem: P, Epoch: 48, Current best: 0.7259785218365242, Global best: 0.7416517396165041, Runtime: 0.34869 seconds\n",
      "2023/05/29 03:34:05 PM, INFO, mealpy.evolutionary_based.GA.BaseGA: >Problem: P, Epoch: 49, Current best: 0.7275075463542615, Global best: 0.7416517396165041, Runtime: 0.38437 seconds\n",
      "2023/05/29 03:34:05 PM, INFO, mealpy.evolutionary_based.GA.BaseGA: >Problem: P, Epoch: 50, Current best: 0.7295996125852553, Global best: 0.7416517396165041, Runtime: 0.37852 seconds\n",
      "2023/05/29 03:34:06 PM, INFO, mealpy.evolutionary_based.GA.BaseGA: >Problem: P, Epoch: 51, Current best: 0.7366268201872131, Global best: 0.7416517396165041, Runtime: 0.35885 seconds\n",
      "2023/05/29 03:34:06 PM, INFO, mealpy.evolutionary_based.GA.BaseGA: >Problem: P, Epoch: 52, Current best: 0.7307325744452366, Global best: 0.7416517396165041, Runtime: 0.34622 seconds\n",
      "2023/05/29 03:34:06 PM, INFO, mealpy.evolutionary_based.GA.BaseGA: >Problem: P, Epoch: 53, Current best: 0.7429149036807843, Global best: 0.7429149036807843, Runtime: 0.35662 seconds\n",
      "2023/05/29 03:34:07 PM, INFO, mealpy.evolutionary_based.GA.BaseGA: >Problem: P, Epoch: 54, Current best: 0.7248377876062896, Global best: 0.7429149036807843, Runtime: 0.33876 seconds\n",
      "2023/05/29 03:34:07 PM, INFO, mealpy.evolutionary_based.GA.BaseGA: >Problem: P, Epoch: 55, Current best: 0.7242145149743778, Global best: 0.7429149036807843, Runtime: 0.36157 seconds\n",
      "2023/05/29 03:34:08 PM, INFO, mealpy.evolutionary_based.GA.BaseGA: >Problem: P, Epoch: 56, Current best: 0.7252980803844864, Global best: 0.7429149036807843, Runtime: 0.35134 seconds\n",
      "2023/05/29 03:34:08 PM, INFO, mealpy.evolutionary_based.GA.BaseGA: >Problem: P, Epoch: 57, Current best: 0.7374887054260861, Global best: 0.7429149036807843, Runtime: 0.35557 seconds\n",
      "2023/05/29 03:34:08 PM, INFO, mealpy.evolutionary_based.GA.BaseGA: >Problem: P, Epoch: 58, Current best: 0.7310229280248053, Global best: 0.7429149036807843, Runtime: 0.37585 seconds\n",
      "2023/05/29 03:34:09 PM, INFO, mealpy.evolutionary_based.GA.BaseGA: >Problem: P, Epoch: 59, Current best: 0.7254881083211888, Global best: 0.7429149036807843, Runtime: 0.33687 seconds\n",
      "2023/05/29 03:34:09 PM, INFO, mealpy.evolutionary_based.GA.BaseGA: >Problem: P, Epoch: 60, Current best: 0.712693052424799, Global best: 0.7429149036807843, Runtime: 0.33684 seconds\n",
      "2023/05/29 03:34:09 PM, INFO, mealpy.evolutionary_based.GA.BaseGA: >Problem: P, Epoch: 61, Current best: 0.7165117327391886, Global best: 0.7429149036807843, Runtime: 0.36459 seconds\n",
      "2023/05/29 03:34:10 PM, INFO, mealpy.evolutionary_based.GA.BaseGA: >Problem: P, Epoch: 62, Current best: 0.7175368432598944, Global best: 0.7429149036807843, Runtime: 0.35067 seconds\n",
      "2023/05/29 03:34:10 PM, INFO, mealpy.evolutionary_based.GA.BaseGA: >Problem: P, Epoch: 63, Current best: 0.7240935357824033, Global best: 0.7429149036807843, Runtime: 0.37696 seconds\n",
      "2023/05/29 03:34:10 PM, INFO, mealpy.evolutionary_based.GA.BaseGA: >Problem: P, Epoch: 64, Current best: 0.7299172195906455, Global best: 0.7429149036807843, Runtime: 0.40274 seconds\n",
      "2023/05/29 03:34:11 PM, INFO, mealpy.evolutionary_based.GA.BaseGA: >Problem: P, Epoch: 65, Current best: 0.7205595187588905, Global best: 0.7429149036807843, Runtime: 0.38248 seconds\n",
      "2023/05/29 03:34:11 PM, INFO, mealpy.evolutionary_based.GA.BaseGA: >Problem: P, Epoch: 66, Current best: 0.730038796065535, Global best: 0.7429149036807843, Runtime: 0.34745 seconds\n",
      "2023/05/29 03:34:12 PM, INFO, mealpy.evolutionary_based.GA.BaseGA: >Problem: P, Epoch: 67, Current best: 0.7186596759298577, Global best: 0.7429149036807843, Runtime: 0.36519 seconds\n",
      "2023/05/29 03:34:12 PM, INFO, mealpy.evolutionary_based.GA.BaseGA: >Problem: P, Epoch: 68, Current best: 0.7204743093569488, Global best: 0.7429149036807843, Runtime: 0.36071 seconds\n",
      "2023/05/29 03:34:12 PM, INFO, mealpy.evolutionary_based.GA.BaseGA: >Problem: P, Epoch: 69, Current best: 0.7275890775627742, Global best: 0.7429149036807843, Runtime: 0.35528 seconds\n",
      "2023/05/29 03:34:13 PM, INFO, mealpy.evolutionary_based.GA.BaseGA: >Problem: P, Epoch: 70, Current best: 0.7213110550355727, Global best: 0.7429149036807843, Runtime: 0.34548 seconds\n",
      "2023/05/29 03:34:13 PM, INFO, mealpy.evolutionary_based.GA.BaseGA: >Problem: P, Epoch: 71, Current best: 0.7238327042684217, Global best: 0.7429149036807843, Runtime: 0.36022 seconds\n",
      "2023/05/29 03:34:13 PM, INFO, mealpy.evolutionary_based.GA.BaseGA: >Problem: P, Epoch: 72, Current best: 0.7288039916959548, Global best: 0.7429149036807843, Runtime: 0.34629 seconds\n",
      "2023/05/29 03:34:14 PM, INFO, mealpy.evolutionary_based.GA.BaseGA: >Problem: P, Epoch: 73, Current best: 0.7311322102450027, Global best: 0.7429149036807843, Runtime: 0.36400 seconds\n",
      "2023/05/29 03:34:14 PM, INFO, mealpy.evolutionary_based.GA.BaseGA: >Problem: P, Epoch: 74, Current best: 0.733845579200033, Global best: 0.7429149036807843, Runtime: 0.34742 seconds\n",
      "2023/05/29 03:34:14 PM, INFO, mealpy.evolutionary_based.GA.BaseGA: >Problem: P, Epoch: 75, Current best: 0.7319021937009361, Global best: 0.7429149036807843, Runtime: 0.35585 seconds\n",
      "2023/05/29 03:34:15 PM, INFO, mealpy.evolutionary_based.GA.BaseGA: >Problem: P, Epoch: 76, Current best: 0.7258777294696519, Global best: 0.7429149036807843, Runtime: 0.34205 seconds\n",
      "2023/05/29 03:34:15 PM, INFO, mealpy.evolutionary_based.GA.BaseGA: >Problem: P, Epoch: 77, Current best: 0.7312899345492955, Global best: 0.7429149036807843, Runtime: 0.37978 seconds\n",
      "2023/05/29 03:34:15 PM, INFO, mealpy.evolutionary_based.GA.BaseGA: >Problem: P, Epoch: 78, Current best: 0.7286854048438733, Global best: 0.7429149036807843, Runtime: 0.34112 seconds\n",
      "2023/05/29 03:34:16 PM, INFO, mealpy.evolutionary_based.GA.BaseGA: >Problem: P, Epoch: 79, Current best: 0.7307593515536595, Global best: 0.7429149036807843, Runtime: 0.35278 seconds\n",
      "2023/05/29 03:34:16 PM, INFO, mealpy.evolutionary_based.GA.BaseGA: >Problem: P, Epoch: 80, Current best: 0.7421386864778109, Global best: 0.7429149036807843, Runtime: 0.34955 seconds\n",
      "2023/05/29 03:34:17 PM, INFO, mealpy.evolutionary_based.GA.BaseGA: >Problem: P, Epoch: 81, Current best: 0.7253729406392212, Global best: 0.7429149036807843, Runtime: 0.33946 seconds\n",
      "2023/05/29 03:34:17 PM, INFO, mealpy.evolutionary_based.GA.BaseGA: >Problem: P, Epoch: 82, Current best: 0.7167131604498603, Global best: 0.7429149036807843, Runtime: 0.36513 seconds\n",
      "2023/05/29 03:34:17 PM, INFO, mealpy.evolutionary_based.GA.BaseGA: >Problem: P, Epoch: 83, Current best: 0.7288136439874318, Global best: 0.7429149036807843, Runtime: 0.37752 seconds\n",
      "2023/05/29 03:34:18 PM, INFO, mealpy.evolutionary_based.GA.BaseGA: >Problem: P, Epoch: 84, Current best: 0.752006535583729, Global best: 0.752006535583729, Runtime: 0.40090 seconds\n",
      "2023/05/29 03:34:18 PM, INFO, mealpy.evolutionary_based.GA.BaseGA: >Problem: P, Epoch: 85, Current best: 0.7391377354823943, Global best: 0.752006535583729, Runtime: 0.41541 seconds\n",
      "2023/05/29 03:34:18 PM, INFO, mealpy.evolutionary_based.GA.BaseGA: >Problem: P, Epoch: 86, Current best: 0.7451593953319972, Global best: 0.752006535583729, Runtime: 0.39151 seconds\n",
      "2023/05/29 03:34:19 PM, INFO, mealpy.evolutionary_based.GA.BaseGA: >Problem: P, Epoch: 87, Current best: 0.729144886590325, Global best: 0.752006535583729, Runtime: 0.36565 seconds\n",
      "2023/05/29 03:34:19 PM, INFO, mealpy.evolutionary_based.GA.BaseGA: >Problem: P, Epoch: 88, Current best: 0.7328811158695996, Global best: 0.752006535583729, Runtime: 0.38612 seconds\n",
      "2023/05/29 03:34:20 PM, INFO, mealpy.evolutionary_based.GA.BaseGA: >Problem: P, Epoch: 89, Current best: 0.7236251259782033, Global best: 0.752006535583729, Runtime: 0.38607 seconds\n",
      "2023/05/29 03:34:20 PM, INFO, mealpy.evolutionary_based.GA.BaseGA: >Problem: P, Epoch: 90, Current best: 0.7124437542505659, Global best: 0.752006535583729, Runtime: 0.40096 seconds\n"
     ]
    },
    {
     "name": "stderr",
     "output_type": "stream",
     "text": [
      "2023/05/29 03:34:20 PM, INFO, mealpy.evolutionary_based.GA.BaseGA: >Problem: P, Epoch: 91, Current best: 0.70812224375374, Global best: 0.752006535583729, Runtime: 0.39708 seconds\n",
      "2023/05/29 03:34:21 PM, INFO, mealpy.evolutionary_based.GA.BaseGA: >Problem: P, Epoch: 92, Current best: 0.7155892852292969, Global best: 0.752006535583729, Runtime: 0.37012 seconds\n",
      "2023/05/29 03:34:21 PM, INFO, mealpy.evolutionary_based.GA.BaseGA: >Problem: P, Epoch: 93, Current best: 0.7212237692005268, Global best: 0.752006535583729, Runtime: 0.37708 seconds\n",
      "2023/05/29 03:34:22 PM, INFO, mealpy.evolutionary_based.GA.BaseGA: >Problem: P, Epoch: 94, Current best: 0.7387567010224374, Global best: 0.752006535583729, Runtime: 0.36492 seconds\n",
      "2023/05/29 03:34:22 PM, INFO, mealpy.evolutionary_based.GA.BaseGA: >Problem: P, Epoch: 95, Current best: 0.7318697006432976, Global best: 0.752006535583729, Runtime: 0.35755 seconds\n",
      "2023/05/29 03:34:22 PM, INFO, mealpy.evolutionary_based.GA.BaseGA: >Problem: P, Epoch: 96, Current best: 0.7270630408641644, Global best: 0.752006535583729, Runtime: 0.39092 seconds\n",
      "2023/05/29 03:34:23 PM, INFO, mealpy.evolutionary_based.GA.BaseGA: >Problem: P, Epoch: 97, Current best: 0.7417284102249413, Global best: 0.752006535583729, Runtime: 0.36967 seconds\n",
      "2023/05/29 03:34:23 PM, INFO, mealpy.evolutionary_based.GA.BaseGA: >Problem: P, Epoch: 98, Current best: 0.7372842497269698, Global best: 0.752006535583729, Runtime: 0.36314 seconds\n",
      "2023/05/29 03:34:23 PM, INFO, mealpy.evolutionary_based.GA.BaseGA: >Problem: P, Epoch: 99, Current best: 0.724657897748371, Global best: 0.752006535583729, Runtime: 0.38069 seconds\n",
      "2023/05/29 03:34:24 PM, INFO, mealpy.evolutionary_based.GA.BaseGA: >Problem: P, Epoch: 100, Current best: 0.7311747465005641, Global best: 0.752006535583729, Runtime: 0.37758 seconds\n"
     ]
    }
   ],
   "source": [
    "feat_selector.fit(data.X_train, data.y_train)"
   ]
  },
  {
   "cell_type": "markdown",
   "metadata": {
    "pycharm": {
     "name": "#%%\n"
    }
   },
   "source": [
    "## 4. Transform the dataset "
   ]
  },
  {
   "cell_type": "code",
   "execution_count": 14,
   "metadata": {
    "pycharm": {
     "name": "#%%\n"
    }
   },
   "outputs": [
    {
     "name": "stdout",
     "output_type": "stream",
     "text": [
      "Original Dataset: (361, 279)\n",
      "Selected dataset: (91, 23)\n"
     ]
    }
   ],
   "source": [
    "X_selected = feat_selector.transform(data.X_test)\n",
    "print(f\"Original Dataset: {data.X_train.shape}\")        \n",
    "print(f\"Selected dataset: {X_selected.shape}\")        "
   ]
  },
  {
   "cell_type": "markdown",
   "metadata": {
    "pycharm": {
     "name": "#%% md\n"
    }
   },
   "source": [
    "## 5. Get some informations"
   ]
  },
  {
   "cell_type": "code",
   "execution_count": 15,
   "metadata": {
    "pycharm": {
     "name": "#%%\n"
    }
   },
   "outputs": [
    {
     "name": "stdout",
     "output_type": "stream",
     "text": [
      "{'obj': 0.84157, 'fit': 0.752006535583729}\n",
      "[False False False False False False False False False False  True False\n",
      " False False  True False False False False False False False False False\n",
      " False False False False False False False False False False False False\n",
      "  True False False False False False False False False False False False\n",
      " False False False False False False False False False False  True False\n",
      " False False False False False False  True False False  True False False\n",
      " False False False False False False False False False False  True False\n",
      " False False False False False  True  True False False False False False\n",
      " False False False False False False  True False  True False False False\n",
      " False False False False False False False False False False False False\n",
      " False False  True False False False False False  True False False False\n",
      " False False False False False False  True False False False False False\n",
      " False False  True False False False False False False False False False\n",
      " False False False False False False False False  True False False False\n",
      " False False False False False False False False False False False False\n",
      " False False False False False False False False False False  True False\n",
      " False False False False False  True False False False False False  True\n",
      " False False False False False False False  True False False False False\n",
      " False False False False False False  True False False False False False\n",
      " False False False False False False False False False False False False\n",
      " False False False False  True False False False False False False False\n",
      " False False False False  True False False False False False False False\n",
      " False False False False False False False False False False False False\n",
      " False False False]\n",
      "[0 0 0 0 0 0 0 0 0 0 1 0 0 0 1 0 0 0 0 0 0 0 0 0 0 0 0 0 0 0 0 0 0 0 0 0 1\n",
      " 0 0 0 0 0 0 0 0 0 0 0 0 0 0 0 0 0 0 0 0 0 1 0 0 0 0 0 0 0 1 0 0 1 0 0 0 0\n",
      " 0 0 0 0 0 0 0 0 1 0 0 0 0 0 0 1 1 0 0 0 0 0 0 0 0 0 0 0 1 0 1 0 0 0 0 0 0\n",
      " 0 0 0 0 0 0 0 0 0 0 0 1 0 0 0 0 0 1 0 0 0 0 0 0 0 0 0 1 0 0 0 0 0 0 0 1 0\n",
      " 0 0 0 0 0 0 0 0 0 0 0 0 0 0 0 0 1 0 0 0 0 0 0 0 0 0 0 0 0 0 0 0 0 0 0 0 0\n",
      " 0 0 0 0 0 1 0 0 0 0 0 0 1 0 0 0 0 0 1 0 0 0 0 0 0 0 1 0 0 0 0 0 0 0 0 0 0\n",
      " 1 0 0 0 0 0 0 0 0 0 0 0 0 0 0 0 0 0 0 0 0 0 1 0 0 0 0 0 0 0 0 0 0 0 1 0 0\n",
      " 0 0 0 0 0 0 0 0 0 0 0 0 0 0 0 0 0 0 0 0]\n",
      "[ 10  14  36  58  66  69  82  89  90 102 104 122 128 138 146 164 190 197\n",
      " 203 211 222 244 256]\n"
     ]
    }
   ],
   "source": [
    "print(feat_selector.get_best_obj_and_fit())            \n",
    "print(feat_selector.selected_feature_masks)\n",
    "print(feat_selector.selected_feature_solution)\n",
    "print(feat_selector.selected_feature_indexes)"
   ]
  },
  {
   "cell_type": "markdown",
   "metadata": {
    "pycharm": {
     "name": "#%%\n"
    }
   },
   "source": [
    "## 6. Retrain and evaluate our final dataset"
   ]
  },
  {
   "cell_type": "markdown",
   "metadata": {},
   "source": [
    "### 6.1 Use the same model as feature selector to evaluate final dataset."
   ]
  },
  {
   "cell_type": "code",
   "execution_count": null,
   "outputs": [],
   "source": [
    "from mafese import evaluator\n",
    "\n",
    "res1 = evaluator.evaluate(selector=feat_selector, estimator=None, data=data, metrics=[\"AS\", \"PS\", \"RS\"])\n",
    "# AS: Accuracy score, PS: precision score, RS: recall score\n",
    "print(res1)"
   ],
   "metadata": {
    "collapsed": false,
    "pycharm": {
     "name": "#%%\n"
    }
   }
  },
  {
   "cell_type": "markdown",
   "source": [
    "### 6.2 But I want to use different model to evaluate final dataset"
   ],
   "metadata": {
    "collapsed": false,
    "pycharm": {
     "name": "#%% md\n"
    }
   }
  },
  {
   "cell_type": "code",
   "execution_count": null,
   "outputs": [],
   "source": [
    "from mafese import evaluator\n",
    "from sklearn.svm import SVC\n",
    "\n",
    "res2 = evaluator.evaluate(selector=feat_selector, estimator=SVC(), data=data, metrics=[\"AS\", \"PS\", \"RS\"])\n",
    "print(res2)"
   ],
   "metadata": {
    "collapsed": false,
    "pycharm": {
     "name": "#%%\n"
    }
   }
  },
  {
   "cell_type": "code",
   "execution_count": null,
   "metadata": {
    "pycharm": {
     "name": "#%%\n"
    }
   },
   "outputs": [],
   "source": []
  }
 ],
 "metadata": {
  "kernelspec": {
   "display_name": "Python 3 (ipykernel)",
   "language": "python",
   "name": "python3"
  },
  "language_info": {
   "codemirror_mode": {
    "name": "ipython",
    "version": 3
   },
   "file_extension": ".py",
   "mimetype": "text/x-python",
   "name": "python",
   "nbconvert_exporter": "python",
   "pygments_lexer": "ipython3",
   "version": "3.8.5"
  }
 },
 "nbformat": 4,
 "nbformat_minor": 1
}