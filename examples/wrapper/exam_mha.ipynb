{
 "cells": [
  {
   "cell_type": "code",
   "execution_count": 2,
   "metadata": {
    "pycharm": {
     "name": "#%%\n"
    }
   },
   "outputs": [],
   "source": [
    "from mafese import get_dataset\n",
    "from mafese.wrapper.mha import MhaSelector"
   ]
  },
  {
   "cell_type": "code",
   "execution_count": 3,
   "metadata": {
    "pycharm": {
     "name": "#%%\n"
    }
   },
   "outputs": [
    {
     "name": "stdout",
     "output_type": "stream",
     "text": [
      "Requested dataset: Arrhythmia found and loaded...\n"
     ]
    }
   ],
   "source": [
    "data = get_dataset(\"Arrhythmia\")\n",
    "data.split_train_test(test_size=0.2)"
   ]
  },
  {
   "cell_type": "markdown",
   "metadata": {
    "pycharm": {
     "name": "#%% md\n"
    }
   },
   "source": [
    "## 1. Use MhaSelector class to print out the supported informations"
   ]
  },
  {
   "cell_type": "code",
   "execution_count": 4,
   "metadata": {
    "pycharm": {
     "name": "#%%\n"
    }
   },
   "outputs": [
    {
     "name": "stdout",
     "output_type": "stream",
     "text": [
      "List supported Estimator\n",
      "['knn', 'rf', 'svm']\n"
     ]
    }
   ],
   "source": [
    "print(\"List supported Estimator\")\n",
    "print(MhaSelector.SUPPORTED_ESTIMATORS)"
   ]
  },
  {
   "cell_type": "code",
   "execution_count": 5,
   "metadata": {
    "pycharm": {
     "name": "#%%\n"
    }
   },
   "outputs": [
    {
     "name": "stdout",
     "output_type": "stream",
     "text": [
      "List supported Optimizer\n",
      "['OriginalABC', 'OriginalACOR', 'AugmentedAEO', 'EnhancedAEO', 'ImprovedAEO', 'ModifiedAEO', 'OriginalAEO', 'MGTO', 'OriginalAGTO', 'BaseALO', 'OriginalALO', 'OriginalAO', 'OriginalAOA', 'IARO', 'LARO', 'OriginalARO', 'OriginalASO', 'OriginalAVOA', 'OriginalArchOA', 'AdaptiveBA', 'ModifiedBA', 'OriginalBA', 'BaseBBO', 'OriginalBBO', 'OriginalBBOA', 'OriginalBES', 'ABFO', 'OriginalBFO', 'OriginalBMO', 'BaseBRO', 'OriginalBRO', 'OriginalBSA', 'ImprovedBSO', 'OriginalBSO', 'CleverBookBeesA', 'OriginalBeesA', 'ProbBeesA', 'OriginalCA', 'OriginalCDO', 'OriginalCEM', 'OriginalCGO', 'BaseCHIO', 'OriginalCHIO', 'OriginalCOA', 'OCRO', 'OriginalCRO', 'OriginalCSA', 'OriginalCSO', 'OriginalCircleSA', 'OriginalCoatiOA', 'BaseDE', 'JADE', 'L_SHADE', 'SADE', 'SAP_DE', 'SHADE', 'DevDMOA', 'OriginalDMOA', 'OriginalDO', 'BaseEFO', 'OriginalEFO', 'OriginalEHO', 'AdaptiveEO', 'ModifiedEO', 'OriginalEO', 'OriginalEOA', 'LevyEP', 'OriginalEP', 'CMA_ES', 'LevyES', 'OriginalES', 'Simple_CMA_ES', 'OriginalESOA', 'OriginalEVO', 'OriginalFA', 'BaseFBIO', 'OriginalFBIO', 'OriginalFFA', 'OriginalFFO', 'OriginalFLA', 'BaseFOA', 'OriginalFOA', 'WhaleFOA', 'OriginalFOX', 'OriginalFPA', 'BaseGA', 'EliteMultiGA', 'EliteSingleGA', 'MultiGA', 'SingleGA', 'OriginalGBO', 'BaseGCO', 'OriginalGCO', 'OriginalGJO', 'OriginalGOA', 'BaseGSKA', 'OriginalGSKA', 'Matlab101GTO', 'Matlab102GTO', 'OriginalGTO', 'GWO_WOA', 'OriginalGWO', 'RW_GWO', 'OriginalHBA', 'OriginalHBO', 'OriginalHC', 'SwarmHC', 'OriginalHCO', 'OriginalHGS', 'OriginalHGSO', 'OriginalHHO', 'BaseHS', 'OriginalHS', 'OriginalICA', 'OriginalINFO', 'OriginalIWO', 'BaseJA', 'LevyJA', 'OriginalJA', 'BaseLCO', 'ImprovedLCO', 'OriginalLCO', 'OriginalMA', 'BaseMFO', 'OriginalMFO', 'OriginalMGO', 'OriginalMPA', 'OriginalMRFO', 'WMQIMRFO', 'OriginalMSA', 'BaseMVO', 'OriginalMVO', 'OriginalNGO', 'ImprovedNMRA', 'OriginalNMRA', 'OriginalNRO', 'OriginalOOA', 'OriginalPFA', 'OriginalPOA', 'CL_PSO', 'C_PSO', 'HPSO_TVAC', 'OriginalPSO', 'PPSO', 'OriginalPSS', 'BaseQSA', 'ImprovedQSA', 'LevyQSA', 'OppoQSA', 'OriginalQSA', 'OriginalRIME', 'OriginalRUN', 'OriginalSA', 'BaseSARO', 'OriginalSARO', 'BaseSBO', 'OriginalSBO', 'BaseSCA', 'OriginalSCA', 'QleSCA', 'OriginalSCSO', 'ImprovedSFO', 'OriginalSFO', 'OriginalSHIO', 'OriginalSHO', 'ImprovedSLO', 'ModifiedSLO', 'OriginalSLO', 'BaseSMA', 'OriginalSMA', 'DevSOA', 'OriginalSOA', 'OriginalSOS', 'DevSPBO', 'OriginalSPBO', 'OriginalSRSR', 'BaseSSA', 'OriginalSSA', 'OriginalSSDO', 'OriginalSSO', 'OriginalSSpiderA', 'OriginalSSpiderO', 'OriginalSTO', 'OriginalSeaHO', 'OriginalServalOA', 'OriginalTDO', 'BaseTLO', 'ImprovedTLO', 'OriginalTLO', 'OriginalTOA', 'OriginalTPO', 'OriginalTSA', 'OriginalTSO', 'EnhancedTWO', 'LevyTWO', 'OppoTWO', 'OriginalTWO', 'BaseVCS', 'OriginalVCS', 'OriginalWCA', 'OriginalWDO', 'OriginalWHO', 'HI_WOA', 'OriginalWOA', 'OriginalWaOA', 'OriginalWarSO', 'OriginalZOA']\n"
     ]
    }
   ],
   "source": [
    "print(\"List supported Optimizer\")\n",
    "print(MhaSelector.SUPPORTED_OPTIMIZERS)"
   ]
  },
  {
   "cell_type": "code",
   "execution_count": 6,
   "metadata": {
    "pycharm": {
     "name": "#%%\n"
    }
   },
   "outputs": [
    {
     "name": "stdout",
     "output_type": "stream",
     "text": [
      "List supported transfer functions\n",
      "['vstf_01', 'vstf_02', 'vstf_03', 'vstf_04', 'sstf_01', 'sstf_02', 'sstf_03', 'sstf_04', 'rtf']\n"
     ]
    }
   ],
   "source": [
    "print(\"List supported transfer functions\")\n",
    "print(MhaSelector.SUPPORTED_TRANSFER_FUNCS)"
   ]
  },
  {
   "cell_type": "code",
   "execution_count": 7,
   "metadata": {
    "pycharm": {
     "name": "#%%\n"
    }
   },
   "outputs": [
    {
     "name": "stdout",
     "output_type": "stream",
     "text": [
      "List supported fitness metrics for regression problem\n",
      "{'MAE': 'min', 'MSE': 'min', 'RMSE': 'min', 'MRE': 'min', 'MAPE': 'min', 'MASE': 'min', 'NSE': 'max', 'NNSE': 'max', 'WI': 'max', 'PCC': 'max', 'R2s': 'max', 'R2': 'max', 'AR2': 'max', 'CI': 'max', 'KGE': 'max', 'VAF': 'max', 'A10': 'max', 'A20': 'max'}\n"
     ]
    }
   ],
   "source": [
    "print(\"List supported fitness metrics for regression problem\")\n",
    "print(MhaSelector.SUPPORTED_REG_METRICS)"
   ]
  },
  {
   "cell_type": "code",
   "execution_count": 8,
   "metadata": {
    "pycharm": {
     "name": "#%%\n"
    }
   },
   "outputs": [
    {
     "name": "stdout",
     "output_type": "stream",
     "text": [
      "List supported fitness metrics for classification problem\n",
      "{'AS': 'max', 'PS': 'max', 'NPV': 'max', 'RS': 'max', 'F1S': 'max', 'F2S': 'max', 'FBS': 'max', 'SS': 'max', 'MCC': 'max', 'JSI': 'max', 'CKS': 'max', 'ROC-AUC': 'max'}\n"
     ]
    }
   ],
   "source": [
    "print(\"List supported fitness metrics for classification problem\")\n",
    "print(MhaSelector.SUPPORTED_CLS_METRICS)"
   ]
  },
  {
   "cell_type": "markdown",
   "metadata": {
    "pycharm": {
     "name": "#%%\n"
    }
   },
   "source": [
    "## 2. Define an instance of MhaSelector "
   ]
  },
  {
   "cell_type": "code",
   "execution_count": 10,
   "metadata": {
    "pycharm": {
     "name": "#%%\n"
    }
   },
   "outputs": [],
   "source": [
    "feat_selector = MhaSelector(problem=\"classification\", estimator=\"knn\", \n",
    "                            optimizer=\"BaseGA\", optimizer_paras=None,\n",
    "                            transfer_func=\"vstf_01\", obj_name=\"AS\")"
   ]
  },
  {
   "cell_type": "markdown",
   "metadata": {
    "pycharm": {
     "name": "#%%\n"
    }
   },
   "source": [
    "## 3. Train with dataset"
   ]
  },
  {
   "cell_type": "code",
   "execution_count": 11,
   "metadata": {
    "pycharm": {
     "name": "#%%\n"
    }
   },
   "outputs": [
    {
     "name": "stderr",
     "output_type": "stream",
     "text": [
      "2023/05/27 07:45:09 AM, INFO, mealpy.evolutionary_based.GA.BaseGA: Solving 2-objective optimization problem with weights: [1. 0.].\n",
      "2023/05/27 07:45:10 AM, INFO, mealpy.evolutionary_based.GA.BaseGA: >Problem: P, Epoch: 1, Current best: 0.7492949138814903, Global best: 0.7492949138814903, Runtime: 0.33927 seconds\n",
      "2023/05/27 07:45:10 AM, INFO, mealpy.evolutionary_based.GA.BaseGA: >Problem: P, Epoch: 2, Current best: 0.774871287554162, Global best: 0.774871287554162, Runtime: 0.34486 seconds\n",
      "2023/05/27 07:45:10 AM, INFO, mealpy.evolutionary_based.GA.BaseGA: >Problem: P, Epoch: 3, Current best: 0.7875147207636568, Global best: 0.7875147207636568, Runtime: 0.32982 seconds\n",
      "2023/05/27 07:45:11 AM, INFO, mealpy.evolutionary_based.GA.BaseGA: >Problem: P, Epoch: 4, Current best: 0.8014180450645773, Global best: 0.8014180450645773, Runtime: 0.32577 seconds\n",
      "2023/05/27 07:45:11 AM, INFO, mealpy.evolutionary_based.GA.BaseGA: >Problem: P, Epoch: 5, Current best: 0.8058597772652158, Global best: 0.8058597772652158, Runtime: 0.33028 seconds\n",
      "2023/05/27 07:45:11 AM, INFO, mealpy.evolutionary_based.GA.BaseGA: >Problem: P, Epoch: 6, Current best: 0.8085882586908862, Global best: 0.8085882586908862, Runtime: 0.32064 seconds\n",
      "2023/05/27 07:45:12 AM, INFO, mealpy.evolutionary_based.GA.BaseGA: >Problem: P, Epoch: 7, Current best: 0.8186853427863237, Global best: 0.8186853427863237, Runtime: 0.34309 seconds\n",
      "2023/05/27 07:45:12 AM, INFO, mealpy.evolutionary_based.GA.BaseGA: >Problem: P, Epoch: 8, Current best: 0.8203518988528627, Global best: 0.8203518988528627, Runtime: 0.32324 seconds\n",
      "2023/05/27 07:45:12 AM, INFO, mealpy.evolutionary_based.GA.BaseGA: >Problem: P, Epoch: 9, Current best: 0.8307365494945507, Global best: 0.8307365494945507, Runtime: 0.32330 seconds\n",
      "2023/05/27 07:45:13 AM, INFO, mealpy.evolutionary_based.GA.BaseGA: >Problem: P, Epoch: 10, Current best: 0.8255928374080407, Global best: 0.8307365494945507, Runtime: 0.33901 seconds\n",
      "2023/05/27 07:45:13 AM, INFO, mealpy.evolutionary_based.GA.BaseGA: >Problem: P, Epoch: 11, Current best: 0.8315278764148603, Global best: 0.8315278764148603, Runtime: 0.34220 seconds\n",
      "2023/05/27 07:45:13 AM, INFO, mealpy.evolutionary_based.GA.BaseGA: >Problem: P, Epoch: 12, Current best: 0.8353345304311255, Global best: 0.8353345304311255, Runtime: 0.31615 seconds\n",
      "2023/05/27 07:45:14 AM, INFO, mealpy.evolutionary_based.GA.BaseGA: >Problem: P, Epoch: 13, Current best: 0.8342862658320772, Global best: 0.8353345304311255, Runtime: 0.33547 seconds\n",
      "2023/05/27 07:45:14 AM, INFO, mealpy.evolutionary_based.GA.BaseGA: >Problem: P, Epoch: 14, Current best: 0.8323780113375571, Global best: 0.8353345304311255, Runtime: 0.32821 seconds\n",
      "2023/05/27 07:45:14 AM, INFO, mealpy.evolutionary_based.GA.BaseGA: >Problem: P, Epoch: 15, Current best: 0.8286793898556312, Global best: 0.8353345304311255, Runtime: 0.32785 seconds\n",
      "2023/05/27 07:45:15 AM, INFO, mealpy.evolutionary_based.GA.BaseGA: >Problem: P, Epoch: 16, Current best: 0.8280546785101982, Global best: 0.8353345304311255, Runtime: 0.32520 seconds\n",
      "2023/05/27 07:45:15 AM, INFO, mealpy.evolutionary_based.GA.BaseGA: >Problem: P, Epoch: 17, Current best: 0.833870055957743, Global best: 0.8353345304311255, Runtime: 0.33940 seconds\n",
      "2023/05/27 07:45:15 AM, INFO, mealpy.evolutionary_based.GA.BaseGA: >Problem: P, Epoch: 18, Current best: 0.837030828138409, Global best: 0.837030828138409, Runtime: 0.32443 seconds\n",
      "2023/05/27 07:45:16 AM, INFO, mealpy.evolutionary_based.GA.BaseGA: >Problem: P, Epoch: 19, Current best: 0.8413635269712262, Global best: 0.8413635269712262, Runtime: 0.33949 seconds\n",
      "2023/05/27 07:45:16 AM, INFO, mealpy.evolutionary_based.GA.BaseGA: >Problem: P, Epoch: 20, Current best: 0.8336280336229429, Global best: 0.8413635269712262, Runtime: 0.32735 seconds\n",
      "2023/05/27 07:45:16 AM, INFO, mealpy.evolutionary_based.GA.BaseGA: >Problem: P, Epoch: 21, Current best: 0.8295569178458063, Global best: 0.8413635269712262, Runtime: 0.33962 seconds\n",
      "2023/05/27 07:45:17 AM, INFO, mealpy.evolutionary_based.GA.BaseGA: >Problem: P, Epoch: 22, Current best: 0.8346051981459769, Global best: 0.8413635269712262, Runtime: 0.31530 seconds\n",
      "2023/05/27 07:45:17 AM, INFO, mealpy.evolutionary_based.GA.BaseGA: >Problem: P, Epoch: 23, Current best: 0.8352471833012741, Global best: 0.8413635269712262, Runtime: 0.31954 seconds\n",
      "2023/05/27 07:45:17 AM, INFO, mealpy.evolutionary_based.GA.BaseGA: >Problem: P, Epoch: 24, Current best: 0.8373549889257963, Global best: 0.8413635269712262, Runtime: 0.31474 seconds\n",
      "2023/05/27 07:45:18 AM, INFO, mealpy.evolutionary_based.GA.BaseGA: >Problem: P, Epoch: 25, Current best: 0.833725198986118, Global best: 0.8413635269712262, Runtime: 0.31382 seconds\n",
      "2023/05/27 07:45:18 AM, INFO, mealpy.evolutionary_based.GA.BaseGA: >Problem: P, Epoch: 26, Current best: 0.8418698203432681, Global best: 0.8418698203432681, Runtime: 0.33360 seconds\n",
      "2023/05/27 07:45:18 AM, INFO, mealpy.evolutionary_based.GA.BaseGA: >Problem: P, Epoch: 27, Current best: 0.8352751038101174, Global best: 0.8418698203432681, Runtime: 0.32073 seconds\n",
      "2023/05/27 07:45:18 AM, INFO, mealpy.evolutionary_based.GA.BaseGA: >Problem: P, Epoch: 28, Current best: 0.8359245604447172, Global best: 0.8418698203432681, Runtime: 0.31691 seconds\n",
      "2023/05/27 07:45:19 AM, INFO, mealpy.evolutionary_based.GA.BaseGA: >Problem: P, Epoch: 29, Current best: 0.835219904196992, Global best: 0.8418698203432681, Runtime: 0.31911 seconds\n",
      "2023/05/27 07:45:19 AM, INFO, mealpy.evolutionary_based.GA.BaseGA: >Problem: P, Epoch: 30, Current best: 0.8382038971410236, Global best: 0.8418698203432681, Runtime: 0.32978 seconds\n",
      "2023/05/27 07:45:19 AM, INFO, mealpy.evolutionary_based.GA.BaseGA: >Problem: P, Epoch: 31, Current best: 0.8376185163271588, Global best: 0.8418698203432681, Runtime: 0.31708 seconds\n",
      "2023/05/27 07:45:20 AM, INFO, mealpy.evolutionary_based.GA.BaseGA: >Problem: P, Epoch: 32, Current best: 0.8379202850702803, Global best: 0.8418698203432681, Runtime: 0.31479 seconds\n",
      "2023/05/27 07:45:20 AM, INFO, mealpy.evolutionary_based.GA.BaseGA: >Problem: P, Epoch: 33, Current best: 0.836961401457014, Global best: 0.8418698203432681, Runtime: 0.33144 seconds\n",
      "2023/05/27 07:45:20 AM, INFO, mealpy.evolutionary_based.GA.BaseGA: >Problem: P, Epoch: 34, Current best: 0.8391845030447015, Global best: 0.8418698203432681, Runtime: 0.32133 seconds\n",
      "2023/05/27 07:45:21 AM, INFO, mealpy.evolutionary_based.GA.BaseGA: >Problem: P, Epoch: 35, Current best: 0.8376817577648886, Global best: 0.8418698203432681, Runtime: 0.32195 seconds\n",
      "2023/05/27 07:45:21 AM, INFO, mealpy.evolutionary_based.GA.BaseGA: >Problem: P, Epoch: 36, Current best: 0.8379237257761785, Global best: 0.8418698203432681, Runtime: 0.32975 seconds\n",
      "2023/05/27 07:45:21 AM, INFO, mealpy.evolutionary_based.GA.BaseGA: >Problem: P, Epoch: 37, Current best: 0.8401179377086537, Global best: 0.8418698203432681, Runtime: 0.32282 seconds\n",
      "2023/05/27 07:45:22 AM, INFO, mealpy.evolutionary_based.GA.BaseGA: >Problem: P, Epoch: 38, Current best: 0.8365285557632219, Global best: 0.8418698203432681, Runtime: 0.31976 seconds\n",
      "2023/05/27 07:45:22 AM, INFO, mealpy.evolutionary_based.GA.BaseGA: >Problem: P, Epoch: 39, Current best: 0.8423066089286799, Global best: 0.8423066089286799, Runtime: 0.32841 seconds\n",
      "2023/05/27 07:45:22 AM, INFO, mealpy.evolutionary_based.GA.BaseGA: >Problem: P, Epoch: 40, Current best: 0.831589306334479, Global best: 0.8423066089286799, Runtime: 0.31819 seconds\n",
      "2023/05/27 07:45:23 AM, INFO, mealpy.evolutionary_based.GA.BaseGA: >Problem: P, Epoch: 41, Current best: 0.8379274644703033, Global best: 0.8423066089286799, Runtime: 0.35050 seconds\n",
      "2023/05/27 07:45:23 AM, INFO, mealpy.evolutionary_based.GA.BaseGA: >Problem: P, Epoch: 42, Current best: 0.8352500098544251, Global best: 0.8423066089286799, Runtime: 0.36000 seconds\n",
      "2023/05/27 07:45:23 AM, INFO, mealpy.evolutionary_based.GA.BaseGA: >Problem: P, Epoch: 43, Current best: 0.8374780340137622, Global best: 0.8423066089286799, Runtime: 0.36039 seconds\n",
      "2023/05/27 07:45:24 AM, INFO, mealpy.evolutionary_based.GA.BaseGA: >Problem: P, Epoch: 44, Current best: 0.8404323250123837, Global best: 0.8423066089286799, Runtime: 0.45052 seconds\n",
      "2023/05/27 07:45:24 AM, INFO, mealpy.evolutionary_based.GA.BaseGA: >Problem: P, Epoch: 45, Current best: 0.8366386668477347, Global best: 0.8423066089286799, Runtime: 0.44282 seconds\n"
     ]
    },
    {
     "name": "stderr",
     "output_type": "stream",
     "text": [
      "2023/05/27 07:45:25 AM, INFO, mealpy.evolutionary_based.GA.BaseGA: >Problem: P, Epoch: 46, Current best: 0.8337174789636191, Global best: 0.8423066089286799, Runtime: 0.55186 seconds\n",
      "2023/05/27 07:45:25 AM, INFO, mealpy.evolutionary_based.GA.BaseGA: >Problem: P, Epoch: 47, Current best: 0.8411097503175683, Global best: 0.8423066089286799, Runtime: 0.35413 seconds\n",
      "2023/05/27 07:45:26 AM, INFO, mealpy.evolutionary_based.GA.BaseGA: >Problem: P, Epoch: 48, Current best: 0.8382199022306313, Global best: 0.8423066089286799, Runtime: 0.34980 seconds\n",
      "2023/05/27 07:45:26 AM, INFO, mealpy.evolutionary_based.GA.BaseGA: >Problem: P, Epoch: 49, Current best: 0.8325005450362636, Global best: 0.8423066089286799, Runtime: 0.32006 seconds\n",
      "2023/05/27 07:45:26 AM, INFO, mealpy.evolutionary_based.GA.BaseGA: >Problem: P, Epoch: 50, Current best: 0.8366129133440123, Global best: 0.8423066089286799, Runtime: 0.32350 seconds\n",
      "2023/05/27 07:45:27 AM, INFO, mealpy.evolutionary_based.GA.BaseGA: >Problem: P, Epoch: 51, Current best: 0.832493207505201, Global best: 0.8423066089286799, Runtime: 0.31543 seconds\n",
      "2023/05/27 07:45:27 AM, INFO, mealpy.evolutionary_based.GA.BaseGA: >Problem: P, Epoch: 52, Current best: 0.8332854722322494, Global best: 0.8423066089286799, Runtime: 0.31993 seconds\n",
      "2023/05/27 07:45:27 AM, INFO, mealpy.evolutionary_based.GA.BaseGA: >Problem: P, Epoch: 53, Current best: 0.8341047479523368, Global best: 0.8423066089286799, Runtime: 0.32134 seconds\n",
      "2023/05/27 07:45:28 AM, INFO, mealpy.evolutionary_based.GA.BaseGA: >Problem: P, Epoch: 54, Current best: 0.8365872619699969, Global best: 0.8423066089286799, Runtime: 0.31713 seconds\n",
      "2023/05/27 07:45:28 AM, INFO, mealpy.evolutionary_based.GA.BaseGA: >Problem: P, Epoch: 55, Current best: 0.8361091248012702, Global best: 0.8423066089286799, Runtime: 0.31792 seconds\n",
      "2023/05/27 07:45:28 AM, INFO, mealpy.evolutionary_based.GA.BaseGA: >Problem: P, Epoch: 56, Current best: 0.8385909651596459, Global best: 0.8423066089286799, Runtime: 0.32470 seconds\n",
      "2023/05/27 07:45:29 AM, INFO, mealpy.evolutionary_based.GA.BaseGA: >Problem: P, Epoch: 57, Current best: 0.8374873711687187, Global best: 0.8423066089286799, Runtime: 0.34037 seconds\n",
      "2023/05/27 07:45:29 AM, INFO, mealpy.evolutionary_based.GA.BaseGA: >Problem: P, Epoch: 58, Current best: 0.8395078852876912, Global best: 0.8423066089286799, Runtime: 0.33125 seconds\n",
      "2023/05/27 07:45:29 AM, INFO, mealpy.evolutionary_based.GA.BaseGA: >Problem: P, Epoch: 59, Current best: 0.84248798825735, Global best: 0.84248798825735, Runtime: 0.34494 seconds\n",
      "2023/05/27 07:45:30 AM, INFO, mealpy.evolutionary_based.GA.BaseGA: >Problem: P, Epoch: 60, Current best: 0.837982111009112, Global best: 0.84248798825735, Runtime: 0.34660 seconds\n",
      "2023/05/27 07:45:30 AM, INFO, mealpy.evolutionary_based.GA.BaseGA: >Problem: P, Epoch: 61, Current best: 0.8361992503062792, Global best: 0.84248798825735, Runtime: 0.34523 seconds\n",
      "2023/05/27 07:45:30 AM, INFO, mealpy.evolutionary_based.GA.BaseGA: >Problem: P, Epoch: 62, Current best: 0.8391654734368111, Global best: 0.84248798825735, Runtime: 0.37039 seconds\n",
      "2023/05/27 07:45:31 AM, INFO, mealpy.evolutionary_based.GA.BaseGA: >Problem: P, Epoch: 63, Current best: 0.8352883470141056, Global best: 0.84248798825735, Runtime: 0.40828 seconds\n",
      "2023/05/27 07:45:31 AM, INFO, mealpy.evolutionary_based.GA.BaseGA: >Problem: P, Epoch: 64, Current best: 0.8375123990521284, Global best: 0.84248798825735, Runtime: 0.34480 seconds\n",
      "2023/05/27 07:45:31 AM, INFO, mealpy.evolutionary_based.GA.BaseGA: >Problem: P, Epoch: 65, Current best: 0.83282951148836, Global best: 0.84248798825735, Runtime: 0.34378 seconds\n",
      "2023/05/27 07:45:32 AM, INFO, mealpy.evolutionary_based.GA.BaseGA: >Problem: P, Epoch: 66, Current best: 0.8327146512513242, Global best: 0.84248798825735, Runtime: 0.35583 seconds\n",
      "2023/05/27 07:45:32 AM, INFO, mealpy.evolutionary_based.GA.BaseGA: >Problem: P, Epoch: 67, Current best: 0.8313802780408953, Global best: 0.84248798825735, Runtime: 0.34366 seconds\n",
      "2023/05/27 07:45:32 AM, INFO, mealpy.evolutionary_based.GA.BaseGA: >Problem: P, Epoch: 68, Current best: 0.8347583969786375, Global best: 0.84248798825735, Runtime: 0.33842 seconds\n",
      "2023/05/27 07:45:33 AM, INFO, mealpy.evolutionary_based.GA.BaseGA: >Problem: P, Epoch: 69, Current best: 0.83341062059711, Global best: 0.84248798825735, Runtime: 0.32549 seconds\n",
      "2023/05/27 07:45:33 AM, INFO, mealpy.evolutionary_based.GA.BaseGA: >Problem: P, Epoch: 70, Current best: 0.837680392147735, Global best: 0.84248798825735, Runtime: 0.33082 seconds\n",
      "2023/05/27 07:45:33 AM, INFO, mealpy.evolutionary_based.GA.BaseGA: >Problem: P, Epoch: 71, Current best: 0.8342357595917373, Global best: 0.84248798825735, Runtime: 0.34827 seconds\n",
      "2023/05/27 07:45:34 AM, INFO, mealpy.evolutionary_based.GA.BaseGA: >Problem: P, Epoch: 72, Current best: 0.8388873614052441, Global best: 0.84248798825735, Runtime: 0.33007 seconds\n",
      "2023/05/27 07:45:34 AM, INFO, mealpy.evolutionary_based.GA.BaseGA: >Problem: P, Epoch: 73, Current best: 0.8337631106908499, Global best: 0.84248798825735, Runtime: 0.34921 seconds\n",
      "2023/05/27 07:45:34 AM, INFO, mealpy.evolutionary_based.GA.BaseGA: >Problem: P, Epoch: 74, Current best: 0.8380279798326326, Global best: 0.84248798825735, Runtime: 0.33267 seconds\n",
      "2023/05/27 07:45:35 AM, INFO, mealpy.evolutionary_based.GA.BaseGA: >Problem: P, Epoch: 75, Current best: 0.8388360729348705, Global best: 0.84248798825735, Runtime: 0.35533 seconds\n",
      "2023/05/27 07:45:35 AM, INFO, mealpy.evolutionary_based.GA.BaseGA: >Problem: P, Epoch: 76, Current best: 0.8321861542550474, Global best: 0.84248798825735, Runtime: 0.36386 seconds\n",
      "2023/05/27 07:45:35 AM, INFO, mealpy.evolutionary_based.GA.BaseGA: >Problem: P, Epoch: 77, Current best: 0.8329346899959181, Global best: 0.84248798825735, Runtime: 0.34465 seconds\n",
      "2023/05/27 07:45:36 AM, INFO, mealpy.evolutionary_based.GA.BaseGA: >Problem: P, Epoch: 78, Current best: 0.839582648838435, Global best: 0.84248798825735, Runtime: 0.34884 seconds\n",
      "2023/05/27 07:45:36 AM, INFO, mealpy.evolutionary_based.GA.BaseGA: >Problem: P, Epoch: 79, Current best: 0.8304980546660768, Global best: 0.84248798825735, Runtime: 0.34540 seconds\n",
      "2023/05/27 07:45:37 AM, INFO, mealpy.evolutionary_based.GA.BaseGA: >Problem: P, Epoch: 80, Current best: 0.8285822315001857, Global best: 0.84248798825735, Runtime: 0.34183 seconds\n",
      "2023/05/27 07:45:37 AM, INFO, mealpy.evolutionary_based.GA.BaseGA: >Problem: P, Epoch: 81, Current best: 0.8345282961220001, Global best: 0.84248798825735, Runtime: 0.34050 seconds\n",
      "2023/05/27 07:45:37 AM, INFO, mealpy.evolutionary_based.GA.BaseGA: >Problem: P, Epoch: 82, Current best: 0.8400912615354171, Global best: 0.84248798825735, Runtime: 0.33391 seconds\n",
      "2023/05/27 07:45:38 AM, INFO, mealpy.evolutionary_based.GA.BaseGA: >Problem: P, Epoch: 83, Current best: 0.8331464634450777, Global best: 0.84248798825735, Runtime: 0.34173 seconds\n",
      "2023/05/27 07:45:38 AM, INFO, mealpy.evolutionary_based.GA.BaseGA: >Problem: P, Epoch: 84, Current best: 0.837742824203411, Global best: 0.84248798825735, Runtime: 0.40881 seconds\n",
      "2023/05/27 07:45:38 AM, INFO, mealpy.evolutionary_based.GA.BaseGA: >Problem: P, Epoch: 85, Current best: 0.831032236858549, Global best: 0.84248798825735, Runtime: 0.47692 seconds\n",
      "2023/05/27 07:45:39 AM, INFO, mealpy.evolutionary_based.GA.BaseGA: >Problem: P, Epoch: 86, Current best: 0.8307145848559446, Global best: 0.84248798825735, Runtime: 0.40682 seconds\n",
      "2023/05/27 07:45:39 AM, INFO, mealpy.evolutionary_based.GA.BaseGA: >Problem: P, Epoch: 87, Current best: 0.8347927288919214, Global best: 0.84248798825735, Runtime: 0.34419 seconds\n",
      "2023/05/27 07:45:40 AM, INFO, mealpy.evolutionary_based.GA.BaseGA: >Problem: P, Epoch: 88, Current best: 0.8348234780541939, Global best: 0.84248798825735, Runtime: 0.38260 seconds\n",
      "2023/05/27 07:45:40 AM, INFO, mealpy.evolutionary_based.GA.BaseGA: >Problem: P, Epoch: 89, Current best: 0.8341793048228094, Global best: 0.84248798825735, Runtime: 0.37744 seconds\n",
      "2023/05/27 07:45:40 AM, INFO, mealpy.evolutionary_based.GA.BaseGA: >Problem: P, Epoch: 90, Current best: 0.8401752561676245, Global best: 0.84248798825735, Runtime: 0.33380 seconds\n",
      "2023/05/27 07:45:41 AM, INFO, mealpy.evolutionary_based.GA.BaseGA: >Problem: P, Epoch: 91, Current best: 0.8397707988840023, Global best: 0.84248798825735, Runtime: 0.35571 seconds\n"
     ]
    },
    {
     "name": "stderr",
     "output_type": "stream",
     "text": [
      "2023/05/27 07:45:41 AM, INFO, mealpy.evolutionary_based.GA.BaseGA: >Problem: P, Epoch: 92, Current best: 0.8339654964007271, Global best: 0.84248798825735, Runtime: 0.34147 seconds\n",
      "2023/05/27 07:45:41 AM, INFO, mealpy.evolutionary_based.GA.BaseGA: >Problem: P, Epoch: 93, Current best: 0.8330930512559885, Global best: 0.84248798825735, Runtime: 0.32898 seconds\n",
      "2023/05/27 07:45:42 AM, INFO, mealpy.evolutionary_based.GA.BaseGA: >Problem: P, Epoch: 94, Current best: 0.8343183441431022, Global best: 0.84248798825735, Runtime: 0.33380 seconds\n",
      "2023/05/27 07:45:42 AM, INFO, mealpy.evolutionary_based.GA.BaseGA: >Problem: P, Epoch: 95, Current best: 0.8369786713355437, Global best: 0.84248798825735, Runtime: 0.37562 seconds\n",
      "2023/05/27 07:45:42 AM, INFO, mealpy.evolutionary_based.GA.BaseGA: >Problem: P, Epoch: 96, Current best: 0.832619947635795, Global best: 0.84248798825735, Runtime: 0.35880 seconds\n",
      "2023/05/27 07:45:43 AM, INFO, mealpy.evolutionary_based.GA.BaseGA: >Problem: P, Epoch: 97, Current best: 0.836980851450903, Global best: 0.84248798825735, Runtime: 0.35932 seconds\n",
      "2023/05/27 07:45:43 AM, INFO, mealpy.evolutionary_based.GA.BaseGA: >Problem: P, Epoch: 98, Current best: 0.8396881553763421, Global best: 0.84248798825735, Runtime: 0.38872 seconds\n",
      "2023/05/27 07:45:43 AM, INFO, mealpy.evolutionary_based.GA.BaseGA: >Problem: P, Epoch: 99, Current best: 0.8342837898997512, Global best: 0.84248798825735, Runtime: 0.35634 seconds\n",
      "2023/05/27 07:45:44 AM, INFO, mealpy.evolutionary_based.GA.BaseGA: >Problem: P, Epoch: 100, Current best: 0.8434401770132786, Global best: 0.8434401770132786, Runtime: 0.36261 seconds\n"
     ]
    }
   ],
   "source": [
    "feat_selector.fit(data.X_train, data.y_train)"
   ]
  },
  {
   "cell_type": "markdown",
   "metadata": {
    "pycharm": {
     "name": "#%%\n"
    }
   },
   "source": [
    "## 4. Transform the dataset "
   ]
  },
  {
   "cell_type": "code",
   "execution_count": 12,
   "metadata": {},
   "outputs": [
    {
     "name": "stdout",
     "output_type": "stream",
     "text": [
      "Original Dataset: (361, 279)\n",
      "Selected dataset: (91, 25)\n"
     ]
    }
   ],
   "source": [
    "X_selected = feat_selector.transform(data.X_test)\n",
    "print(f\"Original Dataset: {data.X_train.shape}\")        \n",
    "print(f\"Selected dataset: {X_selected.shape}\")        "
   ]
  },
  {
   "cell_type": "markdown",
   "metadata": {},
   "source": [
    "## 5. Get some informations"
   ]
  },
  {
   "cell_type": "code",
   "execution_count": 13,
   "metadata": {
    "pycharm": {
     "name": "#%%\n"
    }
   },
   "outputs": [
    {
     "name": "stdout",
     "output_type": "stream",
     "text": [
      "{'obj': 0.93773, 'fit': 0.8434401770132786}\n",
      "[False False False False False False False  True False False False False\n",
      " False False False False False False False False False False False False\n",
      "  True False False False False False False False False False False False\n",
      " False False  True False False False False  True False  True False False\n",
      " False False False False False False  True False False False False False\n",
      " False False False False False  True False False False False False False\n",
      "  True False False False False False False False False False False False\n",
      " False False False False False False  True False False False False False\n",
      " False False False False False False  True  True False False False False\n",
      " False False False False False  True False False False False False  True\n",
      " False False False False False False False False False False False False\n",
      " False False False False False False False False False False False False\n",
      " False False False False False False False False False False False False\n",
      " False False False False False False False False  True False False False\n",
      " False False  True False False False  True False False False False False\n",
      " False False False False False False False False False False False False\n",
      " False False False False  True False False False False  True False False\n",
      "  True False False False False False False False False False False False\n",
      " False  True False False False False False False False False False  True\n",
      " False False False False False False False False False False False False\n",
      " False  True False False False False  True False False False False False\n",
      " False False False False False False False False  True False False False\n",
      " False False False False False False False False False False False False\n",
      " False  True False]\n",
      "[0 0 0 0 0 0 0 1 0 0 0 0 0 0 0 0 0 0 0 0 0 0 0 0 1 0 0 0 0 0 0 0 0 0 0 0 0\n",
      " 0 1 0 0 0 0 1 0 1 0 0 0 0 0 0 0 0 1 0 0 0 0 0 0 0 0 0 0 1 0 0 0 0 0 0 1 0\n",
      " 0 0 0 0 0 0 0 0 0 0 0 0 0 0 0 0 1 0 0 0 0 0 0 0 0 0 0 0 1 1 0 0 0 0 0 0 0\n",
      " 0 0 1 0 0 0 0 0 1 0 0 0 0 0 0 0 0 0 0 0 0 0 0 0 0 0 0 0 0 0 0 0 0 0 0 0 0\n",
      " 0 0 0 0 0 0 0 0 0 0 0 0 0 0 0 0 1 0 0 0 0 0 1 0 0 0 1 0 0 0 0 0 0 0 0 0 0\n",
      " 0 0 0 0 0 0 0 0 0 0 0 1 0 0 0 0 1 0 0 1 0 0 0 0 0 0 0 0 0 0 0 0 1 0 0 0 0\n",
      " 0 0 0 0 0 1 0 0 0 0 0 0 0 0 0 0 0 0 0 1 0 0 0 0 1 0 0 0 0 0 0 0 0 0 0 0 0\n",
      " 0 1 0 0 0 0 0 0 0 0 0 0 0 0 0 0 0 0 1 0]\n",
      "[  7  24  38  43  45  54  65  72  90 102 103 113 119 164 170 174 196 201\n",
      " 204 217 227 241 246 260 277]\n"
     ]
    }
   ],
   "source": [
    "print(feat_selector.get_best_obj_and_fit())            \n",
    "print(feat_selector.selected_feature_masks)\n",
    "print(feat_selector.selected_feature_solution)\n",
    "print(feat_selector.selected_feature_indexes)"
   ]
  },
  {
   "cell_type": "code",
   "execution_count": null,
   "metadata": {
    "pycharm": {
     "name": "#%%\n"
    }
   },
   "outputs": [],
   "source": []
  },
  {
   "cell_type": "code",
   "execution_count": null,
   "metadata": {
    "pycharm": {
     "name": "#%%\n"
    }
   },
   "outputs": [],
   "source": []
  }
 ],
 "metadata": {
  "kernelspec": {
   "display_name": "Python 3 (ipykernel)",
   "language": "python",
   "name": "python3"
  },
  "language_info": {
   "codemirror_mode": {
    "name": "ipython",
    "version": 3
   },
   "file_extension": ".py",
   "mimetype": "text/x-python",
   "name": "python",
   "nbconvert_exporter": "python",
   "pygments_lexer": "ipython3",
   "version": "3.8.5"
  }
 },
 "nbformat": 4,
 "nbformat_minor": 1
}